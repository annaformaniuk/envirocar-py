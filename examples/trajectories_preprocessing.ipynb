{
 "cells": [
  {
   "cell_type": "code",
   "execution_count": 1,
   "metadata": {},
   "outputs": [],
   "source": [
    "%load_ext autoreload\n",
    "%autoreload 2\n",
    "\n",
    "# load dependencies'\n",
    "import pandas as pd\n",
    "import geopandas as gpd\n",
    "import matplotlib.pyplot as plt\n",
    "from envirocar import TrackAPI, DownloadClient, BboxSelector, ECConfig, Preprocessing, Trajectory, TrackConverter"
   ]
  },
  {
   "cell_type": "code",
   "execution_count": 2,
   "metadata": {},
   "outputs": [
    {
     "output_type": "stream",
     "name": "stdout",
     "text": "Initializing pre-processing class\nInitializing TrackConverter class\n"
    }
   ],
   "source": [
    "# create an initial but optional config and an api client\n",
    "config = ECConfig()\n",
    "track_api = TrackAPI(api_client=DownloadClient(config=config))\n",
    "preprocessing = Preprocessing()\n",
    "track_converter = TrackConverter()\n",
    "\n",
    "bbox = BboxSelector([\n",
    "    7.554130554199218, # min_x\n",
    "    51.95590322041212, # min_y\n",
    "    7.590351104736328, # max_x\n",
    "    51.97874790276371  # max_y\n",
    "])\n",
    "\n",
    "# issue a query\n",
    "track_df = track_api.get_tracks(bbox=bbox, num_results=50) # requesting tracks inside the bbox\n",
    "\n",
    "# use just one track\n",
    "# 'track' is appended to non-sensor related column names while pulling the data using track_api client\n",
    "single_track_id = track_df['track.id'].unique()[1]\n",
    "single_track = track_df[track_df['track.id'] == single_track_id]\n"
   ]
  },
  {
   "cell_type": "code",
   "execution_count": 62,
   "metadata": {},
   "outputs": [
    {
     "output_type": "execute_result",
     "data": {
      "text/plain": "'Trajectory 5ddfd2ba44ea85025c02d828 (2019-11-28T13:41:36 to 2019-11-28T13:57:24) | Size: 186'"
     },
     "metadata": {},
     "execution_count": 62
    }
   ],
   "source": [
    "# represent single track as a Trajectory object\n",
    "trajectory = Trajectory(single_track_id, track_df, 'track.id')\n",
    "str(trajectory)"
   ]
  },
  {
   "cell_type": "code",
   "execution_count": 63,
   "metadata": {},
   "outputs": [
    {
     "output_type": "execute_result",
     "data": {
      "text/plain": "[<matplotlib.lines.Line2D at 0x272cacb1f88>]"
     },
     "metadata": {},
     "execution_count": 63
    },
    {
     "output_type": "display_data",
     "data": {
      "text/plain": "<Figure size 432x288 with 1 Axes>",
      "image/svg+xml": "<?xml version=\"1.0\" encoding=\"utf-8\" standalone=\"no\"?>\r\n<!DOCTYPE svg PUBLIC \"-//W3C//DTD SVG 1.1//EN\"\r\n  \"http://www.w3.org/Graphics/SVG/1.1/DTD/svg11.dtd\">\r\n<!-- Created with matplotlib (https://matplotlib.org/) -->\r\n<svg height=\"248.518125pt\" version=\"1.1\" viewBox=\"0 0 391.190625 248.518125\" width=\"391.190625pt\" xmlns=\"http://www.w3.org/2000/svg\" xmlns:xlink=\"http://www.w3.org/1999/xlink\">\r\n <defs>\r\n  <style type=\"text/css\">\r\n*{stroke-linecap:butt;stroke-linejoin:round;}\r\n  </style>\r\n </defs>\r\n <g id=\"figure_1\">\r\n  <g id=\"patch_1\">\r\n   <path d=\"M 0 248.518125 \r\nL 391.190625 248.518125 \r\nL 391.190625 0 \r\nL 0 0 \r\nz\r\n\" style=\"fill:none;\"/>\r\n  </g>\r\n  <g id=\"axes_1\">\r\n   <g id=\"patch_2\">\r\n    <path d=\"M 49.190625 224.64 \r\nL 383.990625 224.64 \r\nL 383.990625 7.2 \r\nL 49.190625 7.2 \r\nz\r\n\" style=\"fill:#ffffff;\"/>\r\n   </g>\r\n   <g id=\"matplotlib.axis_1\">\r\n    <g id=\"xtick_1\">\r\n     <g id=\"line2d_1\">\r\n      <defs>\r\n       <path d=\"M 0 0 \r\nL 0 3.5 \r\n\" id=\"mb18690ee87\" style=\"stroke:#000000;stroke-width:0.8;\"/>\r\n      </defs>\r\n      <g>\r\n       <use style=\"stroke:#000000;stroke-width:0.8;\" x=\"79.235854\" xlink:href=\"#mb18690ee87\" y=\"224.64\"/>\r\n      </g>\r\n     </g>\r\n     <g id=\"text_1\">\r\n      <!-- 7.59 -->\r\n      <defs>\r\n       <path d=\"M 8.203125 72.90625 \r\nL 55.078125 72.90625 \r\nL 55.078125 68.703125 \r\nL 28.609375 0 \r\nL 18.3125 0 \r\nL 43.21875 64.59375 \r\nL 8.203125 64.59375 \r\nz\r\n\" id=\"DejaVuSans-55\"/>\r\n       <path d=\"M 10.6875 12.40625 \r\nL 21 12.40625 \r\nL 21 0 \r\nL 10.6875 0 \r\nz\r\n\" id=\"DejaVuSans-46\"/>\r\n       <path d=\"M 10.796875 72.90625 \r\nL 49.515625 72.90625 \r\nL 49.515625 64.59375 \r\nL 19.828125 64.59375 \r\nL 19.828125 46.734375 \r\nQ 21.96875 47.46875 24.109375 47.828125 \r\nQ 26.265625 48.1875 28.421875 48.1875 \r\nQ 40.625 48.1875 47.75 41.5 \r\nQ 54.890625 34.8125 54.890625 23.390625 \r\nQ 54.890625 11.625 47.5625 5.09375 \r\nQ 40.234375 -1.421875 26.90625 -1.421875 \r\nQ 22.3125 -1.421875 17.546875 -0.640625 \r\nQ 12.796875 0.140625 7.71875 1.703125 \r\nL 7.71875 11.625 \r\nQ 12.109375 9.234375 16.796875 8.0625 \r\nQ 21.484375 6.890625 26.703125 6.890625 \r\nQ 35.15625 6.890625 40.078125 11.328125 \r\nQ 45.015625 15.765625 45.015625 23.390625 \r\nQ 45.015625 31 40.078125 35.4375 \r\nQ 35.15625 39.890625 26.703125 39.890625 \r\nQ 22.75 39.890625 18.8125 39.015625 \r\nQ 14.890625 38.140625 10.796875 36.28125 \r\nz\r\n\" id=\"DejaVuSans-53\"/>\r\n       <path d=\"M 10.984375 1.515625 \r\nL 10.984375 10.5 \r\nQ 14.703125 8.734375 18.5 7.8125 \r\nQ 22.3125 6.890625 25.984375 6.890625 \r\nQ 35.75 6.890625 40.890625 13.453125 \r\nQ 46.046875 20.015625 46.78125 33.40625 \r\nQ 43.953125 29.203125 39.59375 26.953125 \r\nQ 35.25 24.703125 29.984375 24.703125 \r\nQ 19.046875 24.703125 12.671875 31.3125 \r\nQ 6.296875 37.9375 6.296875 49.421875 \r\nQ 6.296875 60.640625 12.9375 67.421875 \r\nQ 19.578125 74.21875 30.609375 74.21875 \r\nQ 43.265625 74.21875 49.921875 64.515625 \r\nQ 56.59375 54.828125 56.59375 36.375 \r\nQ 56.59375 19.140625 48.40625 8.859375 \r\nQ 40.234375 -1.421875 26.421875 -1.421875 \r\nQ 22.703125 -1.421875 18.890625 -0.6875 \r\nQ 15.09375 0.046875 10.984375 1.515625 \r\nz\r\nM 30.609375 32.421875 \r\nQ 37.25 32.421875 41.125 36.953125 \r\nQ 45.015625 41.5 45.015625 49.421875 \r\nQ 45.015625 57.28125 41.125 61.84375 \r\nQ 37.25 66.40625 30.609375 66.40625 \r\nQ 23.96875 66.40625 20.09375 61.84375 \r\nQ 16.21875 57.28125 16.21875 49.421875 \r\nQ 16.21875 41.5 20.09375 36.953125 \r\nQ 23.96875 32.421875 30.609375 32.421875 \r\nz\r\n\" id=\"DejaVuSans-57\"/>\r\n      </defs>\r\n      <g transform=\"translate(68.103042 239.238438)scale(0.1 -0.1)\">\r\n       <use xlink:href=\"#DejaVuSans-55\"/>\r\n       <use x=\"63.623047\" xlink:href=\"#DejaVuSans-46\"/>\r\n       <use x=\"95.410156\" xlink:href=\"#DejaVuSans-53\"/>\r\n       <use x=\"159.033203\" xlink:href=\"#DejaVuSans-57\"/>\r\n      </g>\r\n     </g>\r\n    </g>\r\n    <g id=\"xtick_2\">\r\n     <g id=\"line2d_2\">\r\n      <g>\r\n       <use style=\"stroke:#000000;stroke-width:0.8;\" x=\"127.389714\" xlink:href=\"#mb18690ee87\" y=\"224.64\"/>\r\n      </g>\r\n     </g>\r\n     <g id=\"text_2\">\r\n      <!-- 7.60 -->\r\n      <defs>\r\n       <path d=\"M 33.015625 40.375 \r\nQ 26.375 40.375 22.484375 35.828125 \r\nQ 18.609375 31.296875 18.609375 23.390625 \r\nQ 18.609375 15.53125 22.484375 10.953125 \r\nQ 26.375 6.390625 33.015625 6.390625 \r\nQ 39.65625 6.390625 43.53125 10.953125 \r\nQ 47.40625 15.53125 47.40625 23.390625 \r\nQ 47.40625 31.296875 43.53125 35.828125 \r\nQ 39.65625 40.375 33.015625 40.375 \r\nz\r\nM 52.59375 71.296875 \r\nL 52.59375 62.3125 \r\nQ 48.875 64.0625 45.09375 64.984375 \r\nQ 41.3125 65.921875 37.59375 65.921875 \r\nQ 27.828125 65.921875 22.671875 59.328125 \r\nQ 17.53125 52.734375 16.796875 39.40625 \r\nQ 19.671875 43.65625 24.015625 45.921875 \r\nQ 28.375 48.1875 33.59375 48.1875 \r\nQ 44.578125 48.1875 50.953125 41.515625 \r\nQ 57.328125 34.859375 57.328125 23.390625 \r\nQ 57.328125 12.15625 50.6875 5.359375 \r\nQ 44.046875 -1.421875 33.015625 -1.421875 \r\nQ 20.359375 -1.421875 13.671875 8.265625 \r\nQ 6.984375 17.96875 6.984375 36.375 \r\nQ 6.984375 53.65625 15.1875 63.9375 \r\nQ 23.390625 74.21875 37.203125 74.21875 \r\nQ 40.921875 74.21875 44.703125 73.484375 \r\nQ 48.484375 72.75 52.59375 71.296875 \r\nz\r\n\" id=\"DejaVuSans-54\"/>\r\n       <path d=\"M 31.78125 66.40625 \r\nQ 24.171875 66.40625 20.328125 58.90625 \r\nQ 16.5 51.421875 16.5 36.375 \r\nQ 16.5 21.390625 20.328125 13.890625 \r\nQ 24.171875 6.390625 31.78125 6.390625 \r\nQ 39.453125 6.390625 43.28125 13.890625 \r\nQ 47.125 21.390625 47.125 36.375 \r\nQ 47.125 51.421875 43.28125 58.90625 \r\nQ 39.453125 66.40625 31.78125 66.40625 \r\nz\r\nM 31.78125 74.21875 \r\nQ 44.046875 74.21875 50.515625 64.515625 \r\nQ 56.984375 54.828125 56.984375 36.375 \r\nQ 56.984375 17.96875 50.515625 8.265625 \r\nQ 44.046875 -1.421875 31.78125 -1.421875 \r\nQ 19.53125 -1.421875 13.0625 8.265625 \r\nQ 6.59375 17.96875 6.59375 36.375 \r\nQ 6.59375 54.828125 13.0625 64.515625 \r\nQ 19.53125 74.21875 31.78125 74.21875 \r\nz\r\n\" id=\"DejaVuSans-48\"/>\r\n      </defs>\r\n      <g transform=\"translate(116.256901 239.238438)scale(0.1 -0.1)\">\r\n       <use xlink:href=\"#DejaVuSans-55\"/>\r\n       <use x=\"63.623047\" xlink:href=\"#DejaVuSans-46\"/>\r\n       <use x=\"95.410156\" xlink:href=\"#DejaVuSans-54\"/>\r\n       <use x=\"159.033203\" xlink:href=\"#DejaVuSans-48\"/>\r\n      </g>\r\n     </g>\r\n    </g>\r\n    <g id=\"xtick_3\">\r\n     <g id=\"line2d_3\">\r\n      <g>\r\n       <use style=\"stroke:#000000;stroke-width:0.8;\" x=\"175.543573\" xlink:href=\"#mb18690ee87\" y=\"224.64\"/>\r\n      </g>\r\n     </g>\r\n     <g id=\"text_3\">\r\n      <!-- 7.61 -->\r\n      <defs>\r\n       <path d=\"M 12.40625 8.296875 \r\nL 28.515625 8.296875 \r\nL 28.515625 63.921875 \r\nL 10.984375 60.40625 \r\nL 10.984375 69.390625 \r\nL 28.421875 72.90625 \r\nL 38.28125 72.90625 \r\nL 38.28125 8.296875 \r\nL 54.390625 8.296875 \r\nL 54.390625 0 \r\nL 12.40625 0 \r\nz\r\n\" id=\"DejaVuSans-49\"/>\r\n      </defs>\r\n      <g transform=\"translate(164.410761 239.238438)scale(0.1 -0.1)\">\r\n       <use xlink:href=\"#DejaVuSans-55\"/>\r\n       <use x=\"63.623047\" xlink:href=\"#DejaVuSans-46\"/>\r\n       <use x=\"95.410156\" xlink:href=\"#DejaVuSans-54\"/>\r\n       <use x=\"159.033203\" xlink:href=\"#DejaVuSans-49\"/>\r\n      </g>\r\n     </g>\r\n    </g>\r\n    <g id=\"xtick_4\">\r\n     <g id=\"line2d_4\">\r\n      <g>\r\n       <use style=\"stroke:#000000;stroke-width:0.8;\" x=\"223.697433\" xlink:href=\"#mb18690ee87\" y=\"224.64\"/>\r\n      </g>\r\n     </g>\r\n     <g id=\"text_4\">\r\n      <!-- 7.62 -->\r\n      <defs>\r\n       <path d=\"M 19.1875 8.296875 \r\nL 53.609375 8.296875 \r\nL 53.609375 0 \r\nL 7.328125 0 \r\nL 7.328125 8.296875 \r\nQ 12.9375 14.109375 22.625 23.890625 \r\nQ 32.328125 33.6875 34.8125 36.53125 \r\nQ 39.546875 41.84375 41.421875 45.53125 \r\nQ 43.3125 49.21875 43.3125 52.78125 \r\nQ 43.3125 58.59375 39.234375 62.25 \r\nQ 35.15625 65.921875 28.609375 65.921875 \r\nQ 23.96875 65.921875 18.8125 64.3125 \r\nQ 13.671875 62.703125 7.8125 59.421875 \r\nL 7.8125 69.390625 \r\nQ 13.765625 71.78125 18.9375 73 \r\nQ 24.125 74.21875 28.421875 74.21875 \r\nQ 39.75 74.21875 46.484375 68.546875 \r\nQ 53.21875 62.890625 53.21875 53.421875 \r\nQ 53.21875 48.921875 51.53125 44.890625 \r\nQ 49.859375 40.875 45.40625 35.40625 \r\nQ 44.1875 33.984375 37.640625 27.21875 \r\nQ 31.109375 20.453125 19.1875 8.296875 \r\nz\r\n\" id=\"DejaVuSans-50\"/>\r\n      </defs>\r\n      <g transform=\"translate(212.564621 239.238438)scale(0.1 -0.1)\">\r\n       <use xlink:href=\"#DejaVuSans-55\"/>\r\n       <use x=\"63.623047\" xlink:href=\"#DejaVuSans-46\"/>\r\n       <use x=\"95.410156\" xlink:href=\"#DejaVuSans-54\"/>\r\n       <use x=\"159.033203\" xlink:href=\"#DejaVuSans-50\"/>\r\n      </g>\r\n     </g>\r\n    </g>\r\n    <g id=\"xtick_5\">\r\n     <g id=\"line2d_5\">\r\n      <g>\r\n       <use style=\"stroke:#000000;stroke-width:0.8;\" x=\"271.851293\" xlink:href=\"#mb18690ee87\" y=\"224.64\"/>\r\n      </g>\r\n     </g>\r\n     <g id=\"text_5\">\r\n      <!-- 7.63 -->\r\n      <defs>\r\n       <path d=\"M 40.578125 39.3125 \r\nQ 47.65625 37.796875 51.625 33 \r\nQ 55.609375 28.21875 55.609375 21.1875 \r\nQ 55.609375 10.40625 48.1875 4.484375 \r\nQ 40.765625 -1.421875 27.09375 -1.421875 \r\nQ 22.515625 -1.421875 17.65625 -0.515625 \r\nQ 12.796875 0.390625 7.625 2.203125 \r\nL 7.625 11.71875 \r\nQ 11.71875 9.328125 16.59375 8.109375 \r\nQ 21.484375 6.890625 26.8125 6.890625 \r\nQ 36.078125 6.890625 40.9375 10.546875 \r\nQ 45.796875 14.203125 45.796875 21.1875 \r\nQ 45.796875 27.640625 41.28125 31.265625 \r\nQ 36.765625 34.90625 28.71875 34.90625 \r\nL 20.21875 34.90625 \r\nL 20.21875 43.015625 \r\nL 29.109375 43.015625 \r\nQ 36.375 43.015625 40.234375 45.921875 \r\nQ 44.09375 48.828125 44.09375 54.296875 \r\nQ 44.09375 59.90625 40.109375 62.90625 \r\nQ 36.140625 65.921875 28.71875 65.921875 \r\nQ 24.65625 65.921875 20.015625 65.03125 \r\nQ 15.375 64.15625 9.8125 62.3125 \r\nL 9.8125 71.09375 \r\nQ 15.4375 72.65625 20.34375 73.4375 \r\nQ 25.25 74.21875 29.59375 74.21875 \r\nQ 40.828125 74.21875 47.359375 69.109375 \r\nQ 53.90625 64.015625 53.90625 55.328125 \r\nQ 53.90625 49.265625 50.4375 45.09375 \r\nQ 46.96875 40.921875 40.578125 39.3125 \r\nz\r\n\" id=\"DejaVuSans-51\"/>\r\n      </defs>\r\n      <g transform=\"translate(260.71848 239.238438)scale(0.1 -0.1)\">\r\n       <use xlink:href=\"#DejaVuSans-55\"/>\r\n       <use x=\"63.623047\" xlink:href=\"#DejaVuSans-46\"/>\r\n       <use x=\"95.410156\" xlink:href=\"#DejaVuSans-54\"/>\r\n       <use x=\"159.033203\" xlink:href=\"#DejaVuSans-51\"/>\r\n      </g>\r\n     </g>\r\n    </g>\r\n    <g id=\"xtick_6\">\r\n     <g id=\"line2d_6\">\r\n      <g>\r\n       <use style=\"stroke:#000000;stroke-width:0.8;\" x=\"320.005153\" xlink:href=\"#mb18690ee87\" y=\"224.64\"/>\r\n      </g>\r\n     </g>\r\n     <g id=\"text_6\">\r\n      <!-- 7.64 -->\r\n      <defs>\r\n       <path d=\"M 37.796875 64.3125 \r\nL 12.890625 25.390625 \r\nL 37.796875 25.390625 \r\nz\r\nM 35.203125 72.90625 \r\nL 47.609375 72.90625 \r\nL 47.609375 25.390625 \r\nL 58.015625 25.390625 \r\nL 58.015625 17.1875 \r\nL 47.609375 17.1875 \r\nL 47.609375 0 \r\nL 37.796875 0 \r\nL 37.796875 17.1875 \r\nL 4.890625 17.1875 \r\nL 4.890625 26.703125 \r\nz\r\n\" id=\"DejaVuSans-52\"/>\r\n      </defs>\r\n      <g transform=\"translate(308.87234 239.238438)scale(0.1 -0.1)\">\r\n       <use xlink:href=\"#DejaVuSans-55\"/>\r\n       <use x=\"63.623047\" xlink:href=\"#DejaVuSans-46\"/>\r\n       <use x=\"95.410156\" xlink:href=\"#DejaVuSans-54\"/>\r\n       <use x=\"159.033203\" xlink:href=\"#DejaVuSans-52\"/>\r\n      </g>\r\n     </g>\r\n    </g>\r\n    <g id=\"xtick_7\">\r\n     <g id=\"line2d_7\">\r\n      <g>\r\n       <use style=\"stroke:#000000;stroke-width:0.8;\" x=\"368.159012\" xlink:href=\"#mb18690ee87\" y=\"224.64\"/>\r\n      </g>\r\n     </g>\r\n     <g id=\"text_7\">\r\n      <!-- 7.65 -->\r\n      <g transform=\"translate(357.0262 239.238438)scale(0.1 -0.1)\">\r\n       <use xlink:href=\"#DejaVuSans-55\"/>\r\n       <use x=\"63.623047\" xlink:href=\"#DejaVuSans-46\"/>\r\n       <use x=\"95.410156\" xlink:href=\"#DejaVuSans-54\"/>\r\n       <use x=\"159.033203\" xlink:href=\"#DejaVuSans-53\"/>\r\n      </g>\r\n     </g>\r\n    </g>\r\n   </g>\r\n   <g id=\"matplotlib.axis_2\">\r\n    <g id=\"ytick_1\">\r\n     <g id=\"line2d_8\">\r\n      <defs>\r\n       <path d=\"M 0 0 \r\nL -3.5 0 \r\n\" id=\"m4f3924da3a\" style=\"stroke:#000000;stroke-width:0.8;\"/>\r\n      </defs>\r\n      <g>\r\n       <use style=\"stroke:#000000;stroke-width:0.8;\" x=\"49.190625\" xlink:href=\"#m4f3924da3a\" y=\"213.375062\"/>\r\n      </g>\r\n     </g>\r\n     <g id=\"text_8\">\r\n      <!-- 51.935 -->\r\n      <g transform=\"translate(7.2 217.174281)scale(0.1 -0.1)\">\r\n       <use xlink:href=\"#DejaVuSans-53\"/>\r\n       <use x=\"63.623047\" xlink:href=\"#DejaVuSans-49\"/>\r\n       <use x=\"127.246094\" xlink:href=\"#DejaVuSans-46\"/>\r\n       <use x=\"159.033203\" xlink:href=\"#DejaVuSans-57\"/>\r\n       <use x=\"222.65625\" xlink:href=\"#DejaVuSans-51\"/>\r\n       <use x=\"286.279297\" xlink:href=\"#DejaVuSans-53\"/>\r\n      </g>\r\n     </g>\r\n    </g>\r\n    <g id=\"ytick_2\">\r\n     <g id=\"line2d_9\">\r\n      <g>\r\n       <use style=\"stroke:#000000;stroke-width:0.8;\" x=\"49.190625\" xlink:href=\"#m4f3924da3a\" y=\"181.283704\"/>\r\n      </g>\r\n     </g>\r\n     <g id=\"text_9\">\r\n      <!-- 51.940 -->\r\n      <g transform=\"translate(7.2 185.082922)scale(0.1 -0.1)\">\r\n       <use xlink:href=\"#DejaVuSans-53\"/>\r\n       <use x=\"63.623047\" xlink:href=\"#DejaVuSans-49\"/>\r\n       <use x=\"127.246094\" xlink:href=\"#DejaVuSans-46\"/>\r\n       <use x=\"159.033203\" xlink:href=\"#DejaVuSans-57\"/>\r\n       <use x=\"222.65625\" xlink:href=\"#DejaVuSans-52\"/>\r\n       <use x=\"286.279297\" xlink:href=\"#DejaVuSans-48\"/>\r\n      </g>\r\n     </g>\r\n    </g>\r\n    <g id=\"ytick_3\">\r\n     <g id=\"line2d_10\">\r\n      <g>\r\n       <use style=\"stroke:#000000;stroke-width:0.8;\" x=\"49.190625\" xlink:href=\"#m4f3924da3a\" y=\"149.192345\"/>\r\n      </g>\r\n     </g>\r\n     <g id=\"text_10\">\r\n      <!-- 51.945 -->\r\n      <g transform=\"translate(7.2 152.991564)scale(0.1 -0.1)\">\r\n       <use xlink:href=\"#DejaVuSans-53\"/>\r\n       <use x=\"63.623047\" xlink:href=\"#DejaVuSans-49\"/>\r\n       <use x=\"127.246094\" xlink:href=\"#DejaVuSans-46\"/>\r\n       <use x=\"159.033203\" xlink:href=\"#DejaVuSans-57\"/>\r\n       <use x=\"222.65625\" xlink:href=\"#DejaVuSans-52\"/>\r\n       <use x=\"286.279297\" xlink:href=\"#DejaVuSans-53\"/>\r\n      </g>\r\n     </g>\r\n    </g>\r\n    <g id=\"ytick_4\">\r\n     <g id=\"line2d_11\">\r\n      <g>\r\n       <use style=\"stroke:#000000;stroke-width:0.8;\" x=\"49.190625\" xlink:href=\"#m4f3924da3a\" y=\"117.100987\"/>\r\n      </g>\r\n     </g>\r\n     <g id=\"text_11\">\r\n      <!-- 51.950 -->\r\n      <g transform=\"translate(7.2 120.900206)scale(0.1 -0.1)\">\r\n       <use xlink:href=\"#DejaVuSans-53\"/>\r\n       <use x=\"63.623047\" xlink:href=\"#DejaVuSans-49\"/>\r\n       <use x=\"127.246094\" xlink:href=\"#DejaVuSans-46\"/>\r\n       <use x=\"159.033203\" xlink:href=\"#DejaVuSans-57\"/>\r\n       <use x=\"222.65625\" xlink:href=\"#DejaVuSans-53\"/>\r\n       <use x=\"286.279297\" xlink:href=\"#DejaVuSans-48\"/>\r\n      </g>\r\n     </g>\r\n    </g>\r\n    <g id=\"ytick_5\">\r\n     <g id=\"line2d_12\">\r\n      <g>\r\n       <use style=\"stroke:#000000;stroke-width:0.8;\" x=\"49.190625\" xlink:href=\"#m4f3924da3a\" y=\"85.009629\"/>\r\n      </g>\r\n     </g>\r\n     <g id=\"text_12\">\r\n      <!-- 51.955 -->\r\n      <g transform=\"translate(7.2 88.808848)scale(0.1 -0.1)\">\r\n       <use xlink:href=\"#DejaVuSans-53\"/>\r\n       <use x=\"63.623047\" xlink:href=\"#DejaVuSans-49\"/>\r\n       <use x=\"127.246094\" xlink:href=\"#DejaVuSans-46\"/>\r\n       <use x=\"159.033203\" xlink:href=\"#DejaVuSans-57\"/>\r\n       <use x=\"222.65625\" xlink:href=\"#DejaVuSans-53\"/>\r\n       <use x=\"286.279297\" xlink:href=\"#DejaVuSans-53\"/>\r\n      </g>\r\n     </g>\r\n    </g>\r\n    <g id=\"ytick_6\">\r\n     <g id=\"line2d_13\">\r\n      <g>\r\n       <use style=\"stroke:#000000;stroke-width:0.8;\" x=\"49.190625\" xlink:href=\"#m4f3924da3a\" y=\"52.918271\"/>\r\n      </g>\r\n     </g>\r\n     <g id=\"text_13\">\r\n      <!-- 51.960 -->\r\n      <g transform=\"translate(7.2 56.717489)scale(0.1 -0.1)\">\r\n       <use xlink:href=\"#DejaVuSans-53\"/>\r\n       <use x=\"63.623047\" xlink:href=\"#DejaVuSans-49\"/>\r\n       <use x=\"127.246094\" xlink:href=\"#DejaVuSans-46\"/>\r\n       <use x=\"159.033203\" xlink:href=\"#DejaVuSans-57\"/>\r\n       <use x=\"222.65625\" xlink:href=\"#DejaVuSans-54\"/>\r\n       <use x=\"286.279297\" xlink:href=\"#DejaVuSans-48\"/>\r\n      </g>\r\n     </g>\r\n    </g>\r\n    <g id=\"ytick_7\">\r\n     <g id=\"line2d_14\">\r\n      <g>\r\n       <use style=\"stroke:#000000;stroke-width:0.8;\" x=\"49.190625\" xlink:href=\"#m4f3924da3a\" y=\"20.826912\"/>\r\n      </g>\r\n     </g>\r\n     <g id=\"text_14\">\r\n      <!-- 51.965 -->\r\n      <g transform=\"translate(7.2 24.626131)scale(0.1 -0.1)\">\r\n       <use xlink:href=\"#DejaVuSans-53\"/>\r\n       <use x=\"63.623047\" xlink:href=\"#DejaVuSans-49\"/>\r\n       <use x=\"127.246094\" xlink:href=\"#DejaVuSans-46\"/>\r\n       <use x=\"159.033203\" xlink:href=\"#DejaVuSans-57\"/>\r\n       <use x=\"222.65625\" xlink:href=\"#DejaVuSans-54\"/>\r\n       <use x=\"286.279297\" xlink:href=\"#DejaVuSans-53\"/>\r\n      </g>\r\n     </g>\r\n    </g>\r\n   </g>\r\n   <g id=\"line2d_15\">\r\n    <path clip-path=\"url(#p140ed0162e)\" d=\"M 368.772443 173.909088 \r\nL 364.826436 170.795618 \r\nL 361.683908 167.832499 \r\nL 358.713374 164.424811 \r\nL 357.425594 162.761628 \r\nL 356.412605 161.6524 \r\nL 354.797506 159.095112 \r\nL 352.239225 159.097526 \r\nL 343.457762 164.169849 \r\nL 338.727858 167.631596 \r\nL 333.839952 172.023173 \r\nL 328.481835 176.287593 \r\nL 322.656276 179.513993 \r\nL 305.725375 188.033292 \r\nL 299.699274 190.792525 \r\nL 292.983628 192.896727 \r\nL 286.177009 194.380877 \r\nL 273.445418 196.74146 \r\nL 261.227557 199.587609 \r\nL 243.063546 203.989666 \r\nL 230.417984 206.933785 \r\nL 216.750103 210.312233 \r\nL 209.918341 211.907314 \r\nL 203.0222 212.993805 \r\nL 196.098562 213.788095 \r\nL 189.267957 214.393337 \r\nL 182.531624 214.756364 \r\nL 175.764489 214.299798 \r\nL 168.950306 213.217437 \r\nL 162.182084 211.734274 \r\nL 155.623585 210.171834 \r\nL 149.011767 209.534525 \r\nL 143.212474 210.402865 \r\nL 140.056825 211.378059 \r\nL 140.676411 211.129558 \r\nL 140.826219 211.45048 \r\nL 140.665926 211.480146 \r\nL 137.577091 211.397765 \r\nL 133.877571 211.008502 \r\nL 131.178103 212.533816 \r\nL 129.135837 213.989331 \r\nL 127.00867 213.637488 \r\nL 122.128772 210.761938 \r\nL 117.349848 207.87022 \r\nL 114.608875 206.26823 \r\nL 112.118101 204.485611 \r\nL 108.164278 200.857386 \r\nL 102.041692 195.75712 \r\nL 95.598423 189.986809 \r\nL 91.305709 186.209146 \r\nL 90.038323 184.979257 \r\nL 90.682947 183.090092 \r\nL 93.716596 181.103404 \r\nL 101.68578 176.366754 \r\nL 105.650309 173.862347 \r\nL 109.050995 171.029725 \r\nL 115.278887 165.304956 \r\nL 118.75522 162.524057 \r\nL 122.800291 160.04453 \r\nL 126.771665 157.401683 \r\nL 129.846096 154.361395 \r\nL 134.291912 146.910759 \r\nL 136.892463 143.51287 \r\nL 139.23307 140.058759 \r\nL 142.375012 132.567986 \r\nL 144.880071 129.209809 \r\nL 148.097703 126.555235 \r\nL 151.588463 124.449869 \r\nL 156.4473 121.868146 \r\nL 157.997164 120.156171 \r\nL 155.23923 117.164362 \r\nL 151.81635 113.718163 \r\nL 148.644602 110.309376 \r\nL 146.126261 106.493293 \r\nL 144.396042 102.400852 \r\nL 141.904998 93.704642 \r\nL 141.035314 89.237043 \r\nL 140.897879 85.643031 \r\nL 141.013243 85.086137 \r\nL 140.732149 83.289454 \r\nL 138.876387 82.431871 \r\nL 135.971441 83.110155 \r\nL 127.129054 86.326747 \r\nL 124.467542 86.111671 \r\nL 122.13547 83.46979 \r\nL 120.102078 80.826341 \r\nL 115.117445 72.389832 \r\nL 111.436863 66.801086 \r\nL 110.613711 65.685657 \r\nL 109.450066 65.95169 \r\nL 102.513793 71.102711 \r\nL 97.674446 74.239542 \r\nL 93.413378 76.892265 \r\nL 91.539605 76.524712 \r\nL 88.668471 72.881274 \r\nL 86.718484 70.736274 \r\nL 85.083728 68.595887 \r\nL 83.663841 67.003539 \r\nL 82.669497 66.103794 \r\nL 81.308751 64.152699 \r\nL 76.054693 57.822023 \r\nL 74.100964 55.0552 \r\nL 73.352817 53.782981 \r\nL 73.60309 52.836376 \r\nL 76.158879 51.610244 \r\nL 78.944956 46.061094 \r\nL 78.682219 45.095089 \r\nL 75.753605 43.294377 \r\nL 72.405984 40.713807 \r\nL 68.01839 37.022887 \r\nL 68.805705 35.472143 \r\nL 71.000421 32.844858 \r\nL 72.995088 29.443509 \r\nL 73.929125 25.956591 \r\nL 74.156714 22.54556 \r\nL 74.187237 20.030481 \r\nL 74.836828 18.496881 \r\nL 74.626062 17.475873 \r\nL 72.707067 17.471666 \r\nL 68.742316 17.328516 \r\nL 65.365397 17.083636 \r\nL 64.604846 17.344997 \r\nL 64.450505 18.08173 \r\nL 64.408807 18.620339 \r\nL 64.408807 18.620339 \r\n\" style=\"fill:none;stroke:#1f77b4;stroke-linecap:square;stroke-width:1.5;\"/>\r\n   </g>\r\n   <g id=\"patch_3\">\r\n    <path d=\"M 49.190625 224.64 \r\nL 49.190625 7.2 \r\n\" style=\"fill:none;stroke:#000000;stroke-linecap:square;stroke-linejoin:miter;stroke-width:0.8;\"/>\r\n   </g>\r\n   <g id=\"patch_4\">\r\n    <path d=\"M 383.990625 224.64 \r\nL 383.990625 7.2 \r\n\" style=\"fill:none;stroke:#000000;stroke-linecap:square;stroke-linejoin:miter;stroke-width:0.8;\"/>\r\n   </g>\r\n   <g id=\"patch_5\">\r\n    <path d=\"M 49.190625 224.64 \r\nL 383.990625 224.64 \r\n\" style=\"fill:none;stroke:#000000;stroke-linecap:square;stroke-linejoin:miter;stroke-width:0.8;\"/>\r\n   </g>\r\n   <g id=\"patch_6\">\r\n    <path d=\"M 49.190625 7.2 \r\nL 383.990625 7.2 \r\n\" style=\"fill:none;stroke:#000000;stroke-linecap:square;stroke-linejoin:miter;stroke-width:0.8;\"/>\r\n   </g>\r\n  </g>\r\n </g>\r\n <defs>\r\n  <clipPath id=\"p140ed0162e\">\r\n   <rect height=\"217.44\" width=\"334.8\" x=\"49.190625\" y=\"7.2\"/>\r\n  </clipPath>\r\n </defs>\r\n</svg>\r\n",
      "image/png": "[encoded data removed]"
     },
     "metadata": {
      "needs_background": "light"
     }
    }
   ],
   "source": [
    "trajLineString = trajectory.to_linestring()\n",
    "\n",
    "x,y = trajLineString.xy\n",
    "plt.plot(x, y)"
   ]
  },
  {
   "cell_type": "markdown",
   "metadata": {},
   "source": [
    "TODO: Use trajectory object for below computations"
   ]
  },
  {
   "cell_type": "code",
   "execution_count": 64,
   "metadata": {},
   "outputs": [
    {
     "output_type": "display_data",
     "data": {
      "text/plain": "<Figure size 432x288 with 1 Axes>",
      "image/svg+xml": "<?xml version=\"1.0\" encoding=\"utf-8\" standalone=\"no\"?>\r\n<!DOCTYPE svg PUBLIC \"-//W3C//DTD SVG 1.1//EN\"\r\n  \"http://www.w3.org/Graphics/SVG/1.1/DTD/svg11.dtd\">\r\n<!-- Created with matplotlib (https://matplotlib.org/) -->\r\n<svg height=\"248.518125pt\" version=\"1.1\" viewBox=\"0 0 391.190625 248.518125\" width=\"391.190625pt\" xmlns=\"http://www.w3.org/2000/svg\" xmlns:xlink=\"http://www.w3.org/1999/xlink\">\r\n <defs>\r\n  <style type=\"text/css\">\r\n*{stroke-linecap:butt;stroke-linejoin:round;}\r\n  </style>\r\n </defs>\r\n <g id=\"figure_1\">\r\n  <g id=\"patch_1\">\r\n   <path d=\"M 0 248.518125 \r\nL 391.190625 248.518125 \r\nL 391.190625 0 \r\nL 0 0 \r\nz\r\n\" style=\"fill:none;\"/>\r\n  </g>\r\n  <g id=\"axes_1\">\r\n   <g id=\"patch_2\">\r\n    <path d=\"M 49.190625 224.64 \r\nL 383.990625 224.64 \r\nL 383.990625 7.2 \r\nL 49.190625 7.2 \r\nz\r\n\" style=\"fill:#ffffff;\"/>\r\n   </g>\r\n   <g id=\"matplotlib.axis_1\">\r\n    <g id=\"xtick_1\">\r\n     <g id=\"line2d_1\">\r\n      <defs>\r\n       <path d=\"M 0 0 \r\nL 0 3.5 \r\n\" id=\"m2d7b35e5d6\" style=\"stroke:#000000;stroke-width:0.8;\"/>\r\n      </defs>\r\n      <g>\r\n       <use style=\"stroke:#000000;stroke-width:0.8;\" x=\"79.235854\" xlink:href=\"#m2d7b35e5d6\" y=\"224.64\"/>\r\n      </g>\r\n     </g>\r\n     <g id=\"text_1\">\r\n      <!-- 7.59 -->\r\n      <defs>\r\n       <path d=\"M 8.203125 72.90625 \r\nL 55.078125 72.90625 \r\nL 55.078125 68.703125 \r\nL 28.609375 0 \r\nL 18.3125 0 \r\nL 43.21875 64.59375 \r\nL 8.203125 64.59375 \r\nz\r\n\" id=\"DejaVuSans-55\"/>\r\n       <path d=\"M 10.6875 12.40625 \r\nL 21 12.40625 \r\nL 21 0 \r\nL 10.6875 0 \r\nz\r\n\" id=\"DejaVuSans-46\"/>\r\n       <path d=\"M 10.796875 72.90625 \r\nL 49.515625 72.90625 \r\nL 49.515625 64.59375 \r\nL 19.828125 64.59375 \r\nL 19.828125 46.734375 \r\nQ 21.96875 47.46875 24.109375 47.828125 \r\nQ 26.265625 48.1875 28.421875 48.1875 \r\nQ 40.625 48.1875 47.75 41.5 \r\nQ 54.890625 34.8125 54.890625 23.390625 \r\nQ 54.890625 11.625 47.5625 5.09375 \r\nQ 40.234375 -1.421875 26.90625 -1.421875 \r\nQ 22.3125 -1.421875 17.546875 -0.640625 \r\nQ 12.796875 0.140625 7.71875 1.703125 \r\nL 7.71875 11.625 \r\nQ 12.109375 9.234375 16.796875 8.0625 \r\nQ 21.484375 6.890625 26.703125 6.890625 \r\nQ 35.15625 6.890625 40.078125 11.328125 \r\nQ 45.015625 15.765625 45.015625 23.390625 \r\nQ 45.015625 31 40.078125 35.4375 \r\nQ 35.15625 39.890625 26.703125 39.890625 \r\nQ 22.75 39.890625 18.8125 39.015625 \r\nQ 14.890625 38.140625 10.796875 36.28125 \r\nz\r\n\" id=\"DejaVuSans-53\"/>\r\n       <path d=\"M 10.984375 1.515625 \r\nL 10.984375 10.5 \r\nQ 14.703125 8.734375 18.5 7.8125 \r\nQ 22.3125 6.890625 25.984375 6.890625 \r\nQ 35.75 6.890625 40.890625 13.453125 \r\nQ 46.046875 20.015625 46.78125 33.40625 \r\nQ 43.953125 29.203125 39.59375 26.953125 \r\nQ 35.25 24.703125 29.984375 24.703125 \r\nQ 19.046875 24.703125 12.671875 31.3125 \r\nQ 6.296875 37.9375 6.296875 49.421875 \r\nQ 6.296875 60.640625 12.9375 67.421875 \r\nQ 19.578125 74.21875 30.609375 74.21875 \r\nQ 43.265625 74.21875 49.921875 64.515625 \r\nQ 56.59375 54.828125 56.59375 36.375 \r\nQ 56.59375 19.140625 48.40625 8.859375 \r\nQ 40.234375 -1.421875 26.421875 -1.421875 \r\nQ 22.703125 -1.421875 18.890625 -0.6875 \r\nQ 15.09375 0.046875 10.984375 1.515625 \r\nz\r\nM 30.609375 32.421875 \r\nQ 37.25 32.421875 41.125 36.953125 \r\nQ 45.015625 41.5 45.015625 49.421875 \r\nQ 45.015625 57.28125 41.125 61.84375 \r\nQ 37.25 66.40625 30.609375 66.40625 \r\nQ 23.96875 66.40625 20.09375 61.84375 \r\nQ 16.21875 57.28125 16.21875 49.421875 \r\nQ 16.21875 41.5 20.09375 36.953125 \r\nQ 23.96875 32.421875 30.609375 32.421875 \r\nz\r\n\" id=\"DejaVuSans-57\"/>\r\n      </defs>\r\n      <g transform=\"translate(68.103042 239.238438)scale(0.1 -0.1)\">\r\n       <use xlink:href=\"#DejaVuSans-55\"/>\r\n       <use x=\"63.623047\" xlink:href=\"#DejaVuSans-46\"/>\r\n       <use x=\"95.410156\" xlink:href=\"#DejaVuSans-53\"/>\r\n       <use x=\"159.033203\" xlink:href=\"#DejaVuSans-57\"/>\r\n      </g>\r\n     </g>\r\n    </g>\r\n    <g id=\"xtick_2\">\r\n     <g id=\"line2d_2\">\r\n      <g>\r\n       <use style=\"stroke:#000000;stroke-width:0.8;\" x=\"127.389714\" xlink:href=\"#m2d7b35e5d6\" y=\"224.64\"/>\r\n      </g>\r\n     </g>\r\n     <g id=\"text_2\">\r\n      <!-- 7.60 -->\r\n      <defs>\r\n       <path d=\"M 33.015625 40.375 \r\nQ 26.375 40.375 22.484375 35.828125 \r\nQ 18.609375 31.296875 18.609375 23.390625 \r\nQ 18.609375 15.53125 22.484375 10.953125 \r\nQ 26.375 6.390625 33.015625 6.390625 \r\nQ 39.65625 6.390625 43.53125 10.953125 \r\nQ 47.40625 15.53125 47.40625 23.390625 \r\nQ 47.40625 31.296875 43.53125 35.828125 \r\nQ 39.65625 40.375 33.015625 40.375 \r\nz\r\nM 52.59375 71.296875 \r\nL 52.59375 62.3125 \r\nQ 48.875 64.0625 45.09375 64.984375 \r\nQ 41.3125 65.921875 37.59375 65.921875 \r\nQ 27.828125 65.921875 22.671875 59.328125 \r\nQ 17.53125 52.734375 16.796875 39.40625 \r\nQ 19.671875 43.65625 24.015625 45.921875 \r\nQ 28.375 48.1875 33.59375 48.1875 \r\nQ 44.578125 48.1875 50.953125 41.515625 \r\nQ 57.328125 34.859375 57.328125 23.390625 \r\nQ 57.328125 12.15625 50.6875 5.359375 \r\nQ 44.046875 -1.421875 33.015625 -1.421875 \r\nQ 20.359375 -1.421875 13.671875 8.265625 \r\nQ 6.984375 17.96875 6.984375 36.375 \r\nQ 6.984375 53.65625 15.1875 63.9375 \r\nQ 23.390625 74.21875 37.203125 74.21875 \r\nQ 40.921875 74.21875 44.703125 73.484375 \r\nQ 48.484375 72.75 52.59375 71.296875 \r\nz\r\n\" id=\"DejaVuSans-54\"/>\r\n       <path d=\"M 31.78125 66.40625 \r\nQ 24.171875 66.40625 20.328125 58.90625 \r\nQ 16.5 51.421875 16.5 36.375 \r\nQ 16.5 21.390625 20.328125 13.890625 \r\nQ 24.171875 6.390625 31.78125 6.390625 \r\nQ 39.453125 6.390625 43.28125 13.890625 \r\nQ 47.125 21.390625 47.125 36.375 \r\nQ 47.125 51.421875 43.28125 58.90625 \r\nQ 39.453125 66.40625 31.78125 66.40625 \r\nz\r\nM 31.78125 74.21875 \r\nQ 44.046875 74.21875 50.515625 64.515625 \r\nQ 56.984375 54.828125 56.984375 36.375 \r\nQ 56.984375 17.96875 50.515625 8.265625 \r\nQ 44.046875 -1.421875 31.78125 -1.421875 \r\nQ 19.53125 -1.421875 13.0625 8.265625 \r\nQ 6.59375 17.96875 6.59375 36.375 \r\nQ 6.59375 54.828125 13.0625 64.515625 \r\nQ 19.53125 74.21875 31.78125 74.21875 \r\nz\r\n\" id=\"DejaVuSans-48\"/>\r\n      </defs>\r\n      <g transform=\"translate(116.256901 239.238438)scale(0.1 -0.1)\">\r\n       <use xlink:href=\"#DejaVuSans-55\"/>\r\n       <use x=\"63.623047\" xlink:href=\"#DejaVuSans-46\"/>\r\n       <use x=\"95.410156\" xlink:href=\"#DejaVuSans-54\"/>\r\n       <use x=\"159.033203\" xlink:href=\"#DejaVuSans-48\"/>\r\n      </g>\r\n     </g>\r\n    </g>\r\n    <g id=\"xtick_3\">\r\n     <g id=\"line2d_3\">\r\n      <g>\r\n       <use style=\"stroke:#000000;stroke-width:0.8;\" x=\"175.543573\" xlink:href=\"#m2d7b35e5d6\" y=\"224.64\"/>\r\n      </g>\r\n     </g>\r\n     <g id=\"text_3\">\r\n      <!-- 7.61 -->\r\n      <defs>\r\n       <path d=\"M 12.40625 8.296875 \r\nL 28.515625 8.296875 \r\nL 28.515625 63.921875 \r\nL 10.984375 60.40625 \r\nL 10.984375 69.390625 \r\nL 28.421875 72.90625 \r\nL 38.28125 72.90625 \r\nL 38.28125 8.296875 \r\nL 54.390625 8.296875 \r\nL 54.390625 0 \r\nL 12.40625 0 \r\nz\r\n\" id=\"DejaVuSans-49\"/>\r\n      </defs>\r\n      <g transform=\"translate(164.410761 239.238438)scale(0.1 -0.1)\">\r\n       <use xlink:href=\"#DejaVuSans-55\"/>\r\n       <use x=\"63.623047\" xlink:href=\"#DejaVuSans-46\"/>\r\n       <use x=\"95.410156\" xlink:href=\"#DejaVuSans-54\"/>\r\n       <use x=\"159.033203\" xlink:href=\"#DejaVuSans-49\"/>\r\n      </g>\r\n     </g>\r\n    </g>\r\n    <g id=\"xtick_4\">\r\n     <g id=\"line2d_4\">\r\n      <g>\r\n       <use style=\"stroke:#000000;stroke-width:0.8;\" x=\"223.697433\" xlink:href=\"#m2d7b35e5d6\" y=\"224.64\"/>\r\n      </g>\r\n     </g>\r\n     <g id=\"text_4\">\r\n      <!-- 7.62 -->\r\n      <defs>\r\n       <path d=\"M 19.1875 8.296875 \r\nL 53.609375 8.296875 \r\nL 53.609375 0 \r\nL 7.328125 0 \r\nL 7.328125 8.296875 \r\nQ 12.9375 14.109375 22.625 23.890625 \r\nQ 32.328125 33.6875 34.8125 36.53125 \r\nQ 39.546875 41.84375 41.421875 45.53125 \r\nQ 43.3125 49.21875 43.3125 52.78125 \r\nQ 43.3125 58.59375 39.234375 62.25 \r\nQ 35.15625 65.921875 28.609375 65.921875 \r\nQ 23.96875 65.921875 18.8125 64.3125 \r\nQ 13.671875 62.703125 7.8125 59.421875 \r\nL 7.8125 69.390625 \r\nQ 13.765625 71.78125 18.9375 73 \r\nQ 24.125 74.21875 28.421875 74.21875 \r\nQ 39.75 74.21875 46.484375 68.546875 \r\nQ 53.21875 62.890625 53.21875 53.421875 \r\nQ 53.21875 48.921875 51.53125 44.890625 \r\nQ 49.859375 40.875 45.40625 35.40625 \r\nQ 44.1875 33.984375 37.640625 27.21875 \r\nQ 31.109375 20.453125 19.1875 8.296875 \r\nz\r\n\" id=\"DejaVuSans-50\"/>\r\n      </defs>\r\n      <g transform=\"translate(212.564621 239.238438)scale(0.1 -0.1)\">\r\n       <use xlink:href=\"#DejaVuSans-55\"/>\r\n       <use x=\"63.623047\" xlink:href=\"#DejaVuSans-46\"/>\r\n       <use x=\"95.410156\" xlink:href=\"#DejaVuSans-54\"/>\r\n       <use x=\"159.033203\" xlink:href=\"#DejaVuSans-50\"/>\r\n      </g>\r\n     </g>\r\n    </g>\r\n    <g id=\"xtick_5\">\r\n     <g id=\"line2d_5\">\r\n      <g>\r\n       <use style=\"stroke:#000000;stroke-width:0.8;\" x=\"271.851293\" xlink:href=\"#m2d7b35e5d6\" y=\"224.64\"/>\r\n      </g>\r\n     </g>\r\n     <g id=\"text_5\">\r\n      <!-- 7.63 -->\r\n      <defs>\r\n       <path d=\"M 40.578125 39.3125 \r\nQ 47.65625 37.796875 51.625 33 \r\nQ 55.609375 28.21875 55.609375 21.1875 \r\nQ 55.609375 10.40625 48.1875 4.484375 \r\nQ 40.765625 -1.421875 27.09375 -1.421875 \r\nQ 22.515625 -1.421875 17.65625 -0.515625 \r\nQ 12.796875 0.390625 7.625 2.203125 \r\nL 7.625 11.71875 \r\nQ 11.71875 9.328125 16.59375 8.109375 \r\nQ 21.484375 6.890625 26.8125 6.890625 \r\nQ 36.078125 6.890625 40.9375 10.546875 \r\nQ 45.796875 14.203125 45.796875 21.1875 \r\nQ 45.796875 27.640625 41.28125 31.265625 \r\nQ 36.765625 34.90625 28.71875 34.90625 \r\nL 20.21875 34.90625 \r\nL 20.21875 43.015625 \r\nL 29.109375 43.015625 \r\nQ 36.375 43.015625 40.234375 45.921875 \r\nQ 44.09375 48.828125 44.09375 54.296875 \r\nQ 44.09375 59.90625 40.109375 62.90625 \r\nQ 36.140625 65.921875 28.71875 65.921875 \r\nQ 24.65625 65.921875 20.015625 65.03125 \r\nQ 15.375 64.15625 9.8125 62.3125 \r\nL 9.8125 71.09375 \r\nQ 15.4375 72.65625 20.34375 73.4375 \r\nQ 25.25 74.21875 29.59375 74.21875 \r\nQ 40.828125 74.21875 47.359375 69.109375 \r\nQ 53.90625 64.015625 53.90625 55.328125 \r\nQ 53.90625 49.265625 50.4375 45.09375 \r\nQ 46.96875 40.921875 40.578125 39.3125 \r\nz\r\n\" id=\"DejaVuSans-51\"/>\r\n      </defs>\r\n      <g transform=\"translate(260.71848 239.238438)scale(0.1 -0.1)\">\r\n       <use xlink:href=\"#DejaVuSans-55\"/>\r\n       <use x=\"63.623047\" xlink:href=\"#DejaVuSans-46\"/>\r\n       <use x=\"95.410156\" xlink:href=\"#DejaVuSans-54\"/>\r\n       <use x=\"159.033203\" xlink:href=\"#DejaVuSans-51\"/>\r\n      </g>\r\n     </g>\r\n    </g>\r\n    <g id=\"xtick_6\">\r\n     <g id=\"line2d_6\">\r\n      <g>\r\n       <use style=\"stroke:#000000;stroke-width:0.8;\" x=\"320.005153\" xlink:href=\"#m2d7b35e5d6\" y=\"224.64\"/>\r\n      </g>\r\n     </g>\r\n     <g id=\"text_6\">\r\n      <!-- 7.64 -->\r\n      <defs>\r\n       <path d=\"M 37.796875 64.3125 \r\nL 12.890625 25.390625 \r\nL 37.796875 25.390625 \r\nz\r\nM 35.203125 72.90625 \r\nL 47.609375 72.90625 \r\nL 47.609375 25.390625 \r\nL 58.015625 25.390625 \r\nL 58.015625 17.1875 \r\nL 47.609375 17.1875 \r\nL 47.609375 0 \r\nL 37.796875 0 \r\nL 37.796875 17.1875 \r\nL 4.890625 17.1875 \r\nL 4.890625 26.703125 \r\nz\r\n\" id=\"DejaVuSans-52\"/>\r\n      </defs>\r\n      <g transform=\"translate(308.87234 239.238438)scale(0.1 -0.1)\">\r\n       <use xlink:href=\"#DejaVuSans-55\"/>\r\n       <use x=\"63.623047\" xlink:href=\"#DejaVuSans-46\"/>\r\n       <use x=\"95.410156\" xlink:href=\"#DejaVuSans-54\"/>\r\n       <use x=\"159.033203\" xlink:href=\"#DejaVuSans-52\"/>\r\n      </g>\r\n     </g>\r\n    </g>\r\n    <g id=\"xtick_7\">\r\n     <g id=\"line2d_7\">\r\n      <g>\r\n       <use style=\"stroke:#000000;stroke-width:0.8;\" x=\"368.159012\" xlink:href=\"#m2d7b35e5d6\" y=\"224.64\"/>\r\n      </g>\r\n     </g>\r\n     <g id=\"text_7\">\r\n      <!-- 7.65 -->\r\n      <g transform=\"translate(357.0262 239.238438)scale(0.1 -0.1)\">\r\n       <use xlink:href=\"#DejaVuSans-55\"/>\r\n       <use x=\"63.623047\" xlink:href=\"#DejaVuSans-46\"/>\r\n       <use x=\"95.410156\" xlink:href=\"#DejaVuSans-54\"/>\r\n       <use x=\"159.033203\" xlink:href=\"#DejaVuSans-53\"/>\r\n      </g>\r\n     </g>\r\n    </g>\r\n   </g>\r\n   <g id=\"matplotlib.axis_2\">\r\n    <g id=\"ytick_1\">\r\n     <g id=\"line2d_8\">\r\n      <defs>\r\n       <path d=\"M 0 0 \r\nL -3.5 0 \r\n\" id=\"mbffb4cc917\" style=\"stroke:#000000;stroke-width:0.8;\"/>\r\n      </defs>\r\n      <g>\r\n       <use style=\"stroke:#000000;stroke-width:0.8;\" x=\"49.190625\" xlink:href=\"#mbffb4cc917\" y=\"213.375062\"/>\r\n      </g>\r\n     </g>\r\n     <g id=\"text_8\">\r\n      <!-- 51.935 -->\r\n      <g transform=\"translate(7.2 217.174281)scale(0.1 -0.1)\">\r\n       <use xlink:href=\"#DejaVuSans-53\"/>\r\n       <use x=\"63.623047\" xlink:href=\"#DejaVuSans-49\"/>\r\n       <use x=\"127.246094\" xlink:href=\"#DejaVuSans-46\"/>\r\n       <use x=\"159.033203\" xlink:href=\"#DejaVuSans-57\"/>\r\n       <use x=\"222.65625\" xlink:href=\"#DejaVuSans-51\"/>\r\n       <use x=\"286.279297\" xlink:href=\"#DejaVuSans-53\"/>\r\n      </g>\r\n     </g>\r\n    </g>\r\n    <g id=\"ytick_2\">\r\n     <g id=\"line2d_9\">\r\n      <g>\r\n       <use style=\"stroke:#000000;stroke-width:0.8;\" x=\"49.190625\" xlink:href=\"#mbffb4cc917\" y=\"181.283704\"/>\r\n      </g>\r\n     </g>\r\n     <g id=\"text_9\">\r\n      <!-- 51.940 -->\r\n      <g transform=\"translate(7.2 185.082922)scale(0.1 -0.1)\">\r\n       <use xlink:href=\"#DejaVuSans-53\"/>\r\n       <use x=\"63.623047\" xlink:href=\"#DejaVuSans-49\"/>\r\n       <use x=\"127.246094\" xlink:href=\"#DejaVuSans-46\"/>\r\n       <use x=\"159.033203\" xlink:href=\"#DejaVuSans-57\"/>\r\n       <use x=\"222.65625\" xlink:href=\"#DejaVuSans-52\"/>\r\n       <use x=\"286.279297\" xlink:href=\"#DejaVuSans-48\"/>\r\n      </g>\r\n     </g>\r\n    </g>\r\n    <g id=\"ytick_3\">\r\n     <g id=\"line2d_10\">\r\n      <g>\r\n       <use style=\"stroke:#000000;stroke-width:0.8;\" x=\"49.190625\" xlink:href=\"#mbffb4cc917\" y=\"149.192345\"/>\r\n      </g>\r\n     </g>\r\n     <g id=\"text_10\">\r\n      <!-- 51.945 -->\r\n      <g transform=\"translate(7.2 152.991564)scale(0.1 -0.1)\">\r\n       <use xlink:href=\"#DejaVuSans-53\"/>\r\n       <use x=\"63.623047\" xlink:href=\"#DejaVuSans-49\"/>\r\n       <use x=\"127.246094\" xlink:href=\"#DejaVuSans-46\"/>\r\n       <use x=\"159.033203\" xlink:href=\"#DejaVuSans-57\"/>\r\n       <use x=\"222.65625\" xlink:href=\"#DejaVuSans-52\"/>\r\n       <use x=\"286.279297\" xlink:href=\"#DejaVuSans-53\"/>\r\n      </g>\r\n     </g>\r\n    </g>\r\n    <g id=\"ytick_4\">\r\n     <g id=\"line2d_11\">\r\n      <g>\r\n       <use style=\"stroke:#000000;stroke-width:0.8;\" x=\"49.190625\" xlink:href=\"#mbffb4cc917\" y=\"117.100987\"/>\r\n      </g>\r\n     </g>\r\n     <g id=\"text_11\">\r\n      <!-- 51.950 -->\r\n      <g transform=\"translate(7.2 120.900206)scale(0.1 -0.1)\">\r\n       <use xlink:href=\"#DejaVuSans-53\"/>\r\n       <use x=\"63.623047\" xlink:href=\"#DejaVuSans-49\"/>\r\n       <use x=\"127.246094\" xlink:href=\"#DejaVuSans-46\"/>\r\n       <use x=\"159.033203\" xlink:href=\"#DejaVuSans-57\"/>\r\n       <use x=\"222.65625\" xlink:href=\"#DejaVuSans-53\"/>\r\n       <use x=\"286.279297\" xlink:href=\"#DejaVuSans-48\"/>\r\n      </g>\r\n     </g>\r\n    </g>\r\n    <g id=\"ytick_5\">\r\n     <g id=\"line2d_12\">\r\n      <g>\r\n       <use style=\"stroke:#000000;stroke-width:0.8;\" x=\"49.190625\" xlink:href=\"#mbffb4cc917\" y=\"85.009629\"/>\r\n      </g>\r\n     </g>\r\n     <g id=\"text_12\">\r\n      <!-- 51.955 -->\r\n      <g transform=\"translate(7.2 88.808848)scale(0.1 -0.1)\">\r\n       <use xlink:href=\"#DejaVuSans-53\"/>\r\n       <use x=\"63.623047\" xlink:href=\"#DejaVuSans-49\"/>\r\n       <use x=\"127.246094\" xlink:href=\"#DejaVuSans-46\"/>\r\n       <use x=\"159.033203\" xlink:href=\"#DejaVuSans-57\"/>\r\n       <use x=\"222.65625\" xlink:href=\"#DejaVuSans-53\"/>\r\n       <use x=\"286.279297\" xlink:href=\"#DejaVuSans-53\"/>\r\n      </g>\r\n     </g>\r\n    </g>\r\n    <g id=\"ytick_6\">\r\n     <g id=\"line2d_13\">\r\n      <g>\r\n       <use style=\"stroke:#000000;stroke-width:0.8;\" x=\"49.190625\" xlink:href=\"#mbffb4cc917\" y=\"52.918271\"/>\r\n      </g>\r\n     </g>\r\n     <g id=\"text_13\">\r\n      <!-- 51.960 -->\r\n      <g transform=\"translate(7.2 56.717489)scale(0.1 -0.1)\">\r\n       <use xlink:href=\"#DejaVuSans-53\"/>\r\n       <use x=\"63.623047\" xlink:href=\"#DejaVuSans-49\"/>\r\n       <use x=\"127.246094\" xlink:href=\"#DejaVuSans-46\"/>\r\n       <use x=\"159.033203\" xlink:href=\"#DejaVuSans-57\"/>\r\n       <use x=\"222.65625\" xlink:href=\"#DejaVuSans-54\"/>\r\n       <use x=\"286.279297\" xlink:href=\"#DejaVuSans-48\"/>\r\n      </g>\r\n     </g>\r\n    </g>\r\n    <g id=\"ytick_7\">\r\n     <g id=\"line2d_14\">\r\n      <g>\r\n       <use style=\"stroke:#000000;stroke-width:0.8;\" x=\"49.190625\" xlink:href=\"#mbffb4cc917\" y=\"20.826912\"/>\r\n      </g>\r\n     </g>\r\n     <g id=\"text_14\">\r\n      <!-- 51.965 -->\r\n      <g transform=\"translate(7.2 24.626131)scale(0.1 -0.1)\">\r\n       <use xlink:href=\"#DejaVuSans-53\"/>\r\n       <use x=\"63.623047\" xlink:href=\"#DejaVuSans-49\"/>\r\n       <use x=\"127.246094\" xlink:href=\"#DejaVuSans-46\"/>\r\n       <use x=\"159.033203\" xlink:href=\"#DejaVuSans-57\"/>\r\n       <use x=\"222.65625\" xlink:href=\"#DejaVuSans-54\"/>\r\n       <use x=\"286.279297\" xlink:href=\"#DejaVuSans-53\"/>\r\n      </g>\r\n     </g>\r\n    </g>\r\n   </g>\r\n   <g id=\"line2d_15\">\r\n    <path clip-path=\"url(#p2acf858e28)\" d=\"M 368.772443 173.909088 \r\nL 364.826436 170.795618 \r\nL 361.683908 167.832499 \r\nL 358.713374 164.424811 \r\nL 357.425594 162.761628 \r\nL 356.412605 161.6524 \r\nL 354.797506 159.095112 \r\nL 352.239225 159.097526 \r\nL 343.457762 164.169849 \r\nL 338.727858 167.631596 \r\nL 333.839952 172.023173 \r\nL 328.481835 176.287593 \r\nL 322.656276 179.513993 \r\nL 305.725375 188.033292 \r\nL 299.699274 190.792525 \r\nL 292.983628 192.896727 \r\nL 286.177009 194.380877 \r\nL 273.445418 196.74146 \r\nL 261.227557 199.587609 \r\nL 243.063546 203.989666 \r\nL 230.417984 206.933785 \r\nL 216.750103 210.312233 \r\nL 209.918341 211.907314 \r\nL 203.0222 212.993805 \r\nL 196.098562 213.788095 \r\nL 189.267957 214.393337 \r\nL 182.531624 214.756364 \r\nL 175.764489 214.299798 \r\nL 168.950306 213.217437 \r\nL 162.182084 211.734274 \r\nL 155.623585 210.171834 \r\nL 149.011767 209.534525 \r\nL 143.212474 210.402865 \r\nL 140.056825 211.378059 \r\nL 140.676411 211.129558 \r\nL 140.826219 211.45048 \r\nL 140.665926 211.480146 \r\nL 137.577091 211.397765 \r\nL 133.877571 211.008502 \r\nL 131.178103 212.533816 \r\nL 129.135837 213.989331 \r\nL 127.00867 213.637488 \r\nL 122.128772 210.761938 \r\nL 117.349848 207.87022 \r\nL 114.608875 206.26823 \r\nL 112.118101 204.485611 \r\nL 108.164278 200.857386 \r\nL 102.041692 195.75712 \r\nL 95.598423 189.986809 \r\nL 91.305709 186.209146 \r\nL 90.038323 184.979257 \r\nL 90.682947 183.090092 \r\nL 93.716596 181.103404 \r\nL 101.68578 176.366754 \r\nL 105.650309 173.862347 \r\nL 109.050995 171.029725 \r\nL 115.278887 165.304956 \r\nL 118.75522 162.524057 \r\nL 122.800291 160.04453 \r\nL 126.771665 157.401683 \r\nL 129.846096 154.361395 \r\nL 134.291912 146.910759 \r\nL 136.892463 143.51287 \r\nL 139.23307 140.058759 \r\nL 142.375012 132.567986 \r\nL 144.880071 129.209809 \r\nL 148.097703 126.555235 \r\nL 151.588463 124.449869 \r\nL 156.4473 121.868146 \r\nL 157.997164 120.156171 \r\nL 155.23923 117.164362 \r\nL 151.81635 113.718163 \r\nL 148.644602 110.309376 \r\nL 146.126261 106.493293 \r\nL 144.396042 102.400852 \r\nL 141.904998 93.704642 \r\nL 141.035314 89.237043 \r\nL 140.897879 85.643031 \r\nL 141.013243 85.086137 \r\nL 140.732149 83.289454 \r\nL 138.876387 82.431871 \r\nL 135.971441 83.110155 \r\nL 127.129054 86.326747 \r\nL 124.467542 86.111671 \r\nL 122.13547 83.46979 \r\nL 120.102078 80.826341 \r\nL 115.117445 72.389832 \r\nL 111.436863 66.801086 \r\nL 110.613711 65.685657 \r\nL 109.450066 65.95169 \r\nL 102.513793 71.102711 \r\nL 97.674446 74.239542 \r\nL 93.413378 76.892265 \r\nL 91.539605 76.524712 \r\nL 88.668471 72.881274 \r\nL 86.718484 70.736274 \r\nL 85.083728 68.595887 \r\nL 83.663841 67.003539 \r\nL 82.669497 66.103794 \r\nL 81.308751 64.152699 \r\nL 76.054693 57.822023 \r\nL 74.100964 55.0552 \r\nL 73.352817 53.782981 \r\nL 73.60309 52.836376 \r\nL 76.158879 51.610244 \r\nL 78.944956 46.061094 \r\nL 78.682219 45.095089 \r\nL 75.753605 43.294377 \r\nL 72.405984 40.713807 \r\nL 68.01839 37.022887 \r\nL 68.805705 35.472143 \r\nL 71.000421 32.844858 \r\nL 72.995088 29.443509 \r\nL 73.929125 25.956591 \r\nL 74.156714 22.54556 \r\nL 74.187237 20.030481 \r\nL 74.836828 18.496881 \r\nL 74.626062 17.475873 \r\nL 72.707067 17.471666 \r\nL 68.742316 17.328516 \r\nL 65.365397 17.083636 \r\nL 64.604846 17.344997 \r\nL 64.450505 18.08173 \r\nL 64.408807 18.620339 \r\nL 64.408807 18.620339 \r\n\" style=\"fill:none;stroke:#ff0000;stroke-linecap:square;stroke-width:1.5;\"/>\r\n   </g>\r\n   <g id=\"patch_3\">\r\n    <path d=\"M 49.190625 224.64 \r\nL 49.190625 7.2 \r\n\" style=\"fill:none;stroke:#000000;stroke-linecap:square;stroke-linejoin:miter;stroke-width:0.8;\"/>\r\n   </g>\r\n   <g id=\"patch_4\">\r\n    <path d=\"M 383.990625 224.64 \r\nL 383.990625 7.2 \r\n\" style=\"fill:none;stroke:#000000;stroke-linecap:square;stroke-linejoin:miter;stroke-width:0.8;\"/>\r\n   </g>\r\n   <g id=\"patch_5\">\r\n    <path d=\"M 49.190625 224.64 \r\nL 383.990625 224.64 \r\n\" style=\"fill:none;stroke:#000000;stroke-linecap:square;stroke-linejoin:miter;stroke-width:0.8;\"/>\r\n   </g>\r\n   <g id=\"patch_6\">\r\n    <path d=\"M 49.190625 7.2 \r\nL 383.990625 7.2 \r\n\" style=\"fill:none;stroke:#000000;stroke-linecap:square;stroke-linejoin:miter;stroke-width:0.8;\"/>\r\n   </g>\r\n  </g>\r\n </g>\r\n <defs>\r\n  <clipPath id=\"p2acf858e28\">\r\n   <rect height=\"217.44\" width=\"334.8\" x=\"49.190625\" y=\"7.2\"/>\r\n  </clipPath>\r\n </defs>\r\n</svg>\r\n",
      "image/png": "[encoded data removed]"
     },
     "metadata": {
      "needs_background": "light"
     }
    }
   ],
   "source": [
    "# Simple visualization of the raw trajectory\n",
    "fig, ax = plt.subplots()\n",
    "single_track_new = single_track\n",
    "single_track_new['lat'] = single_track['geometry'].apply(lambda coord: coord.y)\n",
    "single_track_new['lng'] = single_track['geometry'].apply(lambda coord: coord.x)\n",
    "ax.plot(single_track_new['lng'], single_track_new['lat'], 'r-')\n",
    "plt.show()"
   ]
  },
  {
   "cell_type": "code",
   "execution_count": 65,
   "metadata": {
    "tags": [
     "outputPrepend"
    ]
   },
   "outputs": [
    {
     "output_type": "display_data",
     "data": {
      "text/plain": "<Figure size 432x288 with 1 Axes>",
      "image/svg+xml": "<?xml version=\"1.0\" encoding=\"utf-8\" standalone=\"no\"?>\r\n<!DOCTYPE svg PUBLIC \"-//W3C//DTD SVG 1.1//EN\"\r\n  \"http://www.w3.org/Graphics/SVG/1.1/DTD/svg11.dtd\">\r\n<!-- Created with matplotlib (https://matplotlib.org/) -->\r\n<svg height=\"248.518125pt\" version=\"1.1\" viewBox=\"0 0 391.190625 248.518125\" width=\"391.190625pt\" xmlns=\"http://www.w3.org/2000/svg\" xmlns:xlink=\"http://www.w3.org/1999/xlink\">\r\n <defs>\r\n  <style type=\"text/css\">\r\n*{stroke-linecap:butt;stroke-linejoin:round;}\r\n  </style>\r\n </defs>\r\n <g id=\"figure_1\">\r\n  <g id=\"patch_1\">\r\n   <path d=\"M 0 248.518125 \r\nL 391.190625 248.518125 \r\nL 391.190625 0 \r\nL 0 0 \r\nz\r\n\" style=\"fill:none;\"/>\r\n  </g>\r\n  <g id=\"axes_1\">\r\n   <g id=\"patch_2\">\r\n    <path d=\"M 49.190625 224.64 \r\nL 383.990625 224.64 \r\nL 383.990625 7.2 \r\nL 49.190625 7.2 \r\nz\r\n\" style=\"fill:#ffffff;\"/>\r\n   </g>\r\n   <g id=\"matplotlib.axis_1\">\r\n    <g id=\"xtick_1\">\r\n     <g id=\"line2d_1\">\r\n      <defs>\r\n       <path d=\"M 0 0 \r\nL 0 3.5 \r\n\" id=\"m3aac0463db\" style=\"stroke:#000000;stroke-width:0.8;\"/>\r\n      </defs>\r\n      <g>\r\n       <use style=\"stroke:#000000;stroke-width:0.8;\" x=\"79.430608\" xlink:href=\"#m3aac0463db\" y=\"224.64\"/>\r\n      </g>\r\n     </g>\r\n     <g id=\"text_1\">\r\n      <!-- 7.59 -->\r\n      <defs>\r\n       <path d=\"M 8.203125 72.90625 \r\nL 55.078125 72.90625 \r\nL 55.078125 68.703125 \r\nL 28.609375 0 \r\nL 18.3125 0 \r\nL 43.21875 64.59375 \r\nL 8.203125 64.59375 \r\nz\r\n\" id=\"DejaVuSans-55\"/>\r\n       <path d=\"M 10.6875 12.40625 \r\nL 21 12.40625 \r\nL 21 0 \r\nL 10.6875 0 \r\nz\r\n\" id=\"DejaVuSans-46\"/>\r\n       <path d=\"M 10.796875 72.90625 \r\nL 49.515625 72.90625 \r\nL 49.515625 64.59375 \r\nL 19.828125 64.59375 \r\nL 19.828125 46.734375 \r\nQ 21.96875 47.46875 24.109375 47.828125 \r\nQ 26.265625 48.1875 28.421875 48.1875 \r\nQ 40.625 48.1875 47.75 41.5 \r\nQ 54.890625 34.8125 54.890625 23.390625 \r\nQ 54.890625 11.625 47.5625 5.09375 \r\nQ 40.234375 -1.421875 26.90625 -1.421875 \r\nQ 22.3125 -1.421875 17.546875 -0.640625 \r\nQ 12.796875 0.140625 7.71875 1.703125 \r\nL 7.71875 11.625 \r\nQ 12.109375 9.234375 16.796875 8.0625 \r\nQ 21.484375 6.890625 26.703125 6.890625 \r\nQ 35.15625 6.890625 40.078125 11.328125 \r\nQ 45.015625 15.765625 45.015625 23.390625 \r\nQ 45.015625 31 40.078125 35.4375 \r\nQ 35.15625 39.890625 26.703125 39.890625 \r\nQ 22.75 39.890625 18.8125 39.015625 \r\nQ 14.890625 38.140625 10.796875 36.28125 \r\nz\r\n\" id=\"DejaVuSans-53\"/>\r\n       <path d=\"M 10.984375 1.515625 \r\nL 10.984375 10.5 \r\nQ 14.703125 8.734375 18.5 7.8125 \r\nQ 22.3125 6.890625 25.984375 6.890625 \r\nQ 35.75 6.890625 40.890625 13.453125 \r\nQ 46.046875 20.015625 46.78125 33.40625 \r\nQ 43.953125 29.203125 39.59375 26.953125 \r\nQ 35.25 24.703125 29.984375 24.703125 \r\nQ 19.046875 24.703125 12.671875 31.3125 \r\nQ 6.296875 37.9375 6.296875 49.421875 \r\nQ 6.296875 60.640625 12.9375 67.421875 \r\nQ 19.578125 74.21875 30.609375 74.21875 \r\nQ 43.265625 74.21875 49.921875 64.515625 \r\nQ 56.59375 54.828125 56.59375 36.375 \r\nQ 56.59375 19.140625 48.40625 8.859375 \r\nQ 40.234375 -1.421875 26.421875 -1.421875 \r\nQ 22.703125 -1.421875 18.890625 -0.6875 \r\nQ 15.09375 0.046875 10.984375 1.515625 \r\nz\r\nM 30.609375 32.421875 \r\nQ 37.25 32.421875 41.125 36.953125 \r\nQ 45.015625 41.5 45.015625 49.421875 \r\nQ 45.015625 57.28125 41.125 61.84375 \r\nQ 37.25 66.40625 30.609375 66.40625 \r\nQ 23.96875 66.40625 20.09375 61.84375 \r\nQ 16.21875 57.28125 16.21875 49.421875 \r\nQ 16.21875 41.5 20.09375 36.953125 \r\nQ 23.96875 32.421875 30.609375 32.421875 \r\nz\r\n\" id=\"DejaVuSans-57\"/>\r\n      </defs>\r\n      <g transform=\"translate(68.297796 239.238438)scale(0.1 -0.1)\">\r\n       <use xlink:href=\"#DejaVuSans-55\"/>\r\n       <use x=\"63.623047\" xlink:href=\"#DejaVuSans-46\"/>\r\n       <use x=\"95.410156\" xlink:href=\"#DejaVuSans-53\"/>\r\n       <use x=\"159.033203\" xlink:href=\"#DejaVuSans-57\"/>\r\n      </g>\r\n     </g>\r\n    </g>\r\n    <g id=\"xtick_2\">\r\n     <g id=\"line2d_2\">\r\n      <g>\r\n       <use style=\"stroke:#000000;stroke-width:0.8;\" x=\"128.216972\" xlink:href=\"#m3aac0463db\" y=\"224.64\"/>\r\n      </g>\r\n     </g>\r\n     <g id=\"text_2\">\r\n      <!-- 7.60 -->\r\n      <defs>\r\n       <path d=\"M 33.015625 40.375 \r\nQ 26.375 40.375 22.484375 35.828125 \r\nQ 18.609375 31.296875 18.609375 23.390625 \r\nQ 18.609375 15.53125 22.484375 10.953125 \r\nQ 26.375 6.390625 33.015625 6.390625 \r\nQ 39.65625 6.390625 43.53125 10.953125 \r\nQ 47.40625 15.53125 47.40625 23.390625 \r\nQ 47.40625 31.296875 43.53125 35.828125 \r\nQ 39.65625 40.375 33.015625 40.375 \r\nz\r\nM 52.59375 71.296875 \r\nL 52.59375 62.3125 \r\nQ 48.875 64.0625 45.09375 64.984375 \r\nQ 41.3125 65.921875 37.59375 65.921875 \r\nQ 27.828125 65.921875 22.671875 59.328125 \r\nQ 17.53125 52.734375 16.796875 39.40625 \r\nQ 19.671875 43.65625 24.015625 45.921875 \r\nQ 28.375 48.1875 33.59375 48.1875 \r\nQ 44.578125 48.1875 50.953125 41.515625 \r\nQ 57.328125 34.859375 57.328125 23.390625 \r\nQ 57.328125 12.15625 50.6875 5.359375 \r\nQ 44.046875 -1.421875 33.015625 -1.421875 \r\nQ 20.359375 -1.421875 13.671875 8.265625 \r\nQ 6.984375 17.96875 6.984375 36.375 \r\nQ 6.984375 53.65625 15.1875 63.9375 \r\nQ 23.390625 74.21875 37.203125 74.21875 \r\nQ 40.921875 74.21875 44.703125 73.484375 \r\nQ 48.484375 72.75 52.59375 71.296875 \r\nz\r\n\" id=\"DejaVuSans-54\"/>\r\n       <path d=\"M 31.78125 66.40625 \r\nQ 24.171875 66.40625 20.328125 58.90625 \r\nQ 16.5 51.421875 16.5 36.375 \r\nQ 16.5 21.390625 20.328125 13.890625 \r\nQ 24.171875 6.390625 31.78125 6.390625 \r\nQ 39.453125 6.390625 43.28125 13.890625 \r\nQ 47.125 21.390625 47.125 36.375 \r\nQ 47.125 51.421875 43.28125 58.90625 \r\nQ 39.453125 66.40625 31.78125 66.40625 \r\nz\r\nM 31.78125 74.21875 \r\nQ 44.046875 74.21875 50.515625 64.515625 \r\nQ 56.984375 54.828125 56.984375 36.375 \r\nQ 56.984375 17.96875 50.515625 8.265625 \r\nQ 44.046875 -1.421875 31.78125 -1.421875 \r\nQ 19.53125 -1.421875 13.0625 8.265625 \r\nQ 6.59375 17.96875 6.59375 36.375 \r\nQ 6.59375 54.828125 13.0625 64.515625 \r\nQ 19.53125 74.21875 31.78125 74.21875 \r\nz\r\n\" id=\"DejaVuSans-48\"/>\r\n      </defs>\r\n      <g transform=\"translate(117.08416 239.238438)scale(0.1 -0.1)\">\r\n       <use xlink:href=\"#DejaVuSans-55\"/>\r\n       <use x=\"63.623047\" xlink:href=\"#DejaVuSans-46\"/>\r\n       <use x=\"95.410156\" xlink:href=\"#DejaVuSans-54\"/>\r\n       <use x=\"159.033203\" xlink:href=\"#DejaVuSans-48\"/>\r\n      </g>\r\n     </g>\r\n    </g>\r\n    <g id=\"xtick_3\">\r\n     <g id=\"line2d_3\">\r\n      <g>\r\n       <use style=\"stroke:#000000;stroke-width:0.8;\" x=\"177.003336\" xlink:href=\"#m3aac0463db\" y=\"224.64\"/>\r\n      </g>\r\n     </g>\r\n     <g id=\"text_3\">\r\n      <!-- 7.61 -->\r\n      <defs>\r\n       <path d=\"M 12.40625 8.296875 \r\nL 28.515625 8.296875 \r\nL 28.515625 63.921875 \r\nL 10.984375 60.40625 \r\nL 10.984375 69.390625 \r\nL 28.421875 72.90625 \r\nL 38.28125 72.90625 \r\nL 38.28125 8.296875 \r\nL 54.390625 8.296875 \r\nL 54.390625 0 \r\nL 12.40625 0 \r\nz\r\n\" id=\"DejaVuSans-49\"/>\r\n      </defs>\r\n      <g transform=\"translate(165.870524 239.238438)scale(0.1 -0.1)\">\r\n       <use xlink:href=\"#DejaVuSans-55\"/>\r\n       <use x=\"63.623047\" xlink:href=\"#DejaVuSans-46\"/>\r\n       <use x=\"95.410156\" xlink:href=\"#DejaVuSans-54\"/>\r\n       <use x=\"159.033203\" xlink:href=\"#DejaVuSans-49\"/>\r\n      </g>\r\n     </g>\r\n    </g>\r\n    <g id=\"xtick_4\">\r\n     <g id=\"line2d_4\">\r\n      <g>\r\n       <use style=\"stroke:#000000;stroke-width:0.8;\" x=\"225.789701\" xlink:href=\"#m3aac0463db\" y=\"224.64\"/>\r\n      </g>\r\n     </g>\r\n     <g id=\"text_4\">\r\n      <!-- 7.62 -->\r\n      <defs>\r\n       <path d=\"M 19.1875 8.296875 \r\nL 53.609375 8.296875 \r\nL 53.609375 0 \r\nL 7.328125 0 \r\nL 7.328125 8.296875 \r\nQ 12.9375 14.109375 22.625 23.890625 \r\nQ 32.328125 33.6875 34.8125 36.53125 \r\nQ 39.546875 41.84375 41.421875 45.53125 \r\nQ 43.3125 49.21875 43.3125 52.78125 \r\nQ 43.3125 58.59375 39.234375 62.25 \r\nQ 35.15625 65.921875 28.609375 65.921875 \r\nQ 23.96875 65.921875 18.8125 64.3125 \r\nQ 13.671875 62.703125 7.8125 59.421875 \r\nL 7.8125 69.390625 \r\nQ 13.765625 71.78125 18.9375 73 \r\nQ 24.125 74.21875 28.421875 74.21875 \r\nQ 39.75 74.21875 46.484375 68.546875 \r\nQ 53.21875 62.890625 53.21875 53.421875 \r\nQ 53.21875 48.921875 51.53125 44.890625 \r\nQ 49.859375 40.875 45.40625 35.40625 \r\nQ 44.1875 33.984375 37.640625 27.21875 \r\nQ 31.109375 20.453125 19.1875 8.296875 \r\nz\r\n\" id=\"DejaVuSans-50\"/>\r\n      </defs>\r\n      <g transform=\"translate(214.656888 239.238438)scale(0.1 -0.1)\">\r\n       <use xlink:href=\"#DejaVuSans-55\"/>\r\n       <use x=\"63.623047\" xlink:href=\"#DejaVuSans-46\"/>\r\n       <use x=\"95.410156\" xlink:href=\"#DejaVuSans-54\"/>\r\n       <use x=\"159.033203\" xlink:href=\"#DejaVuSans-50\"/>\r\n      </g>\r\n     </g>\r\n    </g>\r\n    <g id=\"xtick_5\">\r\n     <g id=\"line2d_5\">\r\n      <g>\r\n       <use style=\"stroke:#000000;stroke-width:0.8;\" x=\"274.576065\" xlink:href=\"#m3aac0463db\" y=\"224.64\"/>\r\n      </g>\r\n     </g>\r\n     <g id=\"text_5\">\r\n      <!-- 7.63 -->\r\n      <defs>\r\n       <path d=\"M 40.578125 39.3125 \r\nQ 47.65625 37.796875 51.625 33 \r\nQ 55.609375 28.21875 55.609375 21.1875 \r\nQ 55.609375 10.40625 48.1875 4.484375 \r\nQ 40.765625 -1.421875 27.09375 -1.421875 \r\nQ 22.515625 -1.421875 17.65625 -0.515625 \r\nQ 12.796875 0.390625 7.625 2.203125 \r\nL 7.625 11.71875 \r\nQ 11.71875 9.328125 16.59375 8.109375 \r\nQ 21.484375 6.890625 26.8125 6.890625 \r\nQ 36.078125 6.890625 40.9375 10.546875 \r\nQ 45.796875 14.203125 45.796875 21.1875 \r\nQ 45.796875 27.640625 41.28125 31.265625 \r\nQ 36.765625 34.90625 28.71875 34.90625 \r\nL 20.21875 34.90625 \r\nL 20.21875 43.015625 \r\nL 29.109375 43.015625 \r\nQ 36.375 43.015625 40.234375 45.921875 \r\nQ 44.09375 48.828125 44.09375 54.296875 \r\nQ 44.09375 59.90625 40.109375 62.90625 \r\nQ 36.140625 65.921875 28.71875 65.921875 \r\nQ 24.65625 65.921875 20.015625 65.03125 \r\nQ 15.375 64.15625 9.8125 62.3125 \r\nL 9.8125 71.09375 \r\nQ 15.4375 72.65625 20.34375 73.4375 \r\nQ 25.25 74.21875 29.59375 74.21875 \r\nQ 40.828125 74.21875 47.359375 69.109375 \r\nQ 53.90625 64.015625 53.90625 55.328125 \r\nQ 53.90625 49.265625 50.4375 45.09375 \r\nQ 46.96875 40.921875 40.578125 39.3125 \r\nz\r\n\" id=\"DejaVuSans-51\"/>\r\n      </defs>\r\n      <g transform=\"translate(263.443252 239.238438)scale(0.1 -0.1)\">\r\n       <use xlink:href=\"#DejaVuSans-55\"/>\r\n       <use x=\"63.623047\" xlink:href=\"#DejaVuSans-46\"/>\r\n       <use x=\"95.410156\" xlink:href=\"#DejaVuSans-54\"/>\r\n       <use x=\"159.033203\" xlink:href=\"#DejaVuSans-51\"/>\r\n      </g>\r\n     </g>\r\n    </g>\r\n    <g id=\"xtick_6\">\r\n     <g id=\"line2d_6\">\r\n      <g>\r\n       <use style=\"stroke:#000000;stroke-width:0.8;\" x=\"323.362429\" xlink:href=\"#m3aac0463db\" y=\"224.64\"/>\r\n      </g>\r\n     </g>\r\n     <g id=\"text_6\">\r\n      <!-- 7.64 -->\r\n      <defs>\r\n       <path d=\"M 37.796875 64.3125 \r\nL 12.890625 25.390625 \r\nL 37.796875 25.390625 \r\nz\r\nM 35.203125 72.90625 \r\nL 47.609375 72.90625 \r\nL 47.609375 25.390625 \r\nL 58.015625 25.390625 \r\nL 58.015625 17.1875 \r\nL 47.609375 17.1875 \r\nL 47.609375 0 \r\nL 37.796875 0 \r\nL 37.796875 17.1875 \r\nL 4.890625 17.1875 \r\nL 4.890625 26.703125 \r\nz\r\n\" id=\"DejaVuSans-52\"/>\r\n      </defs>\r\n      <g transform=\"translate(312.229616 239.238438)scale(0.1 -0.1)\">\r\n       <use xlink:href=\"#DejaVuSans-55\"/>\r\n       <use x=\"63.623047\" xlink:href=\"#DejaVuSans-46\"/>\r\n       <use x=\"95.410156\" xlink:href=\"#DejaVuSans-54\"/>\r\n       <use x=\"159.033203\" xlink:href=\"#DejaVuSans-52\"/>\r\n      </g>\r\n     </g>\r\n    </g>\r\n    <g id=\"xtick_7\">\r\n     <g id=\"line2d_7\">\r\n      <g>\r\n       <use style=\"stroke:#000000;stroke-width:0.8;\" x=\"372.148793\" xlink:href=\"#m3aac0463db\" y=\"224.64\"/>\r\n      </g>\r\n     </g>\r\n     <g id=\"text_7\">\r\n      <!-- 7.65 -->\r\n      <g transform=\"translate(361.01598 239.238438)scale(0.1 -0.1)\">\r\n       <use xlink:href=\"#DejaVuSans-55\"/>\r\n       <use x=\"63.623047\" xlink:href=\"#DejaVuSans-46\"/>\r\n       <use x=\"95.410156\" xlink:href=\"#DejaVuSans-54\"/>\r\n       <use x=\"159.033203\" xlink:href=\"#DejaVuSans-53\"/>\r\n      </g>\r\n     </g>\r\n    </g>\r\n   </g>\r\n   <g id=\"matplotlib.axis_2\">\r\n    <g id=\"ytick_1\">\r\n     <g id=\"line2d_8\">\r\n      <defs>\r\n       <path d=\"M 0 0 \r\nL -3.5 0 \r\n\" id=\"md090913d57\" style=\"stroke:#000000;stroke-width:0.8;\"/>\r\n      </defs>\r\n      <g>\r\n       <use style=\"stroke:#000000;stroke-width:0.8;\" x=\"49.190625\" xlink:href=\"#md090913d57\" y=\"213.375119\"/>\r\n      </g>\r\n     </g>\r\n     <g id=\"text_8\">\r\n      <!-- 51.935 -->\r\n      <g transform=\"translate(7.2 217.174338)scale(0.1 -0.1)\">\r\n       <use xlink:href=\"#DejaVuSans-53\"/>\r\n       <use x=\"63.623047\" xlink:href=\"#DejaVuSans-49\"/>\r\n       <use x=\"127.246094\" xlink:href=\"#DejaVuSans-46\"/>\r\n       <use x=\"159.033203\" xlink:href=\"#DejaVuSans-57\"/>\r\n       <use x=\"222.65625\" xlink:href=\"#DejaVuSans-51\"/>\r\n       <use x=\"286.279297\" xlink:href=\"#DejaVuSans-53\"/>\r\n      </g>\r\n     </g>\r\n    </g>\r\n    <g id=\"ytick_2\">\r\n     <g id=\"line2d_9\">\r\n      <g>\r\n       <use style=\"stroke:#000000;stroke-width:0.8;\" x=\"49.190625\" xlink:href=\"#md090913d57\" y=\"181.284004\"/>\r\n      </g>\r\n     </g>\r\n     <g id=\"text_9\">\r\n      <!-- 51.940 -->\r\n      <g transform=\"translate(7.2 185.083223)scale(0.1 -0.1)\">\r\n       <use xlink:href=\"#DejaVuSans-53\"/>\r\n       <use x=\"63.623047\" xlink:href=\"#DejaVuSans-49\"/>\r\n       <use x=\"127.246094\" xlink:href=\"#DejaVuSans-46\"/>\r\n       <use x=\"159.033203\" xlink:href=\"#DejaVuSans-57\"/>\r\n       <use x=\"222.65625\" xlink:href=\"#DejaVuSans-52\"/>\r\n       <use x=\"286.279297\" xlink:href=\"#DejaVuSans-48\"/>\r\n      </g>\r\n     </g>\r\n    </g>\r\n    <g id=\"ytick_3\">\r\n     <g id=\"line2d_10\">\r\n      <g>\r\n       <use style=\"stroke:#000000;stroke-width:0.8;\" x=\"49.190625\" xlink:href=\"#md090913d57\" y=\"149.192889\"/>\r\n      </g>\r\n     </g>\r\n     <g id=\"text_10\">\r\n      <!-- 51.945 -->\r\n      <g transform=\"translate(7.2 152.992107)scale(0.1 -0.1)\">\r\n       <use xlink:href=\"#DejaVuSans-53\"/>\r\n       <use x=\"63.623047\" xlink:href=\"#DejaVuSans-49\"/>\r\n       <use x=\"127.246094\" xlink:href=\"#DejaVuSans-46\"/>\r\n       <use x=\"159.033203\" xlink:href=\"#DejaVuSans-57\"/>\r\n       <use x=\"222.65625\" xlink:href=\"#DejaVuSans-52\"/>\r\n       <use x=\"286.279297\" xlink:href=\"#DejaVuSans-53\"/>\r\n      </g>\r\n     </g>\r\n    </g>\r\n    <g id=\"ytick_4\">\r\n     <g id=\"line2d_11\">\r\n      <g>\r\n       <use style=\"stroke:#000000;stroke-width:0.8;\" x=\"49.190625\" xlink:href=\"#md090913d57\" y=\"117.101773\"/>\r\n      </g>\r\n     </g>\r\n     <g id=\"text_11\">\r\n      <!-- 51.950 -->\r\n      <g transform=\"translate(7.2 120.900992)scale(0.1 -0.1)\">\r\n       <use xlink:href=\"#DejaVuSans-53\"/>\r\n       <use x=\"63.623047\" xlink:href=\"#DejaVuSans-49\"/>\r\n       <use x=\"127.246094\" xlink:href=\"#DejaVuSans-46\"/>\r\n       <use x=\"159.033203\" xlink:href=\"#DejaVuSans-57\"/>\r\n       <use x=\"222.65625\" xlink:href=\"#DejaVuSans-53\"/>\r\n       <use x=\"286.279297\" xlink:href=\"#DejaVuSans-48\"/>\r\n      </g>\r\n     </g>\r\n    </g>\r\n    <g id=\"ytick_5\">\r\n     <g id=\"line2d_12\">\r\n      <g>\r\n       <use style=\"stroke:#000000;stroke-width:0.8;\" x=\"49.190625\" xlink:href=\"#md090913d57\" y=\"85.010658\"/>\r\n      </g>\r\n     </g>\r\n     <g id=\"text_12\">\r\n      <!-- 51.955 -->\r\n      <g transform=\"translate(7.2 88.809877)scale(0.1 -0.1)\">\r\n       <use xlink:href=\"#DejaVuSans-53\"/>\r\n       <use x=\"63.623047\" xlink:href=\"#DejaVuSans-49\"/>\r\n       <use x=\"127.246094\" xlink:href=\"#DejaVuSans-46\"/>\r\n       <use x=\"159.033203\" xlink:href=\"#DejaVuSans-57\"/>\r\n       <use x=\"222.65625\" xlink:href=\"#DejaVuSans-53\"/>\r\n       <use x=\"286.279297\" xlink:href=\"#DejaVuSans-53\"/>\r\n      </g>\r\n     </g>\r\n    </g>\r\n    <g id=\"ytick_6\">\r\n     <g id=\"line2d_13\">\r\n      <g>\r\n       <use style=\"stroke:#000000;stroke-width:0.8;\" x=\"49.190625\" xlink:href=\"#md090913d57\" y=\"52.919543\"/>\r\n      </g>\r\n     </g>\r\n     <g id=\"text_13\">\r\n      <!-- 51.960 -->\r\n      <g transform=\"translate(7.2 56.718761)scale(0.1 -0.1)\">\r\n       <use xlink:href=\"#DejaVuSans-53\"/>\r\n       <use x=\"63.623047\" xlink:href=\"#DejaVuSans-49\"/>\r\n       <use x=\"127.246094\" xlink:href=\"#DejaVuSans-46\"/>\r\n       <use x=\"159.033203\" xlink:href=\"#DejaVuSans-57\"/>\r\n       <use x=\"222.65625\" xlink:href=\"#DejaVuSans-54\"/>\r\n       <use x=\"286.279297\" xlink:href=\"#DejaVuSans-48\"/>\r\n      </g>\r\n     </g>\r\n    </g>\r\n    <g id=\"ytick_7\">\r\n     <g id=\"line2d_14\">\r\n      <g>\r\n       <use style=\"stroke:#000000;stroke-width:0.8;\" x=\"49.190625\" xlink:href=\"#md090913d57\" y=\"20.828427\"/>\r\n      </g>\r\n     </g>\r\n     <g id=\"text_14\">\r\n      <!-- 51.965 -->\r\n      <g transform=\"translate(7.2 24.627646)scale(0.1 -0.1)\">\r\n       <use xlink:href=\"#DejaVuSans-53\"/>\r\n       <use x=\"63.623047\" xlink:href=\"#DejaVuSans-49\"/>\r\n       <use x=\"127.246094\" xlink:href=\"#DejaVuSans-46\"/>\r\n       <use x=\"159.033203\" xlink:href=\"#DejaVuSans-57\"/>\r\n       <use x=\"222.65625\" xlink:href=\"#DejaVuSans-54\"/>\r\n       <use x=\"286.279297\" xlink:href=\"#DejaVuSans-53\"/>\r\n      </g>\r\n     </g>\r\n    </g>\r\n   </g>\r\n   <g id=\"line2d_15\">\r\n    <path clip-path=\"url(#pba5246cc3e)\" d=\"M 368.772443 170.795997 \r\nL 362.31246 164.163851 \r\nL 360.8753 162.840818 \r\nL 361.227082 163.003629 \r\nL 361.285308 162.891996 \r\nL 361.16014 162.384962 \r\nL 360.57925 161.213851 \r\nL 359.901069 160.233315 \r\nL 359.074726 159.398501 \r\nL 358.468059 159.026408 \r\nL 357.835893 158.844327 \r\nL 356.878295 158.862003 \r\nL 355.962557 159.11974 \r\nL 354.792869 159.697703 \r\nL 345.855107 165.066731 \r\nL 342.816481 167.555074 \r\nL 336.47248 172.755079 \r\nL 332.152981 176.137688 \r\nL 329.285406 178.055804 \r\nL 327.284344 178.987926 \r\nL 324.763696 180.116505 \r\nL 305.391001 189.691941 \r\nL 301.112906 191.406989 \r\nL 297.157795 192.595969 \r\nL 292.34749 193.734624 \r\nL 283.628264 195.398135 \r\nL 274.880446 197.00448 \r\nL 267.970222 198.592212 \r\nL 212.711308 211.741701 \r\nL 208.502189 212.467479 \r\nL 203.351603 213.183126 \r\nL 196.121024 213.951127 \r\nL 188.405464 214.58709 \r\nL 184.003578 214.756364 \r\nL 179.333988 214.527976 \r\nL 174.297127 213.888513 \r\nL 167.848138 212.747766 \r\nL 163.535956 211.752537 \r\nL 158.885477 210.576194 \r\nL 155.257088 209.937226 \r\nL 151.555063 209.588872 \r\nL 148.554538 209.551571 \r\nL 146.473746 209.76939 \r\nL 145.036135 210.12774 \r\nL 140.197739 211.752487 \r\nL 140.882772 211.443871 \r\nL 141.763302 211.108224 \r\nL 141.717352 211.18694 \r\nL 141.935812 211.470179 \r\nL 142.641284 211.451792 \r\nL 140.636769 211.515522 \r\nL 138.884487 211.450013 \r\nL 137.887651 211.235621 \r\nL 136.20525 210.782678 \r\nL 135.191349 210.884754 \r\nL 133.871293 211.411518 \r\nL 132.447639 212.254361 \r\nL 129.911818 214.009656 \r\nL 129.39485 214.064839 \r\nL 128.820151 213.988986 \r\nL 127.475569 213.465112 \r\nL 124.585904 211.766282 \r\nL 114.835849 205.988926 \r\nL 112.786107 204.519163 \r\nL 111.111289 202.994205 \r\nL 109.194122 201.212891 \r\nL 103.757283 196.820969 \r\nL 99.48466 192.999167 \r\nL 95.546178 189.597181 \r\nL 91.359874 185.930304 \r\nL 90.019605 184.539734 \r\nL 89.966873 184.113984 \r\nL 90.351676 183.618778 \r\nL 91.913561 182.485583 \r\nL 95.143984 180.489758 \r\nL 103.672545 175.49913 \r\nL 106.145172 173.896944 \r\nL 108.81822 171.74504 \r\nL 113.398203 167.594966 \r\nL 116.697066 164.657597 \r\nL 119.386143 162.580607 \r\nL 128.46624 156.745754 \r\nL 129.868372 155.48401 \r\nL 130.628878 154.481295 \r\nL 132.18687 151.891338 \r\nL 134.253734 148.359962 \r\nL 136.25511 145.50267 \r\nL 139.138685 141.831414 \r\nL 139.871593 140.691335 \r\nL 140.545438 139.379917 \r\nL 141.761069 136.374341 \r\nL 142.884195 133.560776 \r\nL 143.616698 132.201581 \r\nL 144.543385 130.8492 \r\nL 145.588592 129.585102 \r\nL 146.669747 128.492303 \r\nL 148.920103 126.739784 \r\nL 151.352469 125.23557 \r\nL 156.272968 122.553964 \r\nL 157.708201 121.715917 \r\nL 158.935298 120.590265 \r\nL 159.240928 120.090627 \r\nL 159.158293 119.884704 \r\nL 158.4764 119.166726 \r\nL 151.679403 112.436223 \r\nL 149.84357 110.423436 \r\nL 148.205844 108.174629 \r\nL 146.853502 105.842242 \r\nL 145.783146 103.374897 \r\nL 144.780349 100.21114 \r\nL 142.595452 92.387371 \r\nL 142.107499 89.73709 \r\nL 141.721023 86.04466 \r\nL 141.81967 85.684585 \r\nL 141.945025 85.548357 \r\nL 142.048038 84.782455 \r\nL 141.98947 83.887876 \r\nL 141.677624 83.210885 \r\nL 141.278073 82.832541 \r\nL 140.715698 82.560588 \r\nL 139.988944 82.436348 \r\nL 139.072486 82.504052 \r\nL 137.784665 82.82708 \r\nL 131.754622 84.885789 \r\nL 130.762465 85.443072 \r\nL 129.808564 86.058382 \r\nL 129.257872 86.277068 \r\nL 128.610824 86.374948 \r\nL 127.832072 86.305937 \r\nL 126.909723 86.041498 \r\nL 125.893397 85.599116 \r\nL 124.842672 85.003727 \r\nL 123.817128 84.280268 \r\nL 122.876343 83.453675 \r\nL 121.392401 81.660922 \r\nL 119.605506 78.80192 \r\nL 118.163057 76.276986 \r\nL 114.236007 69.991617 \r\nL 111.175755 65.586208 \r\nL 111.081018 65.465745 \r\nL 111.225869 65.696735 \r\nL 111.120742 65.650946 \r\nL 110.783454 65.644493 \r\nL 110.15705 65.886454 \r\nL 109.163592 66.567876 \r\nL 103.693198 70.639881 \r\nL 98.81905 73.863245 \r\nL 96.153034 75.40404 \r\nL 94.388111 76.777684 \r\nL 93.760148 76.891472 \r\nL 93.048683 76.689214 \r\nL 92.290314 76.239031 \r\nL 90.836699 74.986065 \r\nL 89.159774 73.140382 \r\nL 88.607274 72.482 \r\nL 87.218793 70.987864 \r\nL 83.626599 66.786844 \r\nL 82.99586 66.213124 \r\nL 79.292639 61.530507 \r\nL 75.387155 56.764006 \r\nL 73.594071 54.081002 \r\nL 73.416529 53.50693 \r\nL 73.506415 52.980783 \r\nL 73.764592 52.833215 \r\nL 74.808644 52.87802 \r\nL 75.162876 52.758566 \r\nL 75.547705 52.510994 \r\nL 75.959786 52.097375 \r\nL 76.844588 50.667249 \r\nL 79.155887 45.695908 \r\nL 78.954743 45.18529 \r\nL 78.870815 45.092928 \r\nL 78.869955 45.187869 \r\nL 78.720157 45.178154 \r\nL 77.855321 44.682148 \r\nL 75.722801 43.162146 \r\nL 70.355796 38.991065 \r\nL 67.979786 36.878809 \r\nL 67.86574 36.428841 \r\nL 67.965502 35.982514 \r\nL 68.445548 35.292519 \r\nL 69.533192 34.268643 \r\nL 71.249663 32.680668 \r\nL 71.958789 31.820459 \r\nL 72.683609 30.506758 \r\nL 73.435233 28.454113 \r\nL 74.057708 25.938624 \r\nL 74.294853 23.769336 \r\nL 74.20815 21.78241 \r\nL 74.056905 20.619248 \r\nL 75.068987 18.038513 \r\nL 74.951164 17.609984 \r\nL 74.643671 17.433978 \r\nL 74.034664 17.378019 \r\nL 70.814232 17.461598 \r\nL 64.69815 17.216549 \r\nL 64.533796 17.556725 \r\nL 64.408807 18.621871 \r\nL 64.408807 18.621871 \r\n\" style=\"fill:none;stroke:#ff0000;stroke-linecap:square;stroke-width:1.5;\"/>\r\n   </g>\r\n   <g id=\"patch_3\">\r\n    <path d=\"M 49.190625 224.64 \r\nL 49.190625 7.2 \r\n\" style=\"fill:none;stroke:#000000;stroke-linecap:square;stroke-linejoin:miter;stroke-width:0.8;\"/>\r\n   </g>\r\n   <g id=\"patch_4\">\r\n    <path d=\"M 383.990625 224.64 \r\nL 383.990625 7.2 \r\n\" style=\"fill:none;stroke:#000000;stroke-linecap:square;stroke-linejoin:miter;stroke-width:0.8;\"/>\r\n   </g>\r\n   <g id=\"patch_5\">\r\n    <path d=\"M 49.190625 224.64 \r\nL 383.990625 224.64 \r\n\" style=\"fill:none;stroke:#000000;stroke-linecap:square;stroke-linejoin:miter;stroke-width:0.8;\"/>\r\n   </g>\r\n   <g id=\"patch_6\">\r\n    <path d=\"M 49.190625 7.2 \r\nL 383.990625 7.2 \r\n\" style=\"fill:none;stroke:#000000;stroke-linecap:square;stroke-linejoin:miter;stroke-width:0.8;\"/>\r\n   </g>\r\n  </g>\r\n </g>\r\n <defs>\r\n  <clipPath id=\"pba5246cc3e\">\r\n   <rect height=\"217.44\" width=\"334.8\" x=\"49.190625\" y=\"7.2\"/>\r\n  </clipPath>\r\n </defs>\r\n</svg>\r\n",
      "image/png": "[encoded data removed]"
     },
     "metadata": {
      "needs_background": "light"
     }
    }
   ],
   "source": [
    "no_outliers = preprocessing.remove_outliers(single_track, 'CO2.value')\n",
    "\n",
    "# interpolating for each second\n",
    "interpolated_points = preprocessing.interpolate(no_outliers)\n",
    "\n",
    "# Simple visualization of the trajectory after interpolation\n",
    "fig, ax = plt.subplots()\n",
    "ax.plot(interpolated_points['lng'], interpolated_points['lat'], 'r-')\n",
    "plt.show()\n"
   ]
  },
  {
   "cell_type": "code",
   "execution_count": 66,
   "metadata": {},
   "outputs": [
    {
     "output_type": "display_data",
     "data": {
      "application/vnd.plotly.v1+json": {
       "config": {
        "plotlyServerURL": "https://plot.ly"
       },
       "data": [
        {
         "hovertemplate": "lat=%{lat}<br>lng=%{lon}<br>CO2.value=%{marker.color}<extra></extra>",
         "lat": [
          51.94114900333925,
          51.941634098149166,
          51.94209576738829,
          51.942626702949546,
          51.942885835375805,
          51.943058658951706,
          51.943457097633164,
          51.943456721486456,
          51.943118349455126,
          51.942666427271405,
          51.942127069146025,
          51.941442838743065,
          51.94077841996504,
          51.9402757301183,
          51.93984072760075,
          51.939403340952644,
          51.938948379079285,
          51.93851847626229,
          51.93819063072637,
          51.937959392401304,
          51.937774852599745,
          51.93759160147851,
          51.93736906886053,
          51.937148156612395,
          51.936928948655535,
          51.936700123679586,
          51.93646229338279,
          51.93624438856114,
          51.93600358439768,
          51.93573655745951,
          51.935477204575164,
          51.93522868277528,
          51.93505940178836,
          51.93493564732859,
          51.934841347394745,
          51.93478478601713,
          51.93485592128991,
          51.935024558816856,
          51.93525564321611,
          51.93549907948003,
          51.93559837552228,
          51.93546308369446,
          51.93531114333305,
          51.93534831327892,
          51.935348313278915,
          51.93534676548492,
          51.935348313278915,
          51.93534986107291,
          51.93531525841987,
          51.93529985980076,
          51.935295237670665,
          51.935308073094056,
          51.935368722283116,
          51.935131070493654,
          51.9349042936139,
          51.93495911270623,
          51.93519208595653,
          51.93540713820782,
          51.93562280282062,
          51.93585768282272,
          51.93610728122922,
          51.93638502258165,
          51.93670683534851,
          51.93695031872399,
          51.93719115507119,
          51.93747842012908,
          51.93774496669475,
          51.93799972455855,
          51.938302324463656,
          51.93864401106127,
          51.93897762613205,
          51.93915970056073,
          51.93916599581483,
          51.93916512511672,
          51.93916512511672,
          51.93916512511672,
          51.93916512511672,
          51.93916512511672,
          51.93923259055536,
          51.939424213628875,
          51.939718555305404,
          51.940028091579954,
          51.94037524570964,
          51.9407660862868,
          51.94115628578028,
          51.94159762308301,
          51.942046766368556,
          51.94248957172786,
          51.94292285012834,
          51.94330917340639,
          51.943720942642265,
          51.9441946352904,
          51.94478325502134,
          51.945355482926985,
          51.94588489166426,
          51.94642306015679,
          51.94701851166751,
          51.94759016135361,
          51.94811338275572,
          51.94852697917166,
          51.94885500609868,
          51.94912846377619,
          51.949243311116945,
          51.949243311116945,
          51.9492425370129,
          51.94924176290885,
          51.94924292406492,
          51.94924398845799,
          51.94925725194458,
          51.949523986486014,
          51.949990125847116,
          51.95052706159801,
          51.951058168286266,
          51.95165273378029,
          51.95229035729497,
          51.95296567111567,
          51.95364527179914,
          51.954341346942826,
          51.95490131265175,
          51.954988079594955,
          51.955268012159095,
          51.95540162800067,
          51.9552959477936,
          51.95515041845728,
          51.95498150536163,
          51.954794786085216,
          51.95482829603887,
          51.9552399149067,
          51.95565177794585,
          51.95604817829853,
          51.95648054833538,
          51.95696622975328,
          51.95743149811979,
          51.95783698541183,
          51.95801077497666,
          51.95796932562246,
          51.95768612073094,
          51.95741471143271,
          51.95716676993568,
          51.956900583749025,
          51.95667803536008,
          51.9564836007178,
          51.95626472734026,
          51.95632199409039,
          51.956665205479354,
          51.95688966060982,
          51.95722386273565,
          51.95755734607495,
          51.95780544208474,
          51.95794562703139,
          51.958249617870294,
          51.95852635320534,
          51.95877517060194,
          51.959015581213535,
          51.959235969913934,
          51.95943870226393,
          51.959667055248886,
          51.95986527362763,
          51.960012759602634,
          51.960203797255474,
          51.960605266230054,
          51.96093749797032,
          51.96096924229724,
          51.96100916389123,
          51.96106838373227,
          51.96121889220853,
          51.96149945255601,
          51.96190151867207,
          51.96226125285607,
          51.96247658315624,
          51.96271819706471,
          51.963127541706896,
          51.963657489586346,
          51.96420076942392,
          51.96473222582577,
          51.96512408808039,
          51.96536303089413,
          51.965522109291285,
          51.9655227648401,
          51.96554506828241,
          51.96558322180209,
          51.96554250051481,
          51.96547738277146,
          51.96542771356592,
          51.96536192717089,
          51.96534379557152
         ],
         "legendgroup": "",
         "lon": [
          7.650127389746983,
          7.649307931702138,
          7.6486553300486655,
          7.648038446175844,
          7.647771015963152,
          7.647560650842589,
          7.647225246995933,
          7.646693974699599,
          7.6458999675671,
          7.644870348734855,
          7.643888100658952,
          7.642873040603986,
          7.641760332970679,
          7.640550552696894,
          7.639397375070585,
          7.638248146129476,
          7.637034551780043,
          7.6357831255341235,
          7.634388502808344,
          7.632974988178729,
          7.631664207589542,
          7.630331048348051,
          7.629009215167924,
          7.6277937934096744,
          7.626592621614589,
          7.625306570174853,
          7.624021715532243,
          7.622740067132334,
          7.621395641138009,
          7.619980434380347,
          7.618557264186984,
          7.617138527967453,
          7.615706422426536,
          7.61426860663393,
          7.612850110759171,
          7.611451192153114,
          7.610045876945307,
          7.608630791560912,
          7.607225250646654,
          7.605863262309804,
          7.6044902014067866,
          7.603285875708872,
          7.6026305494847435,
          7.602758990883536,
          7.602758990883536,
          7.602758764303662,
          7.602758990883536,
          7.60275921746341,
          7.602786748953841,
          7.602790327848937,
          7.602757040140531,
          7.602115588859737,
          7.601347318251991,
          7.6007867258817745,
          7.600362613352412,
          7.599920869566268,
          7.599384553953981,
          7.5989074725755925,
          7.598451928921535,
          7.597915044425418,
          7.5973458328944075,
          7.596828579769193,
          7.596375889548469,
          7.596007498466503,
          7.595619287719572,
          7.595144400456462,
          7.594736035230481,
          7.594362299990673,
          7.5939230037279115,
          7.593397976673126,
          7.59287745886927,
          7.592594907679375,
          7.5925830578320666,
          7.592582930551477,
          7.592582930551477,
          7.592582930551477,
          7.592582930551477,
          7.592582930551476,
          7.5925065186362595,
          7.592243323562654,
          7.592377191152046,
          7.59300718200832,
          7.593792202710084,
          7.594662123994046,
          7.5954854284589235,
          7.5961916409934425,
          7.596839634539517,
          7.597484972749106,
          7.5982068947496355,
          7.599046925162547,
          7.599871651155112,
          7.600510111143377,
          7.600967952507402,
          7.601433363520617,
          7.601973413825113,
          7.602459482238219,
          7.602786633558193,
          7.603111961928496,
          7.603632181804741,
          7.604300379851452,
          7.605025297966367,
          7.605693264261687,
          7.605984262975408,
          7.605984262975408,
          7.605984149637409,
          7.605984036299412,
          7.605984206306408,
          7.605984362146155,
          7.606034321404224,
          7.606356177891136,
          7.605783444189919,
          7.605072622809308,
          7.604413953277067,
          7.603890975106722,
          7.603531664718808,
          7.603269470500217,
          7.603014355270259,
          7.6028337500724685,
          7.602805209217495,
          7.60282916664823,
          7.602770792405462,
          7.602385410689905,
          7.601782147296659,
          7.601238438349574,
          7.600622288114193,
          7.599945869349394,
          7.599393159390354,
          7.598908863482914,
          7.598486593706141,
          7.598179124310809,
          7.597843854329041,
          7.597451446418864,
          7.597054574506583,
          7.596687108522891,
          7.596516166620642,
          7.596274515170062,
          7.595772813622594,
          7.595294653043012,
          7.594834075396064,
          7.594306727810267,
          7.5938290994858395,
          7.593405244950029,
          7.592944213389813,
          7.592555091305716,
          7.592205510737507,
          7.591958849721706,
          7.591553900307596,
          7.591214414460303,
          7.590919549733139,
          7.590713056731278,
          7.590430473640682,
          7.590120667228604,
          7.589842508234262,
          7.589580036854791,
          7.589339375612678,
          7.58913552041288,
          7.58893364926357,
          7.5887782833728625,
          7.588830256953889,
          7.589361011834448,
          7.589628492581326,
          7.589844505954811,
          7.589871138425494,
          7.589898247960544,
          7.589939589967274,
          7.589885027988988,
          7.58927684951775,
          7.588581656803939,
          7.588004440559306,
          7.58767049544525,
          7.587833995281171,
          7.58828976679332,
          7.588703994709798,
          7.588897963996293,
          7.588945226808618,
          7.588951565557375,
          7.5890864644332385,
          7.589042695121078,
          7.588644181990411,
          7.587820831389777,
          7.58711955450621,
          7.586961612614363,
          7.5869378420789255,
          7.586929560993032,
          7.5869222363914295,
          7.586920901612145
         ],
         "marker": {
          "color": [
           267.768457,
           12.054959,
           20.049575,
           3.160695,
           2.672695,
           20.486945,
           3.075154,
           18.377206,
           18.79311,
           6.234526,
           22.993976,
           17.281175,
           16.90887,
           9.485825,
           8.323835,
           13.34053,
           7.89832,
           7.738042,
           5.115568,
           4.274164,
           8.601045,
           10.832528,
           5.60701,
           8.057933,
           11.752197,
           9.688773,
           9.082073,
           19.805153,
           8.630045,
           9.21047,
           16.244205,
           6.717106,
           9.398372,
           7.019908,
           11.154587,
           13.952371,
           16.178219,
           17.904189,
           10.754144,
           6.409839,
           2.859436,
           2.659735,
           2.742806,
           2.720706,
           2.708844,
           2.703696,
           2.708897,
           2.712926,
           2.70092,
           2.707533,
           6.803487,
           16.447114,
           2.807579,
           2.616278,
           2.743347,
           6.513226,
           2.785404,
           6.838847,
           5.856796,
           9.707776,
           4.451338,
           4.896827,
           2.978534,
           2.607069,
           7.998388,
           2.766155,
           2.605814,
           7.820189,
           7.062954,
           4.379512,
           2.755897,
           2.672684,
           2.708923,
           2.721967,
           2.729169,
           2.725533,
           2.659168,
           2.65754,
           10.316488,
           4.730405,
           4.256799,
           8.874878,
           10.273282,
           6.55315,
           7.570145,
           6.541726,
           5.010242,
           7.436914,
           7.505768,
           7.828665,
           6.778958,
           15.02493,
           6.458751,
           5.484497,
           5.324122,
           5.55799,
           4.593212,
           6.323561,
           4.906968,
           5.055394,
           3.443462,
           2.674378,
           2.718818,
           2.710912,
           2.595174,
           2.688554,
           2.594211,
           2.657262,
           20.096116,
           13.263662,
           10.2694,
           6.176064,
           10.637954,
           6.216098,
           9.072929,
           9.991659,
           12.205149,
           3.918887,
           2.610267,
           13.862422,
           3.31099,
           13.33788,
           6.131701,
           6.970444,
           14.119349,
           3.81668,
           23.666598,
           2.591347,
           2.822291,
           7.43235,
           7.835439,
           5.191027,
           3.932537,
           2.681165,
           8.221485,
           16.240672,
           5.506166,
           4.433536,
           6.416149,
           5.364621,
           3.942006,
           7.460534,
           2.633735,
           25.924385,
           2.638207,
           13.279839,
           2.767219,
           2.571382,
           2.494082,
           11.124613,
           2.858918,
           2.600615,
           2.670487,
           2.884485,
           2.962622,
           5.10777,
           2.538069,
           2.686431,
           10.40002,
           6.112289,
           4.219469,
           2.698081,
           2.56464,
           3.845351,
           2.583585,
           8.096859,
           4.493659,
           3.187304,
           2.634399,
           2.688292,
           19.601693,
           13.435074,
           4.191568,
           6.099612,
           2.878018,
           2.58993,
           3.336911,
           9.464767,
           16.957036,
           3.021157,
           2.581686,
           5.020833,
           2.49627,
           2.57655,
           2.576366,
           4.584776
          ],
          "coloraxis": "coloraxis"
         },
         "mode": "markers",
         "name": "",
         "showlegend": false,
         "subplot": "mapbox",
         "type": "scattermapbox"
        }
       ],
       "layout": {
        "coloraxis": {
         "colorbar": {
          "title": {
           "text": "CO2.value"
          }
         },
         "colorscale": [
          [
           0,
           "#0d0887"
          ],
          [
           0.1111111111111111,
           "#46039f"
          ],
          [
           0.2222222222222222,
           "#7201a8"
          ],
          [
           0.3333333333333333,
           "#9c179e"
          ],
          [
           0.4444444444444444,
           "#bd3786"
          ],
          [
           0.5555555555555556,
           "#d8576b"
          ],
          [
           0.6666666666666666,
           "#ed7953"
          ],
          [
           0.7777777777777778,
           "#fb9f3a"
          ],
          [
           0.8888888888888888,
           "#fdca26"
          ],
          [
           1,
           "#f0f921"
          ]
         ]
        },
        "legend": {
         "tracegroupgap": 0
        },
        "mapbox": {
         "center": {
          "lat": 51.94758482760034,
          "lon": 7.603824831368405
         },
         "domain": {
          "x": [
           0,
           1
          ],
          "y": [
           0,
           1
          ]
         },
         "style": "open-street-map",
         "zoom": 11
        },
        "template": {
         "data": {
          "bar": [
           {
            "error_x": {
             "color": "#2a3f5f"
            },
            "error_y": {
             "color": "#2a3f5f"
            },
            "marker": {
             "line": {
              "color": "#E5ECF6",
              "width": 0.5
             }
            },
            "type": "bar"
           }
          ],
          "barpolar": [
           {
            "marker": {
             "line": {
              "color": "#E5ECF6",
              "width": 0.5
             }
            },
            "type": "barpolar"
           }
          ],
          "carpet": [
           {
            "aaxis": {
             "endlinecolor": "#2a3f5f",
             "gridcolor": "white",
             "linecolor": "white",
             "minorgridcolor": "white",
             "startlinecolor": "#2a3f5f"
            },
            "baxis": {
             "endlinecolor": "#2a3f5f",
             "gridcolor": "white",
             "linecolor": "white",
             "minorgridcolor": "white",
             "startlinecolor": "#2a3f5f"
            },
            "type": "carpet"
           }
          ],
          "choropleth": [
           {
            "colorbar": {
             "outlinewidth": 0,
             "ticks": ""
            },
            "type": "choropleth"
           }
          ],
          "contour": [
           {
            "colorbar": {
             "outlinewidth": 0,
             "ticks": ""
            },
            "colorscale": [
             [
              0,
              "#0d0887"
             ],
             [
              0.1111111111111111,
              "#46039f"
             ],
             [
              0.2222222222222222,
              "#7201a8"
             ],
             [
              0.3333333333333333,
              "#9c179e"
             ],
             [
              0.4444444444444444,
              "#bd3786"
             ],
             [
              0.5555555555555556,
              "#d8576b"
             ],
             [
              0.6666666666666666,
              "#ed7953"
             ],
             [
              0.7777777777777778,
              "#fb9f3a"
             ],
             [
              0.8888888888888888,
              "#fdca26"
             ],
             [
              1,
              "#f0f921"
             ]
            ],
            "type": "contour"
           }
          ],
          "contourcarpet": [
           {
            "colorbar": {
             "outlinewidth": 0,
             "ticks": ""
            },
            "type": "contourcarpet"
           }
          ],
          "heatmap": [
           {
            "colorbar": {
             "outlinewidth": 0,
             "ticks": ""
            },
            "colorscale": [
             [
              0,
              "#0d0887"
             ],
             [
              0.1111111111111111,
              "#46039f"
             ],
             [
              0.2222222222222222,
              "#7201a8"
             ],
             [
              0.3333333333333333,
              "#9c179e"
             ],
             [
              0.4444444444444444,
              "#bd3786"
             ],
             [
              0.5555555555555556,
              "#d8576b"
             ],
             [
              0.6666666666666666,
              "#ed7953"
             ],
             [
              0.7777777777777778,
              "#fb9f3a"
             ],
             [
              0.8888888888888888,
              "#fdca26"
             ],
             [
              1,
              "#f0f921"
             ]
            ],
            "type": "heatmap"
           }
          ],
          "heatmapgl": [
           {
            "colorbar": {
             "outlinewidth": 0,
             "ticks": ""
            },
            "colorscale": [
             [
              0,
              "#0d0887"
             ],
             [
              0.1111111111111111,
              "#46039f"
             ],
             [
              0.2222222222222222,
              "#7201a8"
             ],
             [
              0.3333333333333333,
              "#9c179e"
             ],
             [
              0.4444444444444444,
              "#bd3786"
             ],
             [
              0.5555555555555556,
              "#d8576b"
             ],
             [
              0.6666666666666666,
              "#ed7953"
             ],
             [
              0.7777777777777778,
              "#fb9f3a"
             ],
             [
              0.8888888888888888,
              "#fdca26"
             ],
             [
              1,
              "#f0f921"
             ]
            ],
            "type": "heatmapgl"
           }
          ],
          "histogram": [
           {
            "marker": {
             "colorbar": {
              "outlinewidth": 0,
              "ticks": ""
             }
            },
            "type": "histogram"
           }
          ],
          "histogram2d": [
           {
            "colorbar": {
             "outlinewidth": 0,
             "ticks": ""
            },
            "colorscale": [
             [
              0,
              "#0d0887"
             ],
             [
              0.1111111111111111,
              "#46039f"
             ],
             [
              0.2222222222222222,
              "#7201a8"
             ],
             [
              0.3333333333333333,
              "#9c179e"
             ],
             [
              0.4444444444444444,
              "#bd3786"
             ],
             [
              0.5555555555555556,
              "#d8576b"
             ],
             [
              0.6666666666666666,
              "#ed7953"
             ],
             [
              0.7777777777777778,
              "#fb9f3a"
             ],
             [
              0.8888888888888888,
              "#fdca26"
             ],
             [
              1,
              "#f0f921"
             ]
            ],
            "type": "histogram2d"
           }
          ],
          "histogram2dcontour": [
           {
            "colorbar": {
             "outlinewidth": 0,
             "ticks": ""
            },
            "colorscale": [
             [
              0,
              "#0d0887"
             ],
             [
              0.1111111111111111,
              "#46039f"
             ],
             [
              0.2222222222222222,
              "#7201a8"
             ],
             [
              0.3333333333333333,
              "#9c179e"
             ],
             [
              0.4444444444444444,
              "#bd3786"
             ],
             [
              0.5555555555555556,
              "#d8576b"
             ],
             [
              0.6666666666666666,
              "#ed7953"
             ],
             [
              0.7777777777777778,
              "#fb9f3a"
             ],
             [
              0.8888888888888888,
              "#fdca26"
             ],
             [
              1,
              "#f0f921"
             ]
            ],
            "type": "histogram2dcontour"
           }
          ],
          "mesh3d": [
           {
            "colorbar": {
             "outlinewidth": 0,
             "ticks": ""
            },
            "type": "mesh3d"
           }
          ],
          "parcoords": [
           {
            "line": {
             "colorbar": {
              "outlinewidth": 0,
              "ticks": ""
             }
            },
            "type": "parcoords"
           }
          ],
          "pie": [
           {
            "automargin": true,
            "type": "pie"
           }
          ],
          "scatter": [
           {
            "marker": {
             "colorbar": {
              "outlinewidth": 0,
              "ticks": ""
             }
            },
            "type": "scatter"
           }
          ],
          "scatter3d": [
           {
            "line": {
             "colorbar": {
              "outlinewidth": 0,
              "ticks": ""
             }
            },
            "marker": {
             "colorbar": {
              "outlinewidth": 0,
              "ticks": ""
             }
            },
            "type": "scatter3d"
           }
          ],
          "scattercarpet": [
           {
            "marker": {
             "colorbar": {
              "outlinewidth": 0,
              "ticks": ""
             }
            },
            "type": "scattercarpet"
           }
          ],
          "scattergeo": [
           {
            "marker": {
             "colorbar": {
              "outlinewidth": 0,
              "ticks": ""
             }
            },
            "type": "scattergeo"
           }
          ],
          "scattergl": [
           {
            "marker": {
             "colorbar": {
              "outlinewidth": 0,
              "ticks": ""
             }
            },
            "type": "scattergl"
           }
          ],
          "scattermapbox": [
           {
            "marker": {
             "colorbar": {
              "outlinewidth": 0,
              "ticks": ""
             }
            },
            "type": "scattermapbox"
           }
          ],
          "scatterpolar": [
           {
            "marker": {
             "colorbar": {
              "outlinewidth": 0,
              "ticks": ""
             }
            },
            "type": "scatterpolar"
           }
          ],
          "scatterpolargl": [
           {
            "marker": {
             "colorbar": {
              "outlinewidth": 0,
              "ticks": ""
             }
            },
            "type": "scatterpolargl"
           }
          ],
          "scatterternary": [
           {
            "marker": {
             "colorbar": {
              "outlinewidth": 0,
              "ticks": ""
             }
            },
            "type": "scatterternary"
           }
          ],
          "surface": [
           {
            "colorbar": {
             "outlinewidth": 0,
             "ticks": ""
            },
            "colorscale": [
             [
              0,
              "#0d0887"
             ],
             [
              0.1111111111111111,
              "#46039f"
             ],
             [
              0.2222222222222222,
              "#7201a8"
             ],
             [
              0.3333333333333333,
              "#9c179e"
             ],
             [
              0.4444444444444444,
              "#bd3786"
             ],
             [
              0.5555555555555556,
              "#d8576b"
             ],
             [
              0.6666666666666666,
              "#ed7953"
             ],
             [
              0.7777777777777778,
              "#fb9f3a"
             ],
             [
              0.8888888888888888,
              "#fdca26"
             ],
             [
              1,
              "#f0f921"
             ]
            ],
            "type": "surface"
           }
          ],
          "table": [
           {
            "cells": {
             "fill": {
              "color": "#EBF0F8"
             },
             "line": {
              "color": "white"
             }
            },
            "header": {
             "fill": {
              "color": "#C8D4E3"
             },
             "line": {
              "color": "white"
             }
            },
            "type": "table"
           }
          ]
         },
         "layout": {
          "annotationdefaults": {
           "arrowcolor": "#2a3f5f",
           "arrowhead": 0,
           "arrowwidth": 1
          },
          "coloraxis": {
           "colorbar": {
            "outlinewidth": 0,
            "ticks": ""
           }
          },
          "colorscale": {
           "diverging": [
            [
             0,
             "#8e0152"
            ],
            [
             0.1,
             "#c51b7d"
            ],
            [
             0.2,
             "#de77ae"
            ],
            [
             0.3,
             "#f1b6da"
            ],
            [
             0.4,
             "#fde0ef"
            ],
            [
             0.5,
             "#f7f7f7"
            ],
            [
             0.6,
             "#e6f5d0"
            ],
            [
             0.7,
             "#b8e186"
            ],
            [
             0.8,
             "#7fbc41"
            ],
            [
             0.9,
             "#4d9221"
            ],
            [
             1,
             "#276419"
            ]
           ],
           "sequential": [
            [
             0,
             "#0d0887"
            ],
            [
             0.1111111111111111,
             "#46039f"
            ],
            [
             0.2222222222222222,
             "#7201a8"
            ],
            [
             0.3333333333333333,
             "#9c179e"
            ],
            [
             0.4444444444444444,
             "#bd3786"
            ],
            [
             0.5555555555555556,
             "#d8576b"
            ],
            [
             0.6666666666666666,
             "#ed7953"
            ],
            [
             0.7777777777777778,
             "#fb9f3a"
            ],
            [
             0.8888888888888888,
             "#fdca26"
            ],
            [
             1,
             "#f0f921"
            ]
           ],
           "sequentialminus": [
            [
             0,
             "#0d0887"
            ],
            [
             0.1111111111111111,
             "#46039f"
            ],
            [
             0.2222222222222222,
             "#7201a8"
            ],
            [
             0.3333333333333333,
             "#9c179e"
            ],
            [
             0.4444444444444444,
             "#bd3786"
            ],
            [
             0.5555555555555556,
             "#d8576b"
            ],
            [
             0.6666666666666666,
             "#ed7953"
            ],
            [
             0.7777777777777778,
             "#fb9f3a"
            ],
            [
             0.8888888888888888,
             "#fdca26"
            ],
            [
             1,
             "#f0f921"
            ]
           ]
          },
          "colorway": [
           "#636efa",
           "#EF553B",
           "#00cc96",
           "#ab63fa",
           "#FFA15A",
           "#19d3f3",
           "#FF6692",
           "#B6E880",
           "#FF97FF",
           "#FECB52"
          ],
          "font": {
           "color": "#2a3f5f"
          },
          "geo": {
           "bgcolor": "white",
           "lakecolor": "white",
           "landcolor": "#E5ECF6",
           "showlakes": true,
           "showland": true,
           "subunitcolor": "white"
          },
          "hoverlabel": {
           "align": "left"
          },
          "hovermode": "closest",
          "mapbox": {
           "style": "light"
          },
          "paper_bgcolor": "white",
          "plot_bgcolor": "#E5ECF6",
          "polar": {
           "angularaxis": {
            "gridcolor": "white",
            "linecolor": "white",
            "ticks": ""
           },
           "bgcolor": "#E5ECF6",
           "radialaxis": {
            "gridcolor": "white",
            "linecolor": "white",
            "ticks": ""
           }
          },
          "scene": {
           "xaxis": {
            "backgroundcolor": "#E5ECF6",
            "gridcolor": "white",
            "gridwidth": 2,
            "linecolor": "white",
            "showbackground": true,
            "ticks": "",
            "zerolinecolor": "white"
           },
           "yaxis": {
            "backgroundcolor": "#E5ECF6",
            "gridcolor": "white",
            "gridwidth": 2,
            "linecolor": "white",
            "showbackground": true,
            "ticks": "",
            "zerolinecolor": "white"
           },
           "zaxis": {
            "backgroundcolor": "#E5ECF6",
            "gridcolor": "white",
            "gridwidth": 2,
            "linecolor": "white",
            "showbackground": true,
            "ticks": "",
            "zerolinecolor": "white"
           }
          },
          "shapedefaults": {
           "line": {
            "color": "#2a3f5f"
           }
          },
          "ternary": {
           "aaxis": {
            "gridcolor": "white",
            "linecolor": "white",
            "ticks": ""
           },
           "baxis": {
            "gridcolor": "white",
            "linecolor": "white",
            "ticks": ""
           },
           "bgcolor": "#E5ECF6",
           "caxis": {
            "gridcolor": "white",
            "linecolor": "white",
            "ticks": ""
           }
          },
          "title": {
           "x": 0.05
          },
          "xaxis": {
           "automargin": true,
           "gridcolor": "white",
           "linecolor": "white",
           "ticks": "",
           "title": {
            "standoff": 15
           },
           "zerolinecolor": "white",
           "zerolinewidth": 2
          },
          "yaxis": {
           "automargin": true,
           "gridcolor": "white",
           "linecolor": "white",
           "ticks": "",
           "title": {
            "standoff": 15
           },
           "zerolinecolor": "white",
           "zerolinewidth": 2
          }
         }
        },
        "title": {
         "text": "CO2 values along the track, before cleaning and interpolation"
        }
       }
      }
     },
     "metadata": {}
    }
   ],
   "source": [
    "import plotly.express as px\n",
    "\n",
    "# Visualizing points by the CO2 Value\n",
    "fig = px.scatter_mapbox(single_track_new, lat=\"lat\", lon=\"lng\", color=\"CO2.value\", title=\"CO2 values along the track, before cleaning and interpolation\", zoom=11)\n",
    "fig.update_layout(mapbox_style=\"open-street-map\")\n",
    "fig.show()"
   ]
  },
  {
   "cell_type": "code",
   "execution_count": 67,
   "metadata": {},
   "outputs": [
    {
     "output_type": "display_data",
     "data": {
      "application/vnd.plotly.v1+json": {
       "config": {
        "plotlyServerURL": "https://plot.ly"
       },
       "data": [
        {
         "hovertemplate": "lat=%{lat}<br>lng=%{lon}<br>CO2.value=%{marker.color}<extra></extra>",
         "lat": [
          51.94163409814916,
          51.94182905904571,
          51.94200287207793,
          51.9421567119548,
          51.9422917533853,
          51.942409171078396,
          51.94251013974302,
          51.94259583408821,
          51.94266742882289,
          51.94272609865601,
          51.94277301829659,
          51.94280936245357,
          51.94283630583593,
          51.94285502315264,
          51.94286668911265,
          51.94287247842495,
          51.94287356579849,
          51.94287112594227,
          51.94286633356522,
          51.942860363376354,
          51.9428543900846,
          51.94284958839896,
          51.94284713302835,
          51.942848198681816,
          51.94285396006828,
          51.942865591896705,
          51.942884268876085,
          51.942910844218325,
          51.94294459095359,
          51.94298429743121,
          51.943028751872774,
          51.94307674249979,
          51.94312705753384,
          51.943178485196455,
          51.94322981370921,
          51.94327983129365,
          51.94332732617132,
          51.943371086563786,
          51.943409900692586,
          51.94344255677929,
          51.94346787504351,
          51.94348555167893,
          51.94349624451876,
          51.94350066057397,
          51.94349950685561,
          51.94349349037471,
          51.94348331814226,
          51.943469697169334,
          51.94345333331537,
          51.94343467489687,
          51.943413588884525,
          51.94338986253495,
          51.94336328310479,
          51.94333363785064,
          51.94330071402912,
          51.94326429889685,
          51.943224179710455,
          51.94318014372654,
          51.943131978201734,
          51.943079538608934,
          51.94302331084503,
          51.942964121645794,
          51.942902801086234,
          51.94284017924138,
          51.942777086186254,
          51.942714351995846,
          51.94265279672086,
          51.9425916392409,
          51.94252675434337,
          51.9424535977337,
          51.9423676251173,
          51.94226429219956,
          51.94213905468591,
          51.941987368281744,
          51.94180468869248,
          51.94158647162354,
          51.94132886083388,
          51.94105133188541,
          51.94080182881209,
          51.94062138302663,
          51.94050297412473,
          51.94042297522688,
          51.94035774359312,
          51.94028363648354,
          51.94018190378744,
          51.940059458727106,
          51.93993160002907,
          51.93981357581139,
          51.93971355518389,
          51.9396257471165,
          51.939542726709185,
          51.93945706906197,
          51.93936144656773,
          51.93925188545435,
          51.93912853588469,
          51.93899180140029,
          51.93884279931968,
          51.938689989901135,
          51.93854615362332,
          51.938422774426186,
          51.938321065255096,
          51.938237523903915,
          51.93816862181895,
          51.93811073861394,
          51.938060114099365,
          51.938012976351374,
          51.937965553446105,
          51.93791455420555,
          51.93785949927189,
          51.937800928555724,
          51.93773941802159,
          51.93767612661319,
          51.9376126976749,
          51.937550649718325,
          51.93748985921657,
          51.93742913372824,
          51.93736726256864,
          51.93730327105919,
          51.937237050590454,
          51.93716869116627,
          51.937098407256954,
          51.93702767437023,
          51.93695870122042,
          51.93689351683298,
          51.93683070764321,
          51.93676585327496,
          51.936694433053894,
          51.936614279925074,
          51.93653075190017,
          51.936450701606496,
          51.9363782908829,
          51.936310782221106,
          51.936244347821216,
          51.93617515988329,
          51.936099390607424,
          51.936013212193735,
          51.93591474726593,
          51.93581276760112,
          51.935719641036656,
          51.93564315840571,
          51.93558075487852,
          51.93552844293006,
          51.935482235035295,
          51.93543845011561,
          51.93539513376871,
          51.93535093581562,
          51.935304506717905,
          51.93525449693711,
          51.93519967900563,
          51.935141416102965,
          51.93508354695406,
          51.93502991374308,
          51.93498269793422,
          51.93494267329113,
          51.93491025426815,
          51.934883540131594,
          51.93485959682616,
          51.93483550570675,
          51.93481116717537,
          51.93479217142549,
          51.934784793330074,
          51.93479404315514,
          51.93482037751053,
          51.93486322417782,
          51.93492000993269,
          51.93498297129613,
          51.935043584175894,
          51.93509774562585,
          51.935148337730816,
          51.9351988591663,
          51.93525280860783,
          51.93531254452114,
          51.935375129639866,
          51.935436090368945,
          51.93549095294986,
          51.93553564556925,
          51.935568749528336,
          51.935589921470196,
          51.935598822026115,
          51.935595733193175,
          51.935582635158696,
          51.935561795576746,
          51.935535482101386,
          51.935505962386756,
          51.93547550408688,
          51.935446298202265,
          51.93541931092715,
          51.93539452412889,
          51.935371891838635,
          51.93535136808755,
          51.935332906906815,
          51.9353164623276,
          51.935301988381035,
          51.93528943909833,
          51.935278768510585,
          51.93526993064902,
          51.935262879544794,
          51.935257569229044,
          51.93525395373296,
          51.93525198708769,
          51.935251623324405,
          51.935252816474254,
          51.93525552056843,
          51.93525968963807,
          51.935265277714365,
          51.935272238828446,
          51.9352805270115,
          51.93529009629469,
          51.935300900709166,
          51.935312893501845,
          51.93532560887501,
          51.935337472888015,
          51.93534673052612,
          51.93535185594388,
          51.93535319671063,
          51.935352015933574,
          51.93534958293792,
          51.9353471670489,
          51.935345962995655,
          51.93534657917346,
          51.93534932421306,
          51.935352555909226,
          51.935351209404445,
          51.93534093219937,
          51.935325379932344,
          51.935311825076305,
          51.93530413481666,
          51.93530035583591,
          51.9352981771194,
          51.93529680184269,
          51.935296102459944,
          51.93529595438626,
          51.935296233036745,
          51.93529681382651,
          51.93529757217069,
          51.93529838348437,
          51.93529912318267,
          51.935299666680734,
          51.93529988939361,
          51.935299666736455,
          51.93529887412436,
          51.93529738697245,
          51.93529508074439,
          51.935292132768566,
          51.93528973714187,
          51.93528930181249,
          51.93529223472851,
          51.93529994383805,
          51.9353138010412,
          51.93533334744909,
          51.93535546252309,
          51.93537681617573,
          51.93539407831951,
          51.935403918866925,
          51.935403007730486,
          51.93538801482267,
          51.93535566618086,
          51.93530594163233,
          51.93524380006458,
          51.93517462124179,
          51.93510377782942,
          51.93503634456753,
          51.934976995971375,
          51.9349303784372,
          51.93490113514281,
          51.934892537226624,
          51.934904355583825,
          51.93493581101335,
          51.934985978508195,
          51.93505043352882,
          51.93512116891856,
          51.93519001509505,
          51.93525066700639,
          51.935305025992356,
          51.93535725045309,
          51.93541149850156,
          51.93547097239644,
          51.9355358382331,
          51.93560566065004,
          51.93567966601084,
          51.93575427147664,
          51.935824503079566,
          51.93588564094925,
          51.93593967174918,
          51.93599566076431,
          51.936063011807256,
          51.93615081586603,
          51.9362594808593,
          51.93637981438976,
          51.93650220709012,
          51.93661741246724,
          51.93671628986745,
          51.93679291488822,
          51.93685074807024,
          51.93689495251699,
          51.93693069133194,
          51.93696309623974,
          51.93699605646495,
          51.93703183395578,
          51.93707258056627,
          51.93712044815045,
          51.93717758856231,
          51.937245714556255,
          51.93732315594308,
          51.937406670668544,
          51.93749300896141,
          51.93757924190326,
          51.93766322348138,
          51.937742924850724,
          51.9378170157356,
          51.93788719223342,
          51.937955969798566,
          51.93802584732539,
          51.938098547854025,
          51.938174703088706,
          51.938254862751535,
          51.93833954851919,
          51.93842837633389,
          51.93851988240146,
          51.93861253974472,
          51.9387047541295,
          51.93879413096801,
          51.93887775039714,
          51.93895268338966,
          51.93901616987041,
          51.9390677008934,
          51.93910836891078,
          51.939139300637784,
          51.93916162278959,
          51.93917646208142,
          51.939184945228504,
          51.93918819894603,
          51.939187349949194,
          51.93918352495324,
          51.93917785067335,
          51.939171453824756,
          51.939165461122656,
          51.93916099928225,
          51.939159147681636,
          51.939159913365,
          51.9391622400862,
          51.93916502607074,
          51.93916721826997,
          51.93916846065,
          51.939168917797964,
          51.939168766803824,
          51.93916818475755,
          51.9391673487491,
          51.93916643586846,
          51.9391656232056,
          51.93916508785046,
          51.93916500689306,
          51.9391654955941,
          51.939165862475775,
          51.93916485169726,
          51.93916181179666,
          51.939157714373906,
          51.939153795178086,
          51.939151289958296,
          51.93915143446362,
          51.93915546444315,
          51.93916461564593,
          51.93918012382108,
          51.93920322471769,
          51.939235153779904,
          51.93927607693914,
          51.93932269318028,
          51.93937100023934,
          51.93941699585226,
          51.93945730463815,
          51.939492736585386,
          51.93952581567893,
          51.93955907106767,
          51.93959503190047,
          51.93963622732618,
          51.93968518649371,
          51.93974434548579,
          51.93981278631218,
          51.939885380713044,
          51.939956733343706,
          51.94002144885946,
          51.94007562415171,
          51.940123748606545,
          51.940173243281095,
          51.94023153229592,
          51.9403060397716,
          51.9404041191831,
          51.94052586082221,
          51.94065789195063,
          51.94078539919352,
          51.94090132010535,
          51.94101804124724,
          51.94115095094067,
          51.94131063240987,
          51.94148623133006,
          51.94166107697735,
          51.94182601585031,
          51.94198249132179,
          51.94213283926772,
          51.94228094261451,
          51.942431951314326,
          51.9425905000745,
          51.94275386865987,
          51.94291410833712,
          51.943065722294016,
          51.94321535342763,
          51.94337295416403,
          51.943537276849064,
          51.943692345245964,
          51.94382321556895,
          51.94393004917446,
          51.94401980331549,
          51.944099467856375,
          51.94417603266141,
          51.94425639206401,
          51.94434663908052,
          51.94445246657668,
          51.944579564465116,
          51.94473362265847,
          51.94491920024193,
          51.945129775340256,
          51.945352549242955,
          51.945574959601366,
          51.945785725109424,
          51.94597455768901,
          51.946146964659825,
          51.94632459611087,
          51.94652892341986,
          51.94676018786706,
          51.946997211327336,
          51.94722170089813,
          51.94743558261302,
          51.94764735391399,
          51.94785806347635,
          51.948055017916616,
          51.94822528290868,
          51.94836982451572,
          51.94849833666315,
          51.94861951165982,
          51.948732702701854,
          51.94883267949462,
          51.94891474734035,
          51.9489791513096,
          51.949028681035934,
          51.94906614721545,
          51.94909436054418,
          51.949116131718235,
          51.94913425467151,
          51.94915051394683,
          51.94916512742246,
          51.949178177963134,
          51.94918974843356,
          51.949199921698444,
          51.94920878062251,
          51.94921640807048,
          51.94922288690704,
          51.9492282999969,
          51.949232730204805,
          51.94923626039546,
          51.94923897343355,
          51.94924095218384,
          51.949242279510976,
          51.94924303827973,
          51.949243311354785,
          51.94924318926854,
          51.94924279285347,
          51.94924225482683,
          51.94924180480964,
          51.94924176698037,
          51.94924229157507,
          51.949242848559095,
          51.949242791407436,
          51.949242438487,
          51.94924302273855,
          51.9492457762305,
          51.94925118268571,
          51.94925902942684,
          51.94926907727291,
          51.94928108704297,
          51.94929481955607,
          51.949310035631235,
          51.9493264960875,
          51.949343961743914,
          51.94936219341949,
          51.9493809519333,
          51.94939999810436,
          51.94941909275172,
          51.94943799669439,
          51.94945647075143,
          51.9494742757419,
          51.9494911724848,
          51.949506921799184,
          51.94952128450409,
          51.94953431756145,
          51.94954827558472,
          51.94956640170231,
          51.94959194378144,
          51.949628149689296,
          51.9496782672931,
          51.94974554446004,
          51.94983322905732,
          51.94994456895214,
          51.950082138828186,
          51.95024010233765,
          51.950406905168286,
          51.95057094830432,
          51.95072692242428,
          51.950880988602414,
          51.95104052742615,
          51.951211381640334,
          51.951390905838274,
          51.95157354203832,
          51.95175430668983,
          51.95193821348816,
          51.95213873469171,
          51.952369418428226,
          51.952631668127175,
          51.95290764893699,
          51.95317863189486,
          51.95343208253699,
          51.95365832650814,
          51.95385066114771,
          51.95401220927084,
          51.954148132319986,
          51.95426359173756,
          51.954363739296085,
          51.95445235704767,
          51.9545304520595,
          51.954598695944526,
          51.95465776031571,
          51.95470831678601,
          51.95475103696842,
          51.95478659247587,
          51.954815654921326,
          51.954838895917796,
          51.954856987078166,
          51.954870600015454,
          51.95488040634262,
          51.954887077672616,
          51.9548912856184,
          51.954893701792955,
          51.95489499780923,
          51.95489584528018,
          51.95489691581879,
          51.954898881038005,
          51.95490241159562,
          51.954908071629724,
          51.95491622310132,
          51.954927205385395,
          51.95494135785692,
          51.95495901989086,
          51.95498053086219,
          51.955006169068355,
          51.95503555543511,
          51.955067910510664,
          51.95510244915992,
          51.9551383862477,
          51.955174936638926,
          51.955211315198426,
          51.95524673679109,
          51.95528041610815,
          51.95531156001802,
          51.9553393645586,
          51.95536302497257,
          51.95538173650271,
          51.95539469439168,
          51.955401093882216,
          51.95540010066835,
          51.95539054514048,
          51.95537104519515,
          51.95534021535556,
          51.95529667014483,
          51.95524097789326,
          51.95518186510512,
          51.955129982475114,
          51.955088983409794,
          51.955053953513506,
          51.95501945542751,
          51.9549800518716,
          51.954932627167345,
          51.9548824672543,
          51.95483675799277,
          51.954802685243045,
          51.95478743486537,
          51.954798187313635,
          51.95483938862278,
          51.95490831457008,
          51.9550010799182,
          51.95511379942975,
          51.95524258785729,
          51.95538215453286,
          51.9555219102163,
          51.95565001720948,
          51.95575702677686,
          51.95584348296178,
          51.95591254218296,
          51.95596736086736,
          51.95601109544199,
          51.956046902333846,
          51.956078309886436,
          51.95611051841503,
          51.95614919787312,
          51.95620001823888,
          51.95626864949054,
          51.956360761606234,
          51.95648202456032,
          51.956634914723,
          51.95680953876283,
          51.9569930105196,
          51.95717321767102,
          51.95734006217042,
          51.9574839072073,
          51.95760089706625,
          51.95769494395615,
          51.957770506027764,
          51.95783204143186,
          51.95788353271411,
          51.95792647521273,
          51.957961553926324,
          51.9579894534111,
          51.95801085822321,
          51.958026452918844,
          51.95803692205413,
          51.958042950185316,
          51.958045221868524,
          51.95804442165991,
          51.958041234115704,
          51.95803634379204,
          51.958030435245114,
          51.95802419303107,
          51.958018301706105,
          51.958013445826396,
          51.95801030827661,
          51.958009232041505,
          51.9580098087224,
          51.95801152932637,
          51.95801388486043,
          51.95801636633162,
          51.958018464747006,
          51.958019671113576,
          51.95801947643841,
          51.958017371728545,
          51.95801284799102,
          51.958005396232856,
          51.95799450746112,
          51.95797967268284,
          51.95796038856045,
          51.95793633358554,
          51.9579074025443,
          51.95787350283665,
          51.95783454186244,
          51.95779042702156,
          51.95774106571387,
          51.957686365339285,
          51.9576265865168,
          51.957563420917204,
          51.95749892257618,
          51.95743514552946,
          51.95737367306841,
          51.957310714547965,
          51.95723905845752,
          51.95715145659139,
          51.95704762553758,
          51.95694471369537,
          51.95686193434776,
          51.956804896717905,
          51.9567659365783,
          51.95673683782412,
          51.95670938435062,
          51.956675360536025,
          51.95662844883826,
          51.956568535518954,
          51.956496772286194,
          51.95641585207668,
          51.95633877107991,
          51.956282749799755,
          51.95626502082275,
          51.95629653398009,
          51.95636667527031,
          51.956460207989416,
          51.956561895433424,
          51.956656500898355,
          51.95673110811711,
          51.95678545281794,
          51.95682356161193,
          51.956849464581595,
          51.9568671918095,
          51.95688077337814,
          51.95689421903754,
          51.95691021947455,
          51.956929361705676,
          51.956952044695605,
          51.956978667409004,
          51.95700962881058,
          51.95704532786503,
          51.957086163537014,
          51.95713253479125,
          51.95718484059242,
          51.95724346198992,
          51.957307614757674,
          51.95737465452598,
          51.95744177043477,
          51.957506151623996,
          51.95756498878258,
          51.957616348328294,
          51.95766063226682,
          51.957698627754176,
          51.95773112194625,
          51.95775890199907,
          51.957782755068585,
          51.95780346831075,
          51.95782190957111,
          51.95783938625464,
          51.95785735471355,
          51.957877271419676,
          51.95790059284483,
          51.9579287754608,
          51.957963250254835,
          51.95800482171917,
          51.95805364457931,
          51.95810984341989,
          51.958173542825534,
          51.95824486738089,
          51.95832348352928,
          51.958406843042354,
          51.95849172937992,
          51.95857518727804,
          51.958658356998335,
          51.95874562837285,
          51.958840742660236,
          51.95893925913526,
          51.95903165606165,
          51.95911235432131,
          51.95918516847288,
          51.95925524065548,
          51.9593265574209,
          51.95940100813588,
          51.959480056696535,
          51.95956080294093,
          51.95963615573518,
          51.95969913985319,
          51.959748270786534,
          51.95978702010093,
          51.95981903721125,
          51.95984797153223,
          51.959877408201656,
          51.95990848125324,
          51.95993916795392,
          51.95996723732296,
          51.959990458379565,
          51.96000660014297,
          51.96001345044106,
          51.96001131008129,
          51.96000549349624,
          51.96000191016502,
          51.96000646956672,
          51.96002508118045,
          51.96006365448529,
          51.960128098960354,
          51.96022429602803,
          51.960350921749615,
          51.960489909756696,
          51.960620829275626,
          51.96072869849616,
          51.96081347328759,
          51.96087764641973,
          51.96092371066241,
          51.960954158785434,
          51.960971483558666,
          51.96097817775188,
          51.96097673413492,
          51.96096964547759,
          51.960959404549726,
          51.960948504121134,
          51.96093943696165,
          51.96093449588133,
          51.960933970277026,
          51.96093699477888,
          51.96094269011052,
          51.960950176995546,
          51.9609585761576,
          51.960967008320296,
          51.9609747126498,
          51.9609820627357,
          51.960990063272234,
          51.96099972574799,
          51.961012058648585,
          51.96102752571439,
          51.96104541758788,
          51.961064872539154,
          51.961085065893656,
          51.961105426281996,
          51.961125488293625,
          51.961144786875415,
          51.961162856974205,
          51.961179233536875,
          51.9611934515103,
          51.96120504584132,
          51.961213551476796,
          51.96121850336361,
          51.961219436448616,
          51.961216087387236,
          51.96121019503317,
          51.96120464393363,
          51.96120233212483,
          51.96120615764295,
          51.9612190185242,
          51.96124381280478,
          51.9612834385209,
          51.961340793708786,
          51.961418776404585,
          51.961520264502994,
          51.961643019381846,
          51.961772940083925,
          51.96189424900481,
          51.96199374536017,
          51.962070781037,
          51.96212852460018,
          51.96217014550328,
          51.96219881319984,
          51.9622176971434,
          51.96222996678752,
          51.96223879158574,
          51.96224734099164,
          51.962258784458754,
          51.96227589225562,
          51.96229874882289,
          51.96232633100329,
          51.962357612174614,
          51.9623915657146,
          51.96242716500101,
          51.962463383411574,
          51.96249924832595,
          51.96253449495873,
          51.96256935632879,
          51.96260407581236,
          51.96263889678567,
          51.96267406262491,
          51.96270981670633,
          51.96274640240613,
          51.962784063100536,
          51.96282304216578,
          51.96286358297805,
          51.9629059289136,
          51.962950323348636,
          51.962997009659375,
          51.96304623122202,
          51.96309823141282,
          51.963153345462814,
          51.96321447549169,
          51.96328737150504,
          51.963377931752845,
          51.96349205448516,
          51.96363563795197,
          51.963811869623974,
          51.964007644408014,
          51.96420379881991,
          51.96438387711215,
          51.96454178764558,
          51.96467390883637,
          51.964776784789024,
          51.9648513634568,
          51.96490335369273,
          51.96493870158442,
          51.96496335321956,
          51.96498325468572,
          51.96500435207055,
          51.96503259146169,
          51.965073918946786,
          51.96513426955313,
          51.96521422278778,
          51.965300410387265,
          51.96537724990472,
          51.965434686334994,
          51.965474839875206,
          51.96550145400841,
          51.96551827221774,
          51.965528876803845,
          51.965535111996076,
          51.96553776192011,
          51.96553759559126,
          51.96553538202483,
          51.96553189023612,
          51.96552788924041,
          51.96552414805303,
          51.96552141026091,
          51.96551995951502,
          51.96551967978847,
          51.96552044175232,
          51.965522116077565,
          51.96552457343529,
          51.965527684496486,
          51.96553131993222,
          51.965535350413504,
          51.96553964661136,
          51.96554407919685,
          51.96554852520816,
          51.965552912195896,
          51.96555719177698,
          51.96556131571599,
          51.96556523577751,
          51.96556890372616,
          51.96557227132646,
          51.96557529034305,
          51.96557791254049,
          51.965580089683364,
          51.965581773536286,
          51.96558291586381,
          51.96558346226896,
          51.96558325894801,
          51.965582071709186,
          51.965579664056705,
          51.965575799494786,
          51.965570241527644,
          51.96556275365954,
          51.96555309939465,
          51.96554104237785,
          51.965526488282954,
          51.9655097520086,
          51.96549122171295,
          51.96547129131423,
          51.965450801844476,
          51.965431353050874,
          51.96541445114508,
          51.96540036224023,
          51.965388794716425,
          51.9653794542816,
          51.96537204664368,
          51.9653662775106,
          51.96536185259028,
          51.965358477590655,
          51.96535585821965,
          51.965353700185204,
          51.965351709195225,
          51.965349590957686,
          51.965347051180466,
          51.96534379557152
         ],
         "legendgroup": "",
         "lon": [
          7.649307931702138,
          7.649063732942286,
          7.648844572114661,
          7.648649170485108,
          7.648476249319471,
          7.648324529883605,
          7.648192733443344,
          7.648079581264546,
          7.647983794613051,
          7.647904094754706,
          7.647839202955359,
          7.647787840480854,
          7.6477487285970405,
          7.647720588569765,
          7.647702141664869,
          7.647692109148204,
          7.647689212285615,
          7.647692172342946,
          7.647699710586046,
          7.647710548280762,
          7.647723406692938,
          7.6477370070884225,
          7.647750070733058,
          7.647761318892695,
          7.647769472833181,
          7.6477732538203576,
          7.647771383120075,
          7.647762809220748,
          7.647747597426417,
          7.647726155596147,
          7.647698891679307,
          7.647666213625256,
          7.647628529383363,
          7.64758624690299,
          7.647539774133501,
          7.647489519024264,
          7.6474358895246395,
          7.647379293583993,
          7.647320139151688,
          7.647258834177093,
          7.6471957873681005,
          7.647131428198101,
          7.647066208936716,
          7.647000583019362,
          7.646935003881452,
          7.646869924958404,
          7.6468057996856285,
          7.646743081498542,
          7.646682221391589,
          7.646623124431951,
          7.6465644633782475,
          7.646504742014996,
          7.646442464126721,
          7.646376133497939,
          7.6463042539131685,
          7.646225329156931,
          7.646137863013748,
          7.646040359268136,
          7.645931321704613,
          7.64580957574999,
          7.6456769193035115,
          7.6455367573322865,
          7.6453925105481195,
          7.645247599662818,
          7.645105445388188,
          7.644969468436034,
          7.644843066755106,
          7.644726002394459,
          7.644610443720916,
          7.644487607460257,
          7.644348710338252,
          7.6441849690806825,
          7.643987600413323,
          7.643747821061948,
          7.643456847752336,
          7.6431058972102655,
          7.642687236862761,
          7.642228763273909,
          7.64180184616308,
          7.641467456762169,
          7.64121406413025,
          7.641005080926609,
          7.640803895879865,
          7.640573897718634,
          7.640287225182922,
          7.639961913492341,
          7.639630994559363,
          7.639327383061113,
          7.639067913977985,
          7.638837712366406,
          7.638618192009727,
          7.638390766691302,
          7.638137076218769,
          7.637846551804709,
          7.6375182051111965,
          7.637151636432701,
          7.636747430615341,
          7.636316301023765,
          7.635874920138795,
          7.635439397292284,
          7.635020982988169,
          7.634628697166493,
          7.634271376218447,
          7.633948029038042,
          7.633642703409624,
          7.633338191358871,
          7.633017284911464,
          7.632664785286456,
          7.632277245214451,
          7.631855477280445,
          7.631401208298029,
          7.630931454550813,
          7.630475936429819,
          7.630062390732461,
          7.629690673652078,
          7.629342492002831,
          7.628999242831473,
          7.6286459654248535,
          7.628281064952587,
          7.627906011746814,
          7.627522692860571,
          7.6271372173720415,
          7.626758149176762,
          7.6263933238094825,
          7.626036739089531,
          7.62567030676121,
          7.625275535407559,
          7.624843375414742,
          7.624394964801829,
          7.623957437818752,
          7.6235473171424895,
          7.623153916723402,
          7.622762250765023,
          7.622357333470874,
          7.621924179044488,
          7.621447801689396,
          7.620921537584992,
          7.620384160217671,
          7.619889788169738,
          7.619473370631534,
          7.619126484718022,
          7.618834748945094,
          7.61858378182864,
          7.618358497819006,
          7.6181398442987955,
          7.617907380437696,
          7.617640663933656,
          7.617319252484622,
          7.61692373110259,
          7.616456486969831,
          7.615940740774739,
          7.615400744134263,
          7.614864179923057,
          7.614361639503209,
          7.6139186537983194,
          7.613522856572118,
          7.6131449672158285,
          7.612755708166264,
          7.612337154597142,
          7.6118942953488355,
          7.611434876668892,
          7.610964063506377,
          7.61047772594809,
          7.609969667286488,
          7.609445293903975,
          7.608940108542491,
          7.608494055585193,
          7.608123410353131,
          7.60780705308333,
          7.607520563030736,
          7.607239519450289,
          7.606942890881138,
          7.606625387475258,
          7.6062862861360685,
          7.605924864252656,
          7.6055425560005165,
          7.605155031833194,
          7.604783732352513,
          7.6044501042908745,
          7.604168698808142,
          7.603935221492026,
          7.603742187783536,
          7.603582113123668,
          7.603447512953436,
          7.603330902713834,
          7.6032250422495355,
          7.603126596599841,
          7.603035369249577,
          7.602951252437036,
          7.602874138400511,
          7.6028039193783,
          7.602740487608691,
          7.602683735329977,
          7.602633554780454,
          7.602589838198413,
          7.6025524778221465,
          7.602521365889952,
          7.602496394640117,
          7.602477456310938,
          7.602464443140708,
          7.602457247367718,
          7.602455761230264,
          7.602459876966638,
          7.60246948681513,
          7.602484483014037,
          7.6025047578016505,
          7.602530203416266,
          7.6025607120961745,
          7.6025961760796665,
          7.602636484759529,
          7.602680007155558,
          7.602721091734659,
          7.6027534299929895,
          7.602771537214998,
          7.602776662997333,
          7.602773347994943,
          7.602766155214681,
          7.602759647663387,
          7.602757695702001,
          7.602758725416535,
          7.602758628594803,
          7.6027566581282136,
          7.602757995632465,
          7.602767244541794,
          7.602780094207689,
          7.602788232276053,
          7.602789032529212,
          7.6027895699620185,
          7.602796984093325,
          7.602812023400866,
          7.602832611494893,
          7.602856659488103,
          7.602882078493196,
          7.602906779622869,
          7.602928673989823,
          7.602945672706754,
          7.602955686886365,
          7.602956627641352,
          7.6029464060844125,
          7.602922933328246,
          7.6028841204855535,
          7.60282787866903,
          7.602752119254548,
          7.602656390168701,
          7.602545751718209,
          7.602426423597702,
          7.602304625501806,
          7.602186577125144,
          7.602078418619249,
          7.6019822503424015,
          7.601894299494019,
          7.601810330885842,
          7.6017261093296105,
          7.601637399637061,
          7.601539966619937,
          7.601429575089973,
          7.601302087003153,
          7.60115899616844,
          7.601010414448249,
          7.600867182183257,
          7.6007399586470425,
          7.600631803876164,
          7.600535569301768,
          7.600443389117976,
          7.600347401486308,
          7.600241435907584,
          7.600123636699412,
          7.599992826293729,
          7.5998480305564,
          7.599693158035839,
          7.599537115885814,
          7.599389037882584,
          7.599255720722702,
          7.599133674871111,
          7.599016581699595,
          7.5988981227769115,
          7.59877273697422,
          7.598637268648321,
          7.5984890386771475,
          7.5983264842302125,
          7.598157312715671,
          7.597993822203484,
          7.597847808517651,
          7.597717477164156,
          7.597586689321888,
          7.597438620167165,
          7.597257200078086,
          7.5970473215600345,
          7.596837053605654,
          7.5966511383683075,
          7.59649375718999,
          7.596363255651613,
          7.596257271982917,
          7.5961713815179595,
          7.596100785352023,
          7.5960406845804025,
          7.5959862842668695,
          7.595932946614049,
          7.595876239626042,
          7.595811745230554,
          7.595735045355291,
          7.5956417219279535,
          7.5955283205235,
          7.595398810918647,
          7.5952606125022335,
          7.595121159139902,
          7.594986367671744,
          7.594858453277741,
          7.594739077157064,
          7.594629084888624,
          7.5945257885851625,
          7.594425543712626,
          7.594324720594495,
          7.594220385825104,
          7.5941105853906645,
          7.593993438850221,
          7.59386713229662,
          7.593732000549569,
          7.593590939950658,
          7.5934469967342935,
          7.593303293777598,
          7.593163866000968,
          7.5930333469024935,
          7.592916380423251,
          7.592817343054791,
          7.592737047773233,
          7.592673772557017,
          7.592625741146515,
          7.592591177282108,
          7.59256830470417,
          7.592555347153083,
          7.592550528369218,
          7.5925520720929525,
          7.592558202064668,
          7.592567142024734,
          7.592577115713532,
          7.592586346871439,
          7.592593059238829,
          7.59259555233646,
          7.5925938423478,
          7.592589647641417,
          7.592584759470681,
          7.592580889621669,
          7.592578613114351,
          7.592577655884373,
          7.592577723476399,
          7.592578521435093,
          7.592579755305115,
          7.592581130631129,
          7.5925823529578,
          7.592583127829787,
          7.59258316079176,
          7.5925822631999775,
          7.592581627024778,
          7.592583410152776,
          7.592588784291438,
          7.592596270311115,
          7.59260395766526,
          7.592609935807329,
          7.592612294190777,
          7.592609122269057,
          7.5925985094956205,
          7.592578545323926,
          7.592547319207425,
          7.592502921102445,
          7.592445204964989,
          7.592379742954873,
          7.592313263836015,
          7.592252496372318,
          7.592203745169581,
          7.592170482952604,
          7.5921550227314745,
          7.592159674022307,
          7.592186746341217,
          7.592238549204318,
          7.592317392127725,
          7.592425416317462,
          7.592558697138635,
          7.592705695683874,
          7.592854390022839,
          7.592992758225199,
          7.593111939752655,
          7.59322085407277,
          7.593334631574668,
          7.593468409137681,
          7.593637323641157,
          7.593856369359186,
          7.594125879106254,
          7.59441900922798,
          7.594705998347807,
          7.594968998366915,
          7.595220054559337,
          7.59547582594307,
          7.595747722342521,
          7.596023734732771,
          7.5962855414913575,
          7.596524979358088,
          7.596748205013338,
          7.596962518150419,
          7.597176271392579,
          7.597398679706814,
          7.597638703686035,
          7.597901579998511,
          7.598189898040521,
          7.598504584441796,
          7.598838959707498,
          7.5991838619746055,
          7.599520811314435,
          7.599819075180584,
          7.600051093646751,
          7.600219047082567,
          7.6003384961999165,
          7.60042506591866,
          7.600494381158656,
          7.600561255801768,
          7.600633700710787,
          7.60071632955167,
          7.600813730918579,
          7.600930493405683,
          7.601070983188897,
          7.601237386971123,
          7.601430656887805,
          7.6016476197619465,
          7.601868000164654,
          7.602067740692737,
          7.602238681385331,
          7.602388909350178,
          7.602527031010408,
          7.602656626607132,
          7.602776205381165,
          7.602887066983975,
          7.60300641849422,
          7.603156563511645,
          7.603346511483834,
          7.603560753092675,
          7.603782363201973,
          7.604008168557695,
          7.604243630522544,
          7.604492404142601,
          7.604742205586537,
          7.604972928470911,
          7.605166260646537,
          7.605319985116115,
          7.605440175782613,
          7.605532975176622,
          7.605604525828727,
          7.605660970269519,
          7.605708414836004,
          7.605750786346421,
          7.605788628812398,
          7.605822194718717,
          7.605851736550154,
          7.605877506791484,
          7.605899757927487,
          7.605918742442941,
          7.605934712822622,
          7.605947921551302,
          7.605958621113767,
          7.60596706399479,
          7.605973502679147,
          7.605978189651621,
          7.605981377396978,
          7.605983318400008,
          7.605984265145481,
          7.605984483521975,
          7.605984292385139,
          7.6059840191547305,
          7.6059838917893305,
          7.605984041193439,
          7.605984444931437,
          7.6059845095633545,
          7.605983571451255,
          7.605982354036054,
          7.605982895502836,
          7.605987222299766,
          7.605996072549131,
          7.606008985474783,
          7.606025454672858,
          7.606044973739498,
          7.606067036270841,
          7.606091135863025,
          7.606116766112189,
          7.60614342061447,
          7.606170592966008,
          7.6061977767629445,
          7.606224465601415,
          7.606250153077559,
          7.60627433278751,
          7.606296498327415,
          7.606316143293411,
          7.606332761281633,
          7.606345845888224,
          7.6063548907093175,
          7.606359144914667,
          7.606356043806447,
          7.606342206799817,
          7.606314249398718,
          7.60626878710709,
          7.606202435428879,
          7.606111809868025,
          7.605993525928472,
          7.605844199114161,
          7.6056612582078476,
          7.605452293431897,
          7.605231802930856,
          7.605014362176747,
          7.604809218915423,
          7.6046159048198625,
          7.60443291856656,
          7.604259315665299,
          7.604097225077989,
          7.603949830373016,
          7.6038200283315085,
          7.603705730779273,
          7.603600631824676,
          7.603498334141055,
          7.603395083153763,
          7.603291310642088,
          7.603188384324447,
          7.603091992636293,
          7.603009818091071,
          7.602947233288581,
          7.602901898104125,
          7.602869872147436,
          7.602847215028242,
          7.602829994543594,
          7.602815438200763,
          7.602803123021948,
          7.602792910050578,
          7.602784660330084,
          7.602778234903898,
          7.602773494815453,
          7.602770301108176,
          7.602768514825501,
          7.6027679970108615,
          7.602768608707681,
          7.602770210959396,
          7.602772664809439,
          7.60277583130124,
          7.602779571478228,
          7.602783746383836,
          7.602788217061494,
          7.602792844554637,
          7.602797489906692,
          7.602802014161091,
          7.602806279021653,
          7.602810219838495,
          7.602813911744163,
          7.602817445486908,
          7.602820911814978,
          7.602824401476616,
          7.602828005220075,
          7.602831753440988,
          7.602835026965202,
          7.60283681099293,
          7.602836085108465,
          7.602831828896103,
          7.6028230219401465,
          7.6028086438248845,
          7.60278767413462,
          7.6027591011299425,
          7.6027223039774485,
          7.602677203041444,
          7.602623758421634,
          7.6025619302177345,
          7.602491678529448,
          7.602412963456484,
          7.602325427703347,
          7.602225112334348,
          7.602105775925842,
          7.601961140819525,
          7.601784929357091,
          7.601576405002535,
          7.6013579683263535,
          7.601157627549366,
          7.60098868849501,
          7.600846454688203,
          7.600725130826318,
          7.600618921597651,
          7.600521763183013,
          7.600426620064513,
          7.600326236986778,
          7.600213358694427,
          7.600080729932085,
          7.599921104951086,
          7.599732046220002,
          7.599523724428183,
          7.599308351799419,
          7.599098140557494,
          7.598905302908033,
          7.59873954583194,
          7.59860113136792,
          7.598488096122445,
          7.59839824080061,
          7.598328379356927,
          7.598275067783327,
          7.598234862070929,
          7.598204318210855,
          7.598179992194224,
          7.598158303588361,
          7.598135058659775,
          7.598105891405588,
          7.598066435813872,
          7.598012325872712,
          7.597939195570179,
          7.597842678897073,
          7.597720682472009,
          7.597579915422188,
          7.5974292180362015,
          7.59727755991531,
          7.597134247257577,
          7.597008517495009,
          7.5969044500587595,
          7.596819193693079,
          7.596749410042678,
          7.59669176075227,
          7.596643248827063,
          7.596602662439068,
          7.5965693713729046,
          7.596542745730766,
          7.5965221556148474,
          7.596506971127345,
          7.596496562370448,
          7.596490299446361,
          7.596487552457273,
          7.596487691505375,
          7.596490086692871,
          7.5964941081219495,
          7.596499125894809,
          7.596504510113641,
          7.596509630880641,
          7.596513858298007,
          7.596516563094609,
          7.5965172434359625,
          7.596515679199216,
          7.596511687976742,
          7.596505087360907,
          7.596495694944078,
          7.596483328318625,
          7.596467805076912,
          7.596448942811309,
          7.596426559114184,
          7.596400471577909,
          7.596370497794844,
          7.5963364553573625,
          7.596298161857831,
          7.596255426228932,
          7.5962077789821905,
          7.596154419433598,
          7.596094527584795,
          7.596027283437422,
          7.595951866993114,
          7.595867458253512,
          7.595773237220255,
          7.595669145015384,
          7.595558206406256,
          7.595444226988102,
          7.595331012356206,
          7.595221402251737,
          7.595107210391775,
          7.594973231700687,
          7.594804186578925,
          7.5945993771708356,
          7.594394601491371,
          7.594229959342492,
          7.594116599085646,
          7.5940374212264885,
          7.593974151794674,
          7.59390851681986,
          7.593822244162802,
          7.593704256358873,
          7.593566991474818,
          7.593427684254596,
          7.593300936867228,
          7.5931837524797725,
          7.593065918701486,
          7.592937201726457,
          7.592791369140647,
          7.5926359222088005,
          7.592481306324987,
          7.592337966883286,
          7.592216349277766,
          7.592124924273619,
          7.592061396131423,
          7.5920198176868245,
          7.591994238821387,
          7.59197870941668,
          7.591967279354271,
          7.591954032805875,
          7.591935278502228,
          7.59191087294866,
          7.5918809897940385,
          7.591845802687233,
          7.591805485277115,
          7.591760211212552,
          7.591710154142411,
          7.591655487715564,
          7.59159638558088,
          7.59153303210413,
          7.591466308718412,
          7.5913982095939145,
          7.591330828495299,
          7.591266259187226,
          7.591206594159769,
          7.591153205312972,
          7.591105542717449,
          7.591062739524438,
          7.591023928885168,
          7.590988243950882,
          7.590954817872811,
          7.590922783802195,
          7.590891343722245,
          7.590860074580829,
          7.590828680384789,
          7.590796865242968,
          7.5907643332642145,
          7.590730788557368,
          7.590695896110576,
          7.590658359196499,
          7.59061588364844,
          7.590566129031273,
          7.590506754909862,
          7.590435420849076,
          7.5903508901044345,
          7.590257261212004,
          7.590160242712261,
          7.590065179784054,
          7.589971719663051,
          7.5898749885859536,
          7.589770759856156,
          7.589663359791679,
          7.589562427273979,
          7.589473781510786,
          7.589394127171078,
          7.589318883250528,
          7.5892448254927665,
          7.589171191897072,
          7.5890975900963715,
          7.5890259706036565,
          7.588960533889239,
          7.5889054199302,
          7.588861854335875,
          7.588828432126389,
          7.588803653923006,
          7.588786020346979,
          7.588774057480054,
          7.588767262299552,
          7.5887663821952005,
          7.5887722470447825,
          7.588785686726084,
          7.588807531116881,
          7.588838606593051,
          7.588879271648818,
          7.588928951311536,
          7.588986959819231,
          7.589052611409915,
          7.589125220321606,
          7.589204100792325,
          7.589288567060087,
          7.58937792728832,
          7.5894699295995505,
          7.589558697193838,
          7.589637842353018,
          7.589702843271566,
          7.589754293319711,
          7.589793654589753,
          7.589822389173997,
          7.589841959164743,
          7.589853826654299,
          7.5898594537349595,
          7.58986030249903,
          7.5898578350388135,
          7.589853513446611,
          7.589848799814726,
          7.589845156235462,
          7.5898439238350495,
          7.5898452317707585,
          7.589848510621345,
          7.589853182552791,
          7.589858669731074,
          7.589864394322176,
          7.589869778492078,
          7.589874349036463,
          7.589878634877315,
          7.589883722441437,
          7.589890704157678,
          7.589900666264621,
          7.589913572097749,
          7.589926966843089,
          7.589938081595915,
          7.589944486535503,
          7.589946069767811,
          7.5899436890000755,
          7.58993820520993,
          7.589930479375006,
          7.589921372472938,
          7.589911745481362,
          7.589902459377911,
          7.589894375140218,
          7.589888353745917,
          7.589885256172644,
          7.589885635801132,
          7.589886992745513,
          7.5898850799864785,
          7.5898756299345616,
          7.589854375000292,
          7.5898170475942095,
          7.5897593801268455,
          7.589677105008734,
          7.5895659546504115,
          7.589421661462409,
          7.589239991114305,
          7.589025158007448,
          7.588800964417243,
          7.5885939812100265,
          7.588426362218935,
          7.588298744226601,
          7.588205221691174,
          7.588139887547464,
          7.588096834730283,
          7.588070156174445,
          7.588053944814765,
          7.588042293586052,
          7.588029295423123,
          7.58800904326079,
          7.587976552930587,
          7.5879330497706095,
          7.587882319832496,
          7.587828157178841,
          7.587774355872235,
          7.587724709975266,
          7.587683013550521,
          7.587652864226141,
          7.587635284846379,
          7.587629487468167,
          7.587634646473195,
          7.587649936243143,
          7.587674531159696,
          7.5877076056045345,
          7.587748333959345,
          7.587795890605809,
          7.587849449925611,
          7.587908186300432,
          7.587971274111956,
          7.58803788774187,
          7.5881072015718525,
          7.588178389983588,
          7.588250627358761,
          7.588323108267766,
          7.588395591455799,
          7.58846846160305,
          7.5885421359722525,
          7.58861703182615,
          7.588693566427481,
          7.588771096087621,
          7.588842600494977,
          7.588898688196141,
          7.588932557429794,
          7.58894729689355,
          7.58894835245651,
          7.588941115360484,
          7.588929524902604,
          7.588915950715953,
          7.5889026842175875,
          7.588892016824573,
          7.588886239953962,
          7.588887645022819,
          7.588898523448203,
          7.588921166647174,
          7.588957857807772,
          7.589006895537944,
          7.589056201114326,
          7.589092054071277,
          7.589105975240006,
          7.589101030367373,
          7.589081824451914,
          7.589052962492176,
          7.589018796044518,
          7.58898094373344,
          7.5889393572835955,
          7.588893964660129,
          7.588844693828177,
          7.588791472752882,
          7.588734229399378,
          7.58867289173281,
          7.588607406559642,
          7.588538061479784,
          7.588465440237697,
          7.588390136434166,
          7.588312743669958,
          7.588233855545858,
          7.588154065662642,
          7.5880739676210895,
          7.587994155021975,
          7.587915221466077,
          7.5878377605541765,
          7.5877623355979855,
          7.5876892696172265,
          7.587618771146231,
          7.587551048016846,
          7.587486308060916,
          7.587424759110293,
          7.587366608996821,
          7.587312065552347,
          7.587261336608723,
          7.587214629997791,
          7.5871721535514025,
          7.587134115101405,
          7.587100702254885,
          7.587071776325867,
          7.587046934762249,
          7.58702576744932,
          7.587007864272374,
          7.586992815116703,
          7.586980209867599,
          7.586969638410355,
          7.586960690701483,
          7.58695302862974,
          7.586946521340627,
          7.586941075082803,
          7.586936595896351,
          7.586932973630564,
          7.58693007066033,
          7.586927753389347,
          7.586925937888989,
          7.586924562568624,
          7.586923565944646,
          7.586922886533445,
          7.586922462851413,
          7.586922233414938,
          7.586922136740414,
          7.586922111344234,
          7.586922095742785,
          7.586922028452459,
          7.586921847989652,
          7.586921492870749,
          7.586920901612145
         ],
         "marker": {
          "color": [
           12.054959,
           10.214914904890435,
           8.598061464693355,
           7.191298152401776,
           5.981524441008693,
           4.955639803507121,
           4.100543712890055,
           3.4031356421505103,
           2.8503150642814865,
           2.4289814522759894,
           2.1260342791270266,
           1.9283730178275982,
           1.822897141370715,
           1.796506122749379,
           1.8360994349565956,
           1.9285765509853723,
           2.060836943828711,
           2.219780086479619,
           2.392305451931102,
           2.565312513176163,
           2.725700743207809,
           2.8603696150190454,
           2.956218601602875,
           3.0001471759523044,
           2.979054811060341,
           2.8798409799199884,
           2.6894051555242506,
           2.400805858904301,
           2.0373737845867863,
           1.6317248528912223,
           1.2164774317168325,
           0.824249888962838,
           0.48766059252846305,
           0.2393279103129311,
           0.11187021021546917,
           0.1379058601352967,
           0.35005322797163796,
           0.7809306816237198,
           1.463156588990759,
           2.4293493179719876,
           3.710377699213294,
           5.289215478863251,
           7.0962574513984125,
           9.059209543426187,
           11.105777681554017,
           13.163667792389296,
           15.160585802539467,
           17.024237638611922,
           18.682408427045694,
           20.08059647041294,
           21.204283600249124,
           22.044434188020873,
           22.59201260519477,
           22.83798322323742,
           22.773310413615416,
           22.38895854779535,
           21.67589199724383,
           20.62507513342745,
           19.2274723278128,
           17.48398166184605,
           15.48730406958109,
           13.379773716666644,
           11.30421103342522,
           9.403436450179319,
           7.820270397251489,
           6.697533304964226,
           6.1775416806941905,
           6.3221213757681705,
           7.0249911659815645,
           8.15880263095894,
           9.596207350324889,
           11.209856903703944,
           12.872402870720679,
           14.456496830999692,
           15.834790364165503,
           16.879935049842707,
           17.46595499489261,
           17.51341651876062,
           16.99967476606892,
           15.931296566275611,
           14.458125763266835,
           12.779522043205048,
           11.094892383449398,
           9.603643761358958,
           8.492596574831358,
           7.882550771886393,
           7.872734092463099,
           8.56104848829501,
           9.87732276664378,
           11.419937528653621,
           12.74848126727727,
           13.422542475467456,
           13.015566463349757,
           11.578664355796455,
           9.750293621107037,
           8.204998874799267,
           7.5428212625406275,
           7.59735176010956,
           7.751240212528476,
           7.453449678990835,
           6.700666505766527,
           5.741022822357381,
           4.822821040023472,
           4.128646783903443,
           3.7410402629580055,
           3.734144388040166,
           4.18210207000293,
           5.129561034246882,
           6.448655489936882,
           7.948984502952265,
           9.4326250451177,
           10.57650052734369,
           10.953543556427567,
           10.189320587301303,
           8.56592721769038,
           6.792838463475314,
           5.586821358338364,
           5.471360441790958,
           6.2606539133144015,
           7.60624121191479,
           9.160703200228667,
           10.587171968080668,
           11.554914418466703,
           11.75358956013866,
           11.243387016932324,
           10.408123592094856,
           9.642459483527213,
           9.228941558000594,
           9.091664377719328,
           9.083312095511946,
           9.090133952505175,
           9.084442143514401,
           9.052149239356087,
           8.979167810846683,
           8.851410428802648,
           8.654789664040441,
           8.433577993437899,
           8.550688203686722,
           9.475784297164294,
           11.35023694565035,
           13.572919330727052,
           15.440697874651223,
           16.25043899967964,
           15.461091792168878,
           13.444862502075692,
           10.893537352772396,
           8.499241374514002,
           6.954099597555702,
           6.905736069552391,
           8.057352820600029,
           9.209690261815211,
           9.199444576521628,
           8.115402566842658,
           7.107679024842868,
           7.209629139573541,
           8.348839284594149,
           9.959365824885715,
           11.474620621253248,
           12.556879065349671,
           13.330340637431458,
           13.974793375679843,
           14.645869959925749,
           15.412223306690986,
           16.32266184314579,
           17.296790760926456,
           17.919084950232318,
           17.72532228393453,
           16.56298988990919,
           14.772048730781782,
           12.735931988854048,
           10.838072846427565,
           9.382036909578046,
           8.300442887034425,
           7.418295210671467,
           6.560586867679759,
           5.582302399066622,
           4.5363912896402105,
           3.5560407854336336,
           2.774599986776616,
           2.280850611876625,
           2.041771902072922,
           2.0037245805462938,
           2.113069370477533,
           2.316166995047421,
           2.559378177436746,
           2.7909095112258986,
           2.988461759072038,
           3.153438943580805,
           3.287915402128108,
           3.393965472089854,
           3.473663490841948,
           3.5290837957602994,
           3.5623007242208145,
           3.5753886135994017,
           3.5704218012719675,
           3.5494746246144206,
           3.514621421002667,
           3.4679365278126144,
           3.411494282420171,
           3.3473690222012444,
           3.2776350845317404,
           3.2043668067875672,
           3.1296385263446327,
           3.0555245805788402,
           2.984099306866104,
           2.9174370425823275,
           2.857612125103419,
           2.806698891805286,
           2.7667716800638344,
           2.739901493742626,
           2.7263782229659768,
           2.721781688605194,
           2.7209220716927716,
           2.7190832044903175,
           2.715420927787116,
           2.7109833328973374,
           2.706831362739032,
           2.7040259602302505,
           2.703545311931632,
           2.705717130096433,
           2.710534422629352,
           2.715640789649916,
           2.7145576285734543,
           2.702774720378064,
           2.6938216396771035,
           2.7090789811190916,
           2.7391166581263944,
           2.722059081124065,
           2.5998757462066173,
           2.3795930260007476,
           2.0969927105781876,
           1.7879838074149301,
           1.488475323986963,
           1.2343762677702972,
           1.0615956462409208,
           1.0060424668748194,
           1.1036257371480003,
           1.390254464536451,
           1.9018376565161668,
           2.6742843205631397,
           3.7435034641533655,
           5.1454040947628386,
           6.915885901410182,
           9.032900046147178,
           11.279210153907032,
           13.396527152595704,
           15.126561970119138,
           16.21102553438328,
           16.395402154004465,
           15.616816627189051,
           14.091005792052488,
           12.055641322511121,
           9.748394892481333,
           7.406938175879475,
           5.2689428466219255,
           3.5720805786250467,
           2.5504992059892473,
           2.2340550051498886,
           2.339990346587929,
           2.5591225573939385,
           2.5880197063617834,
           2.3646037550555303,
           2.1510248275831403,
           2.232212696648645,
           2.8925589228993664,
           4.187010533552378,
           5.585173026702591,
           6.46465993676474,
           6.2321365309119905,
           4.991547942396197,
           3.560673725060819,
           2.78965664785957,
           3.289808494042269,
           4.621269868744739,
           6.05507052588868,
           6.862351055725505,
           6.636812968300922,
           5.996736146841398,
           5.763367073017722,
           6.625798458721596,
           8.175652610690944,
           9.461079798751687,
           9.558024113741567,
           8.347057181798407,
           6.558019980029705,
           4.96136891178421,
           4.300300771907309,
           4.561367714488476,
           4.894548169804654,
           4.59303358667972,
           3.7972338453090013,
           2.887935956677339,
           2.1756427175736244,
           1.7657217767909041,
           1.7263263350365698,
           2.125609593018062,
           3.0279643595299492,
           4.348884306898625,
           5.808853017706073,
           7.115160569534354,
           7.9750970399655285,
           8.095952506581654,
           7.250006204691612,
           5.710231600560114,
           3.9822468193304332,
           2.57254380881404,
           1.8514178782861381,
           1.8568339684546258,
           2.57702132225859,
           3.937282417313562,
           5.590305616135336,
           7.11497203195267,
           8.095414159132863,
           8.361645995799897,
           8.089544561334668,
           7.480968428965943,
           6.735505701201991,
           5.979419026969482,
           5.251558942539327,
           4.585660881592972,
           4.013317833375974,
           3.5406278406501412,
           3.156956509355922,
           2.8513775259443737,
           2.613162134600948,
           2.4342138521295444,
           2.3083087296559417,
           2.2292628824978555,
           2.190892425973002,
           2.1870134753990973,
           2.211442146093859,
           2.2579945533750005,
           2.320486812560239,
           2.3927350389672912,
           2.4685553479138727,
           2.5417638547177024,
           2.60617667469649,
           2.655609923167954,
           2.68424554936598,
           2.694552785320597,
           2.6972182544704846,
           2.703280435578677,
           2.723090162184719,
           2.7571616204667833,
           2.7986617127994107,
           2.840580894624207,
           2.8759096213827777,
           2.8976383485167285,
           2.8987575314676635,
           2.8722576256771872,
           2.8111290865869067,
           2.7083623696384285,
           2.565800163982916,
           2.50078778507903,
           2.7114950682998034,
           3.3217459666873776,
           4.255088204999683,
           5.40247506865636,
           6.654859843077047,
           7.903195813681389,
           9.038436265889022,
           9.951534485119582,
           10.53344375679272,
           10.67511736632806,
           10.267529205085514,
           9.273935117927119,
           7.891901052444501,
           6.366386164112394,
           4.942349608405508,
           3.8383973302885552,
           3.097188726564306,
           2.6893293893571206,
           2.585207828035504,
           2.7552125519679596,
           3.1697320705229917,
           3.7991548930691064,
           4.613562834559947,
           5.571984543092946,
           6.619573950077335,
           7.700604823150583,
           8.759350929950104,
           9.734761246831384,
           10.535837556311987,
           11.061120470474199,
           11.209139669792242,
           10.878424834740352,
           9.969556266065753,
           8.593941610434088,
           7.2537779005736445,
           6.4929566884170145,
           6.582968965447599,
           7.111785058855426,
           7.561880698498703,
           7.51755136827782,
           7.0173530860835225,
           6.228543832711486,
           5.415669080357212,
           4.980406059104628,
           5.302662506991646,
           6.2340880061485455,
           7.1936916658238275,
           7.631724964758384,
           7.583875984116071,
           7.502009306117712,
           7.713770027478963,
           7.916477494784442,
           7.6350954115036105,
           6.955498757687302,
           6.701186041824363,
           7.619354103064736,
           9.518150356819387,
           11.783238101020236,
           13.798253267668908,
           14.946831788767025,
           14.697333587654677,
           13.228786809002196,
           11.07510318690843,
           8.772813546702483,
           6.8584487137134635,
           5.8078350992659855,
           5.501957487960522,
           5.484851269684963,
           5.398923169705202,
           5.31177992437038,
           5.392653191350518,
           5.597287768795522,
           5.663246350084358,
           5.3360724925404295,
           4.778325068939223,
           4.573296778452902,
           5.146768684619533,
           5.995235454811589,
           6.314718401927132,
           5.800809372740433,
           5.0705918237517125,
           4.781014721640034,
           4.922625606306797,
           5.067547771605525,
           4.83294661903273,
           4.259259385776145,
           3.5946585150587085,
           3.0686517661547494,
           2.7357169956193954,
           2.560171030411989,
           2.5055843929058184,
           2.535527605474172,
           2.6135711904903385,
           2.703511703449356,
           2.782757047145976,
           2.8498411437377476,
           2.905118534374116,
           2.9489437602045196,
           2.981671362378399,
           3.003655882045193,
           3.015251860354343,
           3.0168138384552865,
           3.008696357497463,
           2.991253958630313,
           2.9648411830032764,
           2.9298125717657926,
           2.8865226660673016,
           2.8353260070572404,
           2.776577135885052,
           2.7106305940339466,
           2.6429114462507406,
           2.598881674350864,
           2.607075384295122,
           2.6547116928752885,
           2.688694856436386,
           2.6699441402773085,
           2.619389990136452,
           2.572100293282418,
           2.5588193253058344,
           2.606193221794995,
           2.7398502003612974,
           2.968054108812335,
           3.28290975011001,
           3.67590694578642,
           4.138535517373666,
           4.662285286403845,
           5.238646074409058,
           5.859107702921403,
           6.515159993472978,
           7.198292767595883,
           7.899995846822222,
           8.611759052684086,
           9.325072206713578,
           10.031425130442795,
           10.72230764540384,
           11.389209573128811,
           12.023620735149803,
           12.61703095299892,
           13.16093004820826,
           13.644133855690903,
           14.035614781505535,
           14.295419554809452,
           14.383552116662889,
           14.26001640812607,
           13.884816370259172,
           13.2179559441225,
           12.21943907077625,
           10.849269691280657,
           9.09833853535551,
           7.3434485597242265,
           6.223752519485262,
           6.377409716176548,
           7.8575318582904,
           9.650290487189856,
           10.628421863941217,
           9.935177206738292,
           8.206920259975588,
           6.592352714145642,
           6.18131530877671,
           7.0359210081227666,
           8.348733284290729,
           9.29362227588178,
           9.599328351473787,
           9.873555611526202,
           10.684990219365027,
           11.708616761640672,
           12.206908343751365,
           11.647284052918403,
           10.185678972851804,
           8.120884118653137,
           5.751690505423964,
           3.3762470876907313,
           1.201756716592246,
           -0.7488300131296121,
           -2.474835850531567,
           -3.9755835446709735,
           -5.250395844604966,
           -6.2985954993906805,
           -7.119505258085249,
           -7.712447869745809,
           -8.0767460834295,
           -8.211722648193446,
           -8.116700313094793,
           -7.791001827190673,
           -7.233949939538221,
           -6.444867399194573,
           -5.423076955216864,
           -4.167901356662228,
           -2.678663352587802,
           -0.9546856920507212,
           1.0047088758918798,
           3.199669284859137,
           5.571426901440985,
           7.9493861173853,
           10.150458655705679,
           11.991556239415715,
           13.289590591529011,
           13.861473435059157,
           13.547698930104415,
           12.442576925647565,
           10.795005728320769,
           8.856078030983305,
           6.876886526495081,
           5.108523907715407,
           3.8020828675037652,
           3.208656098719651,
           3.573855393195764,
           4.896353407705062,
           6.832942922944347,
           9.015315478900382,
           11.075162615559941,
           12.644175872909797,
           13.354046790936719,
           12.881392789783972,
           11.412627453073886,
           9.457240388543292,
           7.529850059683509,
           6.145074929985863,
           5.719300782709577,
           6.258740178757328,
           7.657523510585199,
           9.637571987853983,
           11.709946506505235,
           13.372837432749845,
           14.124440607050047,
           13.624821967689114,
           12.119837302757139,
           9.987811438477904,
           7.607069201075179,
           5.355935416772737,
           3.612451403718733,
           2.6112684565226827,
           2.211037163177104,
           2.209525739369665,
           2.4045024007880316,
           2.59373584173024,
           2.6409708630165416,
           2.6586886408675223,
           2.817978010074504,
           3.2501317245114167,
           3.919979724909737,
           4.748834191960283,
           5.658007168614594,
           6.568810697824214,
           7.402556822540683,
           8.089388916239272,
           8.59915209400293,
           8.912843249264105,
           9.011459860898356,
           8.875999407781242,
           8.48745936878832,
           7.826837270931745,
           6.915330449596107,
           5.929841083238108,
           5.084792392558855,
           4.511765522563945,
           4.126706269820588,
           3.812182055146885,
           3.5036739173805915,
           3.207761704637738,
           2.9360222007953247,
           2.7000321897303854,
           2.510282248881479,
           2.3715825689083267,
           2.2868926536846415,
           2.2591709965631748,
           2.2913760908966747,
           2.386466430037891,
           2.5474005073395722,
           2.777136816154471,
           3.0786338498353336,
           3.45485010173491,
           3.9087440652059513,
           4.443274233601206,
           5.061399100273423,
           5.766077158575352,
           6.560266901859743,
           7.446926823479345,
           8.428962450114778,
           9.498508403417787,
           10.623889125286448,
           11.770241379347734,
           12.902701929228614,
           13.986407538556056,
           14.986494970957027,
           15.868100990058492,
           16.596362359487426,
           17.13641584287084,
           17.453398203835594,
           17.512446206008708,
           17.27869661301716,
           16.71728618848793,
           15.795189566823222,
           14.538471511885868,
           13.043487379303937,
           11.410691665600625,
           9.740538867299138,
           8.13348348092267,
           6.689980002994423,
           5.510482930037597,
           4.677623469251098,
           4.20182256744799,
           4.075216388909581,
           4.289941096520977,
           4.82604042730158,
           5.52551306907911,
           6.142482916737346,
           6.429936226092248,
           6.245464353518069,
           5.708469193378138,
           4.978635294420377,
           4.215381221036239,
           3.577866017274992,
           3.2252379369717836,
           3.316645233961767,
           4.011194662697909,
           5.304935932107738,
           6.6609727482146575,
           7.433698964903948,
           7.087742627939434,
           5.824657344347659,
           4.14813481932027,
           2.562771211783581,
           1.4726189490906179,
           0.936641710331223,
           0.9398254792341374,
           1.4671562395281046,
           2.503619974941865,
           4.013654163271824,
           5.849657212125604,
           7.826029843783427,
           9.757142039605274,
           11.457363780951125,
           12.741065049180962,
           13.424335618722122,
           13.434836102221816,
           12.878162686905368,
           11.875817620574042,
           10.549303151029113,
           9.020121526071852,
           7.409774993503532,
           5.839765801125424,
           4.431596196738799,
           3.3067684281448306,
           2.5852839858094487,
           2.289529527773251,
           2.2860679598353197,
           2.427515332147128,
           2.5664876948601507,
           2.55571815246552,
           2.3141168114283786,
           1.937089294959569,
           1.5491462282086668,
           1.2747982363252495,
           1.238555944458894,
           1.5649299777591779,
           2.378430961375678,
           3.75658135876048,
           5.5209339762722,
           7.406304783100695,
           9.147440122817622,
           10.479086338994623,
           11.135989775203354,
           10.864622912530454,
           9.699725310418536,
           7.975011564825983,
           6.038064893963378,
           4.23646851604131,
           2.917805649270362,
           2.3382731865783226,
           2.312303217911812,
           2.52101838903285,
           2.6606646413496167,
           2.6648554643381965,
           2.6555422102039707,
           2.744320386775562,
           2.8705304610905213,
           2.8667563544700805,
           2.7050651159899672,
           2.6872749338967132,
           3.1586496285235475,
           4.121342678567795,
           4.954823458970267,
           5.000505477145578,
           4.1937393202028295,
           3.0402560696632546,
           2.054679251476507,
           1.4793739896226181,
           1.3109574178774872,
           1.537227987336204,
           2.1459841490938567,
           3.1236352631191098,
           4.4036198730882035,
           5.851155627492681,
           7.326959732623427,
           8.691749394771325,
           9.806241820227255,
           10.531658963139316,
           10.796660912467514,
           10.664453032373954,
           10.214209311608213,
           9.525103738920029,
           8.676310303059003,
           7.747002992774774,
           6.816355796816975,
           5.963443831063366,
           5.241950266177844,
           4.646557362756359,
           4.163587761114221,
           3.7798182725554854,
           3.4832707636929574,
           3.2621785517483795,
           3.104774953943493,
           2.99929328750004,
           2.9339668696397636,
           2.8970290175844036,
           2.876713048555703,
           2.8612522797754028,
           2.8388800284652453,
           2.7978296118469723,
           2.7263343471423265,
           2.6151020871979065,
           2.4796332613462684,
           2.3497187315225228,
           2.255321455207154,
           2.2264043898806487,
           2.292930493023491,
           2.4848627221161665,
           2.8230019314265133,
           3.2403958393725927,
           3.6212731721710205,
           3.849337075039961,
           3.8087902090071264,
           3.4744464367202257,
           3.01624903952745,
           2.6294864431243505,
           2.4869370244019224,
           2.6075038935753603,
           2.945723303616042,
           3.455914402493427,
           4.092396338176973,
           4.809488258636138,
           5.561509311840382,
           6.3027786457591635,
           6.987615408361938,
           7.570338747618167,
           8.005267811497308,
           8.250946725068056,
           8.307857556942796,
           8.200480012881137,
           7.953576338637373,
           7.591908779965795,
           7.1402395826206995,
           6.623330992356378,
           6.065945254927124,
           5.492844616087233,
           4.928791321590996,
           4.3985368917023715,
           3.9241082707926505,
           3.5212156386693394,
           3.204676350472378,
           2.9848230460464498,
           2.850141609582567,
           2.7824753529146022,
           2.763666041205229,
           2.7755554396171194,
           2.7999853133129435,
           2.8187974274553746,
           2.8138335472070852,
           2.766935437730746,
           2.65994486418903,
           2.4814677712028,
           2.2656213893832877,
           2.065291166402353,
           1.9334212644883744,
           1.9229558458697285,
           2.086839072774792,
           2.4780151074319416,
           3.144848965485031,
           4.075684049361559,
           5.216651917429997,
           6.513005868096243,
           7.909999199766201,
           9.352885210845765,
           10.786917199740838,
           12.15734846485732,
           13.40943230460123,
           14.488422017378207,
           15.33957090159428,
           15.908132255655355,
           16.139359377967335,
           15.978505566936112,
           15.370824120967585,
           14.261568338467656,
           12.602090877284564,
           10.514191368133412,
           8.308775237652755,
           6.306591665374621,
           4.828389830831043,
           4.194918913554044,
           4.603758537844103,
           5.51220386136293,
           6.102275576037731,
           5.77426532144607,
           4.762558135158842,
           3.5003267128009536,
           2.412206098136648,
           1.695908134463715,
           1.3038232047557061,
           1.1761173764415225,
           1.2529567169500644,
           1.4745072937102326,
           1.7809351741509265,
           2.112406425701047,
           2.409087115789522,
           2.6112849569442536,
           2.7278937654650885,
           2.9464311281484554,
           3.482642474161969,
           4.455796863002468,
           5.7726564922421115,
           7.311650606918893,
           8.951208452070809,
           10.574008656156197,
           12.108552035662902,
           13.511287779598415,
           14.739063445195516,
           15.748726589686973,
           16.49712477030556,
           16.94110554428405,
           17.037516468855213,
           16.746161285268034,
           16.080313854114113,
           15.099712794374023,
           13.865643169907978,
           12.439390044576154,
           10.88223848223877,
           9.255473546756017,
           7.620380301988097,
           6.038243811795204,
           4.570349140037538,
           3.277981350575299,
           2.216242359771165,
           1.391181368951373,
           0.785476765476424,
           0.3816635334535489,
           0.16227665698998214,
           0.10985112019295604,
           0.20692190716970493,
           0.43602400202745994,
           0.7796923888734558,
           1.2204620518149243,
           1.7408679749590994,
           2.323445142413214,
           2.9499441952800445,
           3.5894616937919546,
           4.2008611178159025,
           4.742712659271527,
           5.1735865100784695,
           5.452052862156365,
           5.536681907424856,
           5.386043837803581,
           4.958762777477589,
           4.267932189763708,
           3.4835868262519827,
           2.803857109388078,
           2.4250427877726355,
           2.401339947581199,
           2.545806560502378,
           2.667535341061476,
           2.71975453501221,
           2.72051719744526,
           2.6881869668080345,
           2.641127481547941,
           2.597702380112386,
           2.5762753009487764,
           2.5952098825045167,
           2.6728697632270144,
           2.8276185815636756,
           3.077819975961906,
           3.441837584869112,
           3.9380350467327,
           4.584776
          ],
          "coloraxis": "coloraxis"
         },
         "mode": "markers",
         "name": "",
         "showlegend": false,
         "subplot": "mapbox",
         "type": "scattermapbox"
        }
       ],
       "layout": {
        "coloraxis": {
         "colorbar": {
          "title": {
           "text": "CO2.value"
          }
         },
         "colorscale": [
          [
           0,
           "#0d0887"
          ],
          [
           0.1111111111111111,
           "#46039f"
          ],
          [
           0.2222222222222222,
           "#7201a8"
          ],
          [
           0.3333333333333333,
           "#9c179e"
          ],
          [
           0.4444444444444444,
           "#bd3786"
          ],
          [
           0.5555555555555556,
           "#d8576b"
          ],
          [
           0.6666666666666666,
           "#ed7953"
          ],
          [
           0.7777777777777778,
           "#fb9f3a"
          ],
          [
           0.8888888888888888,
           "#fdca26"
          ],
          [
           1,
           "#f0f921"
          ]
         ]
        },
        "legend": {
         "tracegroupgap": 0
        },
        "mapbox": {
         "center": {
          "lat": 51.94907993374009,
          "lon": 7.603251419041934
         },
         "domain": {
          "x": [
           0,
           1
          ],
          "y": [
           0,
           1
          ]
         },
         "style": "open-street-map",
         "zoom": 11
        },
        "template": {
         "data": {
          "bar": [
           {
            "error_x": {
             "color": "#2a3f5f"
            },
            "error_y": {
             "color": "#2a3f5f"
            },
            "marker": {
             "line": {
              "color": "#E5ECF6",
              "width": 0.5
             }
            },
            "type": "bar"
           }
          ],
          "barpolar": [
           {
            "marker": {
             "line": {
              "color": "#E5ECF6",
              "width": 0.5
             }
            },
            "type": "barpolar"
           }
          ],
          "carpet": [
           {
            "aaxis": {
             "endlinecolor": "#2a3f5f",
             "gridcolor": "white",
             "linecolor": "white",
             "minorgridcolor": "white",
             "startlinecolor": "#2a3f5f"
            },
            "baxis": {
             "endlinecolor": "#2a3f5f",
             "gridcolor": "white",
             "linecolor": "white",
             "minorgridcolor": "white",
             "startlinecolor": "#2a3f5f"
            },
            "type": "carpet"
           }
          ],
          "choropleth": [
           {
            "colorbar": {
             "outlinewidth": 0,
             "ticks": ""
            },
            "type": "choropleth"
           }
          ],
          "contour": [
           {
            "colorbar": {
             "outlinewidth": 0,
             "ticks": ""
            },
            "colorscale": [
             [
              0,
              "#0d0887"
             ],
             [
              0.1111111111111111,
              "#46039f"
             ],
             [
              0.2222222222222222,
              "#7201a8"
             ],
             [
              0.3333333333333333,
              "#9c179e"
             ],
             [
              0.4444444444444444,
              "#bd3786"
             ],
             [
              0.5555555555555556,
              "#d8576b"
             ],
             [
              0.6666666666666666,
              "#ed7953"
             ],
             [
              0.7777777777777778,
              "#fb9f3a"
             ],
             [
              0.8888888888888888,
              "#fdca26"
             ],
             [
              1,
              "#f0f921"
             ]
            ],
            "type": "contour"
           }
          ],
          "contourcarpet": [
           {
            "colorbar": {
             "outlinewidth": 0,
             "ticks": ""
            },
            "type": "contourcarpet"
           }
          ],
          "heatmap": [
           {
            "colorbar": {
             "outlinewidth": 0,
             "ticks": ""
            },
            "colorscale": [
             [
              0,
              "#0d0887"
             ],
             [
              0.1111111111111111,
              "#46039f"
             ],
             [
              0.2222222222222222,
              "#7201a8"
             ],
             [
              0.3333333333333333,
              "#9c179e"
             ],
             [
              0.4444444444444444,
              "#bd3786"
             ],
             [
              0.5555555555555556,
              "#d8576b"
             ],
             [
              0.6666666666666666,
              "#ed7953"
             ],
             [
              0.7777777777777778,
              "#fb9f3a"
             ],
             [
              0.8888888888888888,
              "#fdca26"
             ],
             [
              1,
              "#f0f921"
             ]
            ],
            "type": "heatmap"
           }
          ],
          "heatmapgl": [
           {
            "colorbar": {
             "outlinewidth": 0,
             "ticks": ""
            },
            "colorscale": [
             [
              0,
              "#0d0887"
             ],
             [
              0.1111111111111111,
              "#46039f"
             ],
             [
              0.2222222222222222,
              "#7201a8"
             ],
             [
              0.3333333333333333,
              "#9c179e"
             ],
             [
              0.4444444444444444,
              "#bd3786"
             ],
             [
              0.5555555555555556,
              "#d8576b"
             ],
             [
              0.6666666666666666,
              "#ed7953"
             ],
             [
              0.7777777777777778,
              "#fb9f3a"
             ],
             [
              0.8888888888888888,
              "#fdca26"
             ],
             [
              1,
              "#f0f921"
             ]
            ],
            "type": "heatmapgl"
           }
          ],
          "histogram": [
           {
            "marker": {
             "colorbar": {
              "outlinewidth": 0,
              "ticks": ""
             }
            },
            "type": "histogram"
           }
          ],
          "histogram2d": [
           {
            "colorbar": {
             "outlinewidth": 0,
             "ticks": ""
            },
            "colorscale": [
             [
              0,
              "#0d0887"
             ],
             [
              0.1111111111111111,
              "#46039f"
             ],
             [
              0.2222222222222222,
              "#7201a8"
             ],
             [
              0.3333333333333333,
              "#9c179e"
             ],
             [
              0.4444444444444444,
              "#bd3786"
             ],
             [
              0.5555555555555556,
              "#d8576b"
             ],
             [
              0.6666666666666666,
              "#ed7953"
             ],
             [
              0.7777777777777778,
              "#fb9f3a"
             ],
             [
              0.8888888888888888,
              "#fdca26"
             ],
             [
              1,
              "#f0f921"
             ]
            ],
            "type": "histogram2d"
           }
          ],
          "histogram2dcontour": [
           {
            "colorbar": {
             "outlinewidth": 0,
             "ticks": ""
            },
            "colorscale": [
             [
              0,
              "#0d0887"
             ],
             [
              0.1111111111111111,
              "#46039f"
             ],
             [
              0.2222222222222222,
              "#7201a8"
             ],
             [
              0.3333333333333333,
              "#9c179e"
             ],
             [
              0.4444444444444444,
              "#bd3786"
             ],
             [
              0.5555555555555556,
              "#d8576b"
             ],
             [
              0.6666666666666666,
              "#ed7953"
             ],
             [
              0.7777777777777778,
              "#fb9f3a"
             ],
             [
              0.8888888888888888,
              "#fdca26"
             ],
             [
              1,
              "#f0f921"
             ]
            ],
            "type": "histogram2dcontour"
           }
          ],
          "mesh3d": [
           {
            "colorbar": {
             "outlinewidth": 0,
             "ticks": ""
            },
            "type": "mesh3d"
           }
          ],
          "parcoords": [
           {
            "line": {
             "colorbar": {
              "outlinewidth": 0,
              "ticks": ""
             }
            },
            "type": "parcoords"
           }
          ],
          "pie": [
           {
            "automargin": true,
            "type": "pie"
           }
          ],
          "scatter": [
           {
            "marker": {
             "colorbar": {
              "outlinewidth": 0,
              "ticks": ""
             }
            },
            "type": "scatter"
           }
          ],
          "scatter3d": [
           {
            "line": {
             "colorbar": {
              "outlinewidth": 0,
              "ticks": ""
             }
            },
            "marker": {
             "colorbar": {
              "outlinewidth": 0,
              "ticks": ""
             }
            },
            "type": "scatter3d"
           }
          ],
          "scattercarpet": [
           {
            "marker": {
             "colorbar": {
              "outlinewidth": 0,
              "ticks": ""
             }
            },
            "type": "scattercarpet"
           }
          ],
          "scattergeo": [
           {
            "marker": {
             "colorbar": {
              "outlinewidth": 0,
              "ticks": ""
             }
            },
            "type": "scattergeo"
           }
          ],
          "scattergl": [
           {
            "marker": {
             "colorbar": {
              "outlinewidth": 0,
              "ticks": ""
             }
            },
            "type": "scattergl"
           }
          ],
          "scattermapbox": [
           {
            "marker": {
             "colorbar": {
              "outlinewidth": 0,
              "ticks": ""
             }
            },
            "type": "scattermapbox"
           }
          ],
          "scatterpolar": [
           {
            "marker": {
             "colorbar": {
              "outlinewidth": 0,
              "ticks": ""
             }
            },
            "type": "scatterpolar"
           }
          ],
          "scatterpolargl": [
           {
            "marker": {
             "colorbar": {
              "outlinewidth": 0,
              "ticks": ""
             }
            },
            "type": "scatterpolargl"
           }
          ],
          "scatterternary": [
           {
            "marker": {
             "colorbar": {
              "outlinewidth": 0,
              "ticks": ""
             }
            },
            "type": "scatterternary"
           }
          ],
          "surface": [
           {
            "colorbar": {
             "outlinewidth": 0,
             "ticks": ""
            },
            "colorscale": [
             [
              0,
              "#0d0887"
             ],
             [
              0.1111111111111111,
              "#46039f"
             ],
             [
              0.2222222222222222,
              "#7201a8"
             ],
             [
              0.3333333333333333,
              "#9c179e"
             ],
             [
              0.4444444444444444,
              "#bd3786"
             ],
             [
              0.5555555555555556,
              "#d8576b"
             ],
             [
              0.6666666666666666,
              "#ed7953"
             ],
             [
              0.7777777777777778,
              "#fb9f3a"
             ],
             [
              0.8888888888888888,
              "#fdca26"
             ],
             [
              1,
              "#f0f921"
             ]
            ],
            "type": "surface"
           }
          ],
          "table": [
           {
            "cells": {
             "fill": {
              "color": "#EBF0F8"
             },
             "line": {
              "color": "white"
             }
            },
            "header": {
             "fill": {
              "color": "#C8D4E3"
             },
             "line": {
              "color": "white"
             }
            },
            "type": "table"
           }
          ]
         },
         "layout": {
          "annotationdefaults": {
           "arrowcolor": "#2a3f5f",
           "arrowhead": 0,
           "arrowwidth": 1
          },
          "coloraxis": {
           "colorbar": {
            "outlinewidth": 0,
            "ticks": ""
           }
          },
          "colorscale": {
           "diverging": [
            [
             0,
             "#8e0152"
            ],
            [
             0.1,
             "#c51b7d"
            ],
            [
             0.2,
             "#de77ae"
            ],
            [
             0.3,
             "#f1b6da"
            ],
            [
             0.4,
             "#fde0ef"
            ],
            [
             0.5,
             "#f7f7f7"
            ],
            [
             0.6,
             "#e6f5d0"
            ],
            [
             0.7,
             "#b8e186"
            ],
            [
             0.8,
             "#7fbc41"
            ],
            [
             0.9,
             "#4d9221"
            ],
            [
             1,
             "#276419"
            ]
           ],
           "sequential": [
            [
             0,
             "#0d0887"
            ],
            [
             0.1111111111111111,
             "#46039f"
            ],
            [
             0.2222222222222222,
             "#7201a8"
            ],
            [
             0.3333333333333333,
             "#9c179e"
            ],
            [
             0.4444444444444444,
             "#bd3786"
            ],
            [
             0.5555555555555556,
             "#d8576b"
            ],
            [
             0.6666666666666666,
             "#ed7953"
            ],
            [
             0.7777777777777778,
             "#fb9f3a"
            ],
            [
             0.8888888888888888,
             "#fdca26"
            ],
            [
             1,
             "#f0f921"
            ]
           ],
           "sequentialminus": [
            [
             0,
             "#0d0887"
            ],
            [
             0.1111111111111111,
             "#46039f"
            ],
            [
             0.2222222222222222,
             "#7201a8"
            ],
            [
             0.3333333333333333,
             "#9c179e"
            ],
            [
             0.4444444444444444,
             "#bd3786"
            ],
            [
             0.5555555555555556,
             "#d8576b"
            ],
            [
             0.6666666666666666,
             "#ed7953"
            ],
            [
             0.7777777777777778,
             "#fb9f3a"
            ],
            [
             0.8888888888888888,
             "#fdca26"
            ],
            [
             1,
             "#f0f921"
            ]
           ]
          },
          "colorway": [
           "#636efa",
           "#EF553B",
           "#00cc96",
           "#ab63fa",
           "#FFA15A",
           "#19d3f3",
           "#FF6692",
           "#B6E880",
           "#FF97FF",
           "#FECB52"
          ],
          "font": {
           "color": "#2a3f5f"
          },
          "geo": {
           "bgcolor": "white",
           "lakecolor": "white",
           "landcolor": "#E5ECF6",
           "showlakes": true,
           "showland": true,
           "subunitcolor": "white"
          },
          "hoverlabel": {
           "align": "left"
          },
          "hovermode": "closest",
          "mapbox": {
           "style": "light"
          },
          "paper_bgcolor": "white",
          "plot_bgcolor": "#E5ECF6",
          "polar": {
           "angularaxis": {
            "gridcolor": "white",
            "linecolor": "white",
            "ticks": ""
           },
           "bgcolor": "#E5ECF6",
           "radialaxis": {
            "gridcolor": "white",
            "linecolor": "white",
            "ticks": ""
           }
          },
          "scene": {
           "xaxis": {
            "backgroundcolor": "#E5ECF6",
            "gridcolor": "white",
            "gridwidth": 2,
            "linecolor": "white",
            "showbackground": true,
            "ticks": "",
            "zerolinecolor": "white"
           },
           "yaxis": {
            "backgroundcolor": "#E5ECF6",
            "gridcolor": "white",
            "gridwidth": 2,
            "linecolor": "white",
            "showbackground": true,
            "ticks": "",
            "zerolinecolor": "white"
           },
           "zaxis": {
            "backgroundcolor": "#E5ECF6",
            "gridcolor": "white",
            "gridwidth": 2,
            "linecolor": "white",
            "showbackground": true,
            "ticks": "",
            "zerolinecolor": "white"
           }
          },
          "shapedefaults": {
           "line": {
            "color": "#2a3f5f"
           }
          },
          "ternary": {
           "aaxis": {
            "gridcolor": "white",
            "linecolor": "white",
            "ticks": ""
           },
           "baxis": {
            "gridcolor": "white",
            "linecolor": "white",
            "ticks": ""
           },
           "bgcolor": "#E5ECF6",
           "caxis": {
            "gridcolor": "white",
            "linecolor": "white",
            "ticks": ""
           }
          },
          "title": {
           "x": 0.05
          },
          "xaxis": {
           "automargin": true,
           "gridcolor": "white",
           "linecolor": "white",
           "ticks": "",
           "title": {
            "standoff": 15
           },
           "zerolinecolor": "white",
           "zerolinewidth": 2
          },
          "yaxis": {
           "automargin": true,
           "gridcolor": "white",
           "linecolor": "white",
           "ticks": "",
           "title": {
            "standoff": 15
           },
           "zerolinecolor": "white",
           "zerolinewidth": 2
          }
         }
        },
        "title": {
         "text": "CO2 values along the track, cleaned and interpolated"
        }
       }
      }
     },
     "metadata": {}
    }
   ],
   "source": [
    "# Visualizing points by the CO2 Value\n",
    "fig = px.scatter_mapbox(interpolated_points, lat=\"lat\", lon=\"lng\", color=\"CO2.value\", title=\"CO2 values along the track, cleaned and interpolated\", zoom=11)\n",
    "fig.update_layout(mapbox_style=\"open-street-map\")\n",
    "fig.show()"
   ]
  },
  {
   "cell_type": "code",
   "execution_count": 6,
   "metadata": {},
   "outputs": [
    {
     "output_type": "stream",
     "name": "stdout",
     "text": "aggregation function called\n"
    },
    {
     "output_type": "execute_result",
     "data": {
      "text/plain": "'substitute this string with aggregation result'"
     },
     "metadata": {},
     "execution_count": 6
    }
   ],
   "source": [
    "# TODO AGGREGATION\n",
    "\n",
    "# convert to a moving pandas format using Sebastian's converter\n",
    "# if using moving pandas format\n",
    "single_track_mp = track_converter.to_movingpandas(single_track)\n",
    "# call the aggregation function from the preprocessing\n",
    "aggregated_track = preprocessing.aggregate(single_track_mp)\n",
    "aggregated_track\n",
    "\n",
    "# visualize the result"
   ]
  },
  {
   "cell_type": "code",
   "execution_count": null,
   "metadata": {},
   "outputs": [],
   "source": [
    "# TODO CLUSTERING\n",
    "\n",
    "# convert to a moving pandas format using Sebastian's converter\n",
    "# if using moving pandas format\n",
    "single_track_mp = track_converter.to_movingpandas(single_track)\n",
    "# call the clustering function from the preprocessing\n",
    "clustered_track = preprocessing.cluster(single_track_mp)\n",
    "clustered_track\n",
    "\n",
    "# visualize the result"
   ]
  }
 ],
 "metadata": {
  "language_info": {
   "codemirror_mode": {
    "name": "ipython",
    "version": 3
   },
   "file_extension": ".py",
   "mimetype": "text/x-python",
   "name": "python",
   "nbconvert_exporter": "python",
   "pygments_lexer": "ipython3",
   "version": "3.7.6-final"
  },
  "orig_nbformat": 2,
  "kernelspec": {
   "name": "python3",
   "display_name": "Python 3"
  }
 },
 "nbformat": 4,
 "nbformat_minor": 2
}