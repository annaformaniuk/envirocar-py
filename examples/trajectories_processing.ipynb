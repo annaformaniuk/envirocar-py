{
 "cells": [
  {
   "cell_type": "code",
   "execution_count": 1,
   "metadata": {},
   "outputs": [
    {
     "output_type": "stream",
     "name": "stdout",
     "text": "Hello from basic processing!\n"
    }
   ],
   "source": [
    "%load_ext autoreload\n",
    "%autoreload 2\n",
    "\n",
    "# load dependencies'\n",
    "import pandas as pd\n",
    "import geopandas as gpd\n",
    "\n",
    "from envirocar import TrackAPI, DownloadClient, BboxSelector, ECConfig, Processing\n",
    "\n",
    "# create an initial but optional config and an api client\n",
    "config = ECConfig()\n",
    "track_api = TrackAPI(api_client=DownloadClient(config=config))\n",
    "processing = Processing()\n",
    "\n",
    "bbox = BboxSelector([\n",
    "    7.554130554199218, # min_x\n",
    "    51.95590322041212, # min_y\n",
    "    7.590351104736328, # max_x\n",
    "    51.97874790276371  # max_y\n",
    "])\n",
    "\n",
    "\n",
    "# issue a query\n",
    "track_df = track_api.get_tracks(bbox=bbox, num_results=50) # requesting 10 tracks inside the bbox\n",
    "\n",
    "# use just one track\n",
    "some_track_id = track_df['track.id'].unique()[1]\n",
    "some_track = track_df[track_df['track.id'] == some_track_id]\n"
   ]
  },
  {
   "cell_type": "code",
   "execution_count": 20,
   "metadata": {},
   "outputs": [
    {
     "output_type": "stream",
     "name": "stdout",
     "text": "186\n[array([ 1.50000000e+00,  1.46779335e+00,  1.37398960e+00,  1.22676039e+00,\n        1.03883011e+00,  8.26229207e-01,  6.06729930e-01,  3.98123593e-01,\n        2.16513689e-01,  7.47974314e-02, -1.85116241e-02, -6.00025687e-02,\n       -5.15578176e-02, -1.11022302e-16,  8.37644653e-02,  1.86012966e-01,\n        2.91751238e-01,  3.86372455e-01,  4.57257104e-01,  4.95146477e-01,\n        4.95146477e-01,  4.57257104e-01,  3.86372455e-01,  2.91751238e-01,\n        1.86012966e-01,  8.37644653e-02,  2.22044605e-16, -5.15578176e-02,\n       -6.00025687e-02, -1.85116241e-02,  7.47974314e-02,  2.16513689e-01,\n        3.98123593e-01,  6.06729930e-01,  8.26229207e-01,  1.03883011e+00,\n        1.22676039e+00,  1.37398960e+00,  1.46779335e+00,  1.50000000e+00]), array([ 0.00000000e+00,  2.38539637e-01,  4.58705129e-01,  6.43853519e-01,\n        7.80630188e-01,  8.60195723e-01,  8.79000054e-01,  8.39027698e-01,\n        7.47491969e-01,  6.16012269e-01,  4.59361215e-01,  2.93912021e-01,\n        1.35946792e-01,  1.92296269e-16, -1.02592845e-01, -1.64793108e-01,\n       -1.84492304e-01, -1.64617919e-01, -1.12703754e-01, -3.99723561e-02,\n        3.99723561e-02,  1.12703754e-01,  1.64617919e-01,  1.84492304e-01,\n        1.64793108e-01,  1.02592845e-01,  3.84592537e-16, -1.35946792e-01,\n       -2.93912021e-01, -4.59361215e-01, -6.16012269e-01, -7.47491969e-01,\n       -8.39027698e-01, -8.79000054e-01, -8.60195723e-01, -7.80630188e-01,\n       -6.43853519e-01, -4.58705129e-01, -2.38539637e-01, -3.67394040e-16])]\nHELLO\n"
    }
   ],
   "source": [
    "test = processing.interpolate(some_track)\n",
    "print(test)"
   ]
  },
  {
   "cell_type": "code",
   "execution_count": null,
   "metadata": {},
   "outputs": [],
   "source": []
  }
 ],
 "metadata": {
  "language_info": {
   "codemirror_mode": {
    "name": "ipython",
    "version": 3
   },
   "file_extension": ".py",
   "mimetype": "text/x-python",
   "name": "python",
   "nbconvert_exporter": "python",
   "pygments_lexer": "ipython3",
   "version": "3.7.6-final"
  },
  "orig_nbformat": 2,
  "kernelspec": {
   "name": "python37664bitenvirocarconda199743609e1e4324a87a2cbd1930c03e",
   "display_name": "Python 3.7.6 64-bit ('envirocar': conda)"
  }
 },
 "nbformat": 4,
 "nbformat_minor": 2
}