{
 "cells": [
  {
   "cell_type": "markdown",
   "metadata": {},
   "source": [
    "# Package loading and basic configurations"
   ]
  },
  {
   "cell_type": "code",
   "execution_count": 1,
   "metadata": {},
   "outputs": [],
   "source": [
    "%load_ext autoreload\n",
    "%autoreload 2\n",
    "\n",
    "# load dependencies'\n",
    "import pandas as pd\n",
    "import geopandas as gpd\n",
    "\n",
    "from envirocar import TrackAPI, DownloadClient, BboxSelector, ECConfig, Visualiser\n",
    "\n",
    "# create an initial but optional config and an api client\n",
    "config = ECConfig()\n",
    "track_api = TrackAPI(api_client=DownloadClient(config=config))"
   ]
  },
  {
   "cell_type": "markdown",
   "metadata": {},
   "source": [
    "# Querying enviroCar Tracks"
   ]
  },
  {
   "cell_type": "markdown",
   "metadata": {},
   "source": [
    "The following cell queries tracks from the enviroCar API. It defines a bbox for the area of Gievenbeck, Münster (Germany) and requests 50 tracks. The result is a GeoDataFrame, which is a geo-extended Pandas dataframe from the GeoPandas library. It contains all information of the track in a flat dataframe format including a specific geometry column. "
   ]
  },
  {
   "cell_type": "code",
   "execution_count": 3,
   "metadata": {},
   "outputs": [],
   "source": [
    "bbox = BboxSelector([\n",
    "    7.554130554199218, # min_x\n",
    "    51.95590322041212, # min_y\n",
    "    7.590351104736328, # max_x\n",
    "    51.97874790276371  # max_y\n",
    "])\n",
    "\n",
    "\n",
    "# issue a query\n",
    "track_df = track_api.get_tracks(bbox=bbox, num_results=10) # requesting 10 tracks inside the bbox\n",
    "# track_df\n",
    "\n"
   ]
  },
  {
   "cell_type": "markdown",
   "metadata": {},
   "source": [
    "# Visualising a single Track"
   ]
  },
  {
   "cell_type": "code",
   "execution_count": 4,
   "metadata": {},
   "outputs": [
    {
     "output_type": "stream",
     "name": "stdout",
     "text": "Initializing visualisation class\n"
    }
   ],
   "source": [
    "# # Visualizing tracks by their IDs\n",
    "# by_id = track_df.dissolve(by='track.id')\n",
    "# by_id.plot(column = 'id', figsize=(8, 10))\n",
    "\n",
    "%matplotlib qt \n",
    "\n",
    "some_track_id = track_df['track.id'].unique()[1]\n",
    "\n",
    "some_track = track_df[track_df['track.id'] == some_track_id]\n",
    "# some_track.plot()\n",
    "\n",
    "visualiser = Visualiser()\n",
    "\n",
    "visualiser.st_cube_simple(some_track)\n"
   ]
  },
  {
   "cell_type": "code",
   "execution_count": null,
   "metadata": {},
   "outputs": [],
   "source": []
  }
 ],
 "metadata": {
  "kernelspec": {
   "display_name": "Python 3.7.6 64-bit ('envirocar': conda)",
   "language": "python",
   "name": "python37664bitenvirocarconda199743609e1e4324a87a2cbd1930c03e"
  },
  "language_info": {
   "codemirror_mode": {
    "name": "ipython",
    "version": 3
   },
   "file_extension": ".py",
   "mimetype": "text/x-python",
   "name": "python",
   "nbconvert_exporter": "python",
   "pygments_lexer": "ipython3",
   "version": "3.7.6-final"
  }
 },
 "nbformat": 4,
 "nbformat_minor": 4
}