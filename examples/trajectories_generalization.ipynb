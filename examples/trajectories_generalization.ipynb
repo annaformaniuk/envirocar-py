{
 "cells": [
  {
   "cell_type": "code",
   "execution_count": 6,
   "metadata": {},
   "outputs": [],
   "source": [
    "from envirocar import TrackAPI, DownloadClient, BboxSelector, ECConfig, Preprocessing, DouglasPeuckerGeneralizer, MinDistanceGeneralizer, MaxDistanceGeneralizer"
   ]
  },
  {
   "cell_type": "code",
   "execution_count": 7,
   "metadata": {
    "tags": []
   },
   "outputs": [
    {
     "output_type": "stream",
     "name": "stdout",
     "text": "Initializing pre-processing class\n"
    }
   ],
   "source": [
    "config = ECConfig()\n",
    "track_api = TrackAPI(api_client=DownloadClient(config=config))\n",
    "preprocessing = Preprocessing()"
   ]
  },
  {
   "cell_type": "code",
   "execution_count": 3,
   "metadata": {},
   "outputs": [],
   "source": [
    "bbox = BboxSelector([\n",
    "    7.554130554199218, # min_x\n",
    "    51.95590322041212, # min_y\n",
    "    7.590351104736328, # max_x\n",
    "    51.97874790276371  # max_y\n",
    "])\n",
    "\n",
    "# issue a query\n",
    "track_df = track_api.get_tracks(bbox=bbox, num_results=2) # requesting tracks inside the bbox"
   ]
  },
  {
   "cell_type": "code",
   "execution_count": 4,
   "metadata": {},
   "outputs": [
    {
     "output_type": "execute_result",
     "data": {
      "text/plain": "                           id                 time                  geometry  \\\n0    5de9d7a03bdb691868e76542  2019-11-29T12:24:48  POINT (7.60302 51.93549)   \n1    5de9d7a03bdb691868e76544  2019-11-29T12:24:53  POINT (7.60279 51.93574)   \n2    5de9d7a03bdb691868e76545  2019-11-29T12:24:58  POINT (7.60318 51.93579)   \n3    5de9d7a03bdb691868e76546  2019-11-29T12:25:03  POINT (7.60354 51.93574)   \n4    5de9d7a03bdb691868e76547  2019-11-29T12:25:08  POINT (7.60403 51.93611)   \n..                        ...                  ...                       ...   \n133  5de9d7a03bdb691868e765c8  2019-11-29T12:36:05  POINT (7.58749 51.96556)   \n134  5de9d7a03bdb691868e765c9  2019-11-29T12:36:10  POINT (7.58695 51.96555)   \n135  5de9d7a03bdb691868e765ca  2019-11-29T12:36:15  POINT (7.58688 51.96547)   \n136  5de9d7a03bdb691868e765cb  2019-11-29T12:36:21  POINT (7.58688 51.96544)   \n137  5de9d7a03bdb691868e765cc  2019-11-29T12:36:26  POINT (7.58687 51.96533)   \n\n     Calculated MAF.value Calculated MAF.unit  Throttle Position.value  \\\n0                3.527790                 g/s                13.000000   \n1                7.134063                 g/s                15.000000   \n2                7.130710                 g/s                16.000000   \n3               26.263393                 g/s                30.999999   \n4                3.472391                 g/s                13.000000   \n..                    ...                 ...                      ...   \n133              3.331351                 g/s                13.000000   \n134              3.434403                 g/s                13.000000   \n135              3.256539                 g/s                13.000000   \n136              3.202641                 g/s                13.000000   \n137              3.266758                 g/s                13.000000   \n\n    Throttle Position.unit  CO2.value CO2.unit    Rpm.value  ...  \\\n0                        %   2.725207     kg/h   763.163669  ...   \n1                        %   5.511042     kg/h  1701.677369  ...   \n2                        %   5.508452     kg/h  1361.423041  ...   \n3                        %  20.288390     kg/h  1951.543919  ...   \n4                        %   2.682411     kg/h   792.443191  ...   \n..                     ...        ...      ...          ...  ...   \n133                      %   2.573459     kg/h   757.169811  ...   \n134                      %   2.653065     kg/h   754.329693  ...   \n135                      %   2.515667     kg/h   761.104972  ...   \n136                      %   2.474030     kg/h   748.507959  ...   \n137                      %   2.523561     kg/h   763.493261  ...   \n\n                    sensor.id  sensor.fuelType sensor.constructionYear  \\\n0    559e22c2e4b07207d8977998         gasoline                    2004   \n1    559e22c2e4b07207d8977998         gasoline                    2004   \n2    559e22c2e4b07207d8977998         gasoline                    2004   \n3    559e22c2e4b07207d8977998         gasoline                    2004   \n4    559e22c2e4b07207d8977998         gasoline                    2004   \n..                        ...              ...                     ...   \n133  559e22c2e4b07207d8977998         gasoline                    2004   \n134  559e22c2e4b07207d8977998         gasoline                    2004   \n135  559e22c2e4b07207d8977998         gasoline                    2004   \n136  559e22c2e4b07207d8977998         gasoline                    2004   \n137  559e22c2e4b07207d8977998         gasoline                    2004   \n\n     sensor.manufacturer GPS HDOP.value  GPS HDOP.unit GPS PDOP.value  \\\n0          Mercedes Benz       0.800000      precision       1.982755   \n1          Mercedes Benz       0.800000      precision       1.800000   \n2          Mercedes Benz       0.900000      precision       1.870909   \n3          Mercedes Benz       0.882600      precision       1.930400   \n4          Mercedes Benz       0.800000      precision       1.700000   \n..                   ...            ...            ...            ...   \n133        Mercedes Benz       0.855909      precision       1.844091   \n134        Mercedes Benz       1.100000      precision       1.869131   \n135        Mercedes Benz       1.075151      precision       1.949698   \n136        Mercedes Benz       0.812792      precision       1.651168   \n137        Mercedes Benz      96.383618      precision     136.331671   \n\n     GPS PDOP.unit GPS VDOP.value  GPS VDOP.unit  \n0        precision       1.882755      precision  \n1        precision       1.500607      precision  \n2        precision       1.580606      precision  \n3        precision       1.730400      precision  \n4        precision       1.500000      precision  \n..             ...            ...            ...  \n133      precision       1.644091      precision  \n134      precision       1.569131      precision  \n135      precision       1.674547      precision  \n136      precision       1.463959      precision  \n137      precision      96.424078      precision  \n\n[138 rows x 52 columns]",
      "text/html": "<div>\n<style scoped>\n    .dataframe tbody tr th:only-of-type {\n        vertical-align: middle;\n    }\n\n    .dataframe tbody tr th {\n        vertical-align: top;\n    }\n\n    .dataframe thead th {\n        text-align: right;\n    }\n</style>\n<table border=\"1\" class=\"dataframe\">\n  <thead>\n    <tr style=\"text-align: right;\">\n      <th></th>\n      <th>id</th>\n      <th>time</th>\n      <th>geometry</th>\n      <th>Calculated MAF.value</th>\n      <th>Calculated MAF.unit</th>\n      <th>Throttle Position.value</th>\n      <th>Throttle Position.unit</th>\n      <th>CO2.value</th>\n      <th>CO2.unit</th>\n      <th>Rpm.value</th>\n      <th>...</th>\n      <th>sensor.id</th>\n      <th>sensor.fuelType</th>\n      <th>sensor.constructionYear</th>\n      <th>sensor.manufacturer</th>\n      <th>GPS HDOP.value</th>\n      <th>GPS HDOP.unit</th>\n      <th>GPS PDOP.value</th>\n      <th>GPS PDOP.unit</th>\n      <th>GPS VDOP.value</th>\n      <th>GPS VDOP.unit</th>\n    </tr>\n  </thead>\n  <tbody>\n    <tr>\n      <th>0</th>\n      <td>5de9d7a03bdb691868e76542</td>\n      <td>2019-11-29T12:24:48</td>\n      <td>POINT (7.60302 51.93549)</td>\n      <td>3.527790</td>\n      <td>g/s</td>\n      <td>13.000000</td>\n      <td>%</td>\n      <td>2.725207</td>\n      <td>kg/h</td>\n      <td>763.163669</td>\n      <td>...</td>\n      <td>559e22c2e4b07207d8977998</td>\n      <td>gasoline</td>\n      <td>2004</td>\n      <td>Mercedes Benz</td>\n      <td>0.800000</td>\n      <td>precision</td>\n      <td>1.982755</td>\n      <td>precision</td>\n      <td>1.882755</td>\n      <td>precision</td>\n    </tr>\n    <tr>\n      <th>1</th>\n      <td>5de9d7a03bdb691868e76544</td>\n      <td>2019-11-29T12:24:53</td>\n      <td>POINT (7.60279 51.93574)</td>\n      <td>7.134063</td>\n      <td>g/s</td>\n      <td>15.000000</td>\n      <td>%</td>\n      <td>5.511042</td>\n      <td>kg/h</td>\n      <td>1701.677369</td>\n      <td>...</td>\n      <td>559e22c2e4b07207d8977998</td>\n      <td>gasoline</td>\n      <td>2004</td>\n      <td>Mercedes Benz</td>\n      <td>0.800000</td>\n      <td>precision</td>\n      <td>1.800000</td>\n      <td>precision</td>\n      <td>1.500607</td>\n      <td>precision</td>\n    </tr>\n    <tr>\n      <th>2</th>\n      <td>5de9d7a03bdb691868e76545</td>\n      <td>2019-11-29T12:24:58</td>\n      <td>POINT (7.60318 51.93579)</td>\n      <td>7.130710</td>\n      <td>g/s</td>\n      <td>16.000000</td>\n      <td>%</td>\n      <td>5.508452</td>\n      <td>kg/h</td>\n      <td>1361.423041</td>\n      <td>...</td>\n      <td>559e22c2e4b07207d8977998</td>\n      <td>gasoline</td>\n      <td>2004</td>\n      <td>Mercedes Benz</td>\n      <td>0.900000</td>\n      <td>precision</td>\n      <td>1.870909</td>\n      <td>precision</td>\n      <td>1.580606</td>\n      <td>precision</td>\n    </tr>\n    <tr>\n      <th>3</th>\n      <td>5de9d7a03bdb691868e76546</td>\n      <td>2019-11-29T12:25:03</td>\n      <td>POINT (7.60354 51.93574)</td>\n      <td>26.263393</td>\n      <td>g/s</td>\n      <td>30.999999</td>\n      <td>%</td>\n      <td>20.288390</td>\n      <td>kg/h</td>\n      <td>1951.543919</td>\n      <td>...</td>\n      <td>559e22c2e4b07207d8977998</td>\n      <td>gasoline</td>\n      <td>2004</td>\n      <td>Mercedes Benz</td>\n      <td>0.882600</td>\n      <td>precision</td>\n      <td>1.930400</td>\n      <td>precision</td>\n      <td>1.730400</td>\n      <td>precision</td>\n    </tr>\n    <tr>\n      <th>4</th>\n      <td>5de9d7a03bdb691868e76547</td>\n      <td>2019-11-29T12:25:08</td>\n      <td>POINT (7.60403 51.93611)</td>\n      <td>3.472391</td>\n      <td>g/s</td>\n      <td>13.000000</td>\n      <td>%</td>\n      <td>2.682411</td>\n      <td>kg/h</td>\n      <td>792.443191</td>\n      <td>...</td>\n      <td>559e22c2e4b07207d8977998</td>\n      <td>gasoline</td>\n      <td>2004</td>\n      <td>Mercedes Benz</td>\n      <td>0.800000</td>\n      <td>precision</td>\n      <td>1.700000</td>\n      <td>precision</td>\n      <td>1.500000</td>\n      <td>precision</td>\n    </tr>\n    <tr>\n      <th>...</th>\n      <td>...</td>\n      <td>...</td>\n      <td>...</td>\n      <td>...</td>\n      <td>...</td>\n      <td>...</td>\n      <td>...</td>\n      <td>...</td>\n      <td>...</td>\n      <td>...</td>\n      <td>...</td>\n      <td>...</td>\n      <td>...</td>\n      <td>...</td>\n      <td>...</td>\n      <td>...</td>\n      <td>...</td>\n      <td>...</td>\n      <td>...</td>\n      <td>...</td>\n      <td>...</td>\n    </tr>\n    <tr>\n      <th>133</th>\n      <td>5de9d7a03bdb691868e765c8</td>\n      <td>2019-11-29T12:36:05</td>\n      <td>POINT (7.58749 51.96556)</td>\n      <td>3.331351</td>\n      <td>g/s</td>\n      <td>13.000000</td>\n      <td>%</td>\n      <td>2.573459</td>\n      <td>kg/h</td>\n      <td>757.169811</td>\n      <td>...</td>\n      <td>559e22c2e4b07207d8977998</td>\n      <td>gasoline</td>\n      <td>2004</td>\n      <td>Mercedes Benz</td>\n      <td>0.855909</td>\n      <td>precision</td>\n      <td>1.844091</td>\n      <td>precision</td>\n      <td>1.644091</td>\n      <td>precision</td>\n    </tr>\n    <tr>\n      <th>134</th>\n      <td>5de9d7a03bdb691868e765c9</td>\n      <td>2019-11-29T12:36:10</td>\n      <td>POINT (7.58695 51.96555)</td>\n      <td>3.434403</td>\n      <td>g/s</td>\n      <td>13.000000</td>\n      <td>%</td>\n      <td>2.653065</td>\n      <td>kg/h</td>\n      <td>754.329693</td>\n      <td>...</td>\n      <td>559e22c2e4b07207d8977998</td>\n      <td>gasoline</td>\n      <td>2004</td>\n      <td>Mercedes Benz</td>\n      <td>1.100000</td>\n      <td>precision</td>\n      <td>1.869131</td>\n      <td>precision</td>\n      <td>1.569131</td>\n      <td>precision</td>\n    </tr>\n    <tr>\n      <th>135</th>\n      <td>5de9d7a03bdb691868e765ca</td>\n      <td>2019-11-29T12:36:15</td>\n      <td>POINT (7.58688 51.96547)</td>\n      <td>3.256539</td>\n      <td>g/s</td>\n      <td>13.000000</td>\n      <td>%</td>\n      <td>2.515667</td>\n      <td>kg/h</td>\n      <td>761.104972</td>\n      <td>...</td>\n      <td>559e22c2e4b07207d8977998</td>\n      <td>gasoline</td>\n      <td>2004</td>\n      <td>Mercedes Benz</td>\n      <td>1.075151</td>\n      <td>precision</td>\n      <td>1.949698</td>\n      <td>precision</td>\n      <td>1.674547</td>\n      <td>precision</td>\n    </tr>\n    <tr>\n      <th>136</th>\n      <td>5de9d7a03bdb691868e765cb</td>\n      <td>2019-11-29T12:36:21</td>\n      <td>POINT (7.58688 51.96544)</td>\n      <td>3.202641</td>\n      <td>g/s</td>\n      <td>13.000000</td>\n      <td>%</td>\n      <td>2.474030</td>\n      <td>kg/h</td>\n      <td>748.507959</td>\n      <td>...</td>\n      <td>559e22c2e4b07207d8977998</td>\n      <td>gasoline</td>\n      <td>2004</td>\n      <td>Mercedes Benz</td>\n      <td>0.812792</td>\n      <td>precision</td>\n      <td>1.651168</td>\n      <td>precision</td>\n      <td>1.463959</td>\n      <td>precision</td>\n    </tr>\n    <tr>\n      <th>137</th>\n      <td>5de9d7a03bdb691868e765cc</td>\n      <td>2019-11-29T12:36:26</td>\n      <td>POINT (7.58687 51.96533)</td>\n      <td>3.266758</td>\n      <td>g/s</td>\n      <td>13.000000</td>\n      <td>%</td>\n      <td>2.523561</td>\n      <td>kg/h</td>\n      <td>763.493261</td>\n      <td>...</td>\n      <td>559e22c2e4b07207d8977998</td>\n      <td>gasoline</td>\n      <td>2004</td>\n      <td>Mercedes Benz</td>\n      <td>96.383618</td>\n      <td>precision</td>\n      <td>136.331671</td>\n      <td>precision</td>\n      <td>96.424078</td>\n      <td>precision</td>\n    </tr>\n  </tbody>\n</table>\n<p>138 rows × 52 columns</p>\n</div>"
     },
     "metadata": {},
     "execution_count": 4
    }
   ],
   "source": [
    "single_track_id = track_df['track.id'].unique()[1]\n",
    "single_track = track_df[track_df['track.id'] == single_track_id]\n",
    "single_track"
   ]
  },
  {
   "cell_type": "code",
   "execution_count": 5,
   "metadata": {},
   "outputs": [
    {
     "output_type": "execute_result",
     "data": {
      "text/plain": "<matplotlib.axes._subplots.AxesSubplot at 0x10cbebcd0>"
     },
     "metadata": {},
     "execution_count": 5
    },
    {
     "output_type": "display_data",
     "data": {
      "text/plain": "<Figure size 432x288 with 1 Axes>",
      "image/svg+xml": "<?xml version=\"1.0\" encoding=\"utf-8\" standalone=\"no\"?>\n<!DOCTYPE svg PUBLIC \"-//W3C//DTD SVG 1.1//EN\"\n  \"http://www.w3.org/Graphics/SVG/1.1/DTD/svg11.dtd\">\n<!-- Created with matplotlib (https://matplotlib.org/) -->\n<svg height=\"248.518125pt\" version=\"1.1\" viewBox=\"0 0 189.402168 248.518125\" width=\"189.402168pt\" xmlns=\"http://www.w3.org/2000/svg\" xmlns:xlink=\"http://www.w3.org/1999/xlink\">\n <defs>\n  <style type=\"text/css\">\n*{stroke-linecap:butt;stroke-linejoin:round;}\n  </style>\n </defs>\n <g id=\"figure_1\">\n  <g id=\"patch_1\">\n   <path d=\"M 0 248.518125 \nL 189.402168 248.518125 \nL 189.402168 0 \nL 0 0 \nz\n\" style=\"fill:none;\"/>\n  </g>\n  <g id=\"axes_1\">\n   <g id=\"patch_2\">\n    <path d=\"M 42.828125 224.64 \nL 182.202168 224.64 \nL 182.202168 7.2 \nL 42.828125 7.2 \nz\n\" style=\"fill:#ffffff;\"/>\n   </g>\n   <g id=\"PathCollection_1\">\n    <defs>\n     <path d=\"M 0 3 \nC 0.795609 3 1.55874 2.683901 2.12132 2.12132 \nC 2.683901 1.55874 3 0.795609 3 0 \nC 3 -0.795609 2.683901 -1.55874 2.12132 -2.12132 \nC 1.55874 -2.683901 0.795609 -3 0 -3 \nC -0.795609 -3 -1.55874 -2.683901 -2.12132 -2.12132 \nC -2.683901 -1.55874 -3 -0.795609 -3 0 \nC -3 0.795609 -2.683901 1.55874 -2.12132 2.12132 \nC -1.55874 2.683901 -0.795609 3 0 3 \nz\n\" id=\"m4c50ea3229\" style=\"stroke:#1f77b4;\"/>\n    </defs>\n    <g clip-path=\"url(#peaabca2244)\">\n     <use style=\"fill:#1f77b4;stroke:#1f77b4;\" x=\"134.483759\" xlink:href=\"#m4c50ea3229\" y=\"166.12724\"/>\n     <use style=\"fill:#1f77b4;stroke:#1f77b4;\" x=\"133.699368\" xlink:href=\"#m4c50ea3229\" y=\"165.254555\"/>\n     <use style=\"fill:#1f77b4;stroke:#1f77b4;\" x=\"135.002165\" xlink:href=\"#m4c50ea3229\" y=\"165.097633\"/>\n     <use style=\"fill:#1f77b4;stroke:#1f77b4;\" x=\"136.227265\" xlink:href=\"#m4c50ea3229\" y=\"165.252454\"/>\n     <use style=\"fill:#1f77b4;stroke:#1f77b4;\" x=\"137.894605\" xlink:href=\"#m4c50ea3229\" y=\"163.997713\"/>\n     <use style=\"fill:#1f77b4;stroke:#1f77b4;\" x=\"137.820444\" xlink:href=\"#m4c50ea3229\" y=\"163.0965\"/>\n     <use style=\"fill:#1f77b4;stroke:#1f77b4;\" x=\"136.531548\" xlink:href=\"#m4c50ea3229\" y=\"162.512275\"/>\n     <use style=\"fill:#1f77b4;stroke:#1f77b4;\" x=\"136.10536\" xlink:href=\"#m4c50ea3229\" y=\"162.523756\"/>\n     <use style=\"fill:#1f77b4;stroke:#1f77b4;\" x=\"135.044247\" xlink:href=\"#m4c50ea3229\" y=\"163.212358\"/>\n     <use style=\"fill:#1f77b4;stroke:#1f77b4;\" x=\"132.91773\" xlink:href=\"#m4c50ea3229\" y=\"164.685255\"/>\n     <use style=\"fill:#1f77b4;stroke:#1f77b4;\" x=\"130.638656\" xlink:href=\"#m4c50ea3229\" y=\"165.82018\"/>\n     <use style=\"fill:#1f77b4;stroke:#1f77b4;\" x=\"129.169156\" xlink:href=\"#m4c50ea3229\" y=\"166.208177\"/>\n     <use style=\"fill:#1f77b4;stroke:#1f77b4;\" x=\"128.909527\" xlink:href=\"#m4c50ea3229\" y=\"166.2815\"/>\n     <use style=\"fill:#1f77b4;stroke:#1f77b4;\" x=\"128.175096\" xlink:href=\"#m4c50ea3229\" y=\"166.568448\"/>\n     <use style=\"fill:#1f77b4;stroke:#1f77b4;\" x=\"128.116945\" xlink:href=\"#m4c50ea3229\" y=\"166.587426\"/>\n     <use style=\"fill:#1f77b4;stroke:#1f77b4;\" x=\"128.116367\" xlink:href=\"#m4c50ea3229\" y=\"166.59137\"/>\n     <use style=\"fill:#1f77b4;stroke:#1f77b4;\" x=\"127.280542\" xlink:href=\"#m4c50ea3229\" y=\"167.011719\"/>\n     <use style=\"fill:#1f77b4;stroke:#1f77b4;\" x=\"125.918191\" xlink:href=\"#m4c50ea3229\" y=\"167.801325\"/>\n     <use style=\"fill:#1f77b4;stroke:#1f77b4;\" x=\"124.305294\" xlink:href=\"#m4c50ea3229\" y=\"167.878551\"/>\n     <use style=\"fill:#1f77b4;stroke:#1f77b4;\" x=\"122.547912\" xlink:href=\"#m4c50ea3229\" y=\"167.104948\"/>\n     <use style=\"fill:#1f77b4;stroke:#1f77b4;\" x=\"121.173512\" xlink:href=\"#m4c50ea3229\" y=\"166.544728\"/>\n     <use style=\"fill:#1f77b4;stroke:#1f77b4;\" x=\"119.618998\" xlink:href=\"#m4c50ea3229\" y=\"165.812885\"/>\n     <use style=\"fill:#1f77b4;stroke:#1f77b4;\" x=\"118.727961\" xlink:href=\"#m4c50ea3229\" y=\"165.439652\"/>\n     <use style=\"fill:#1f77b4;stroke:#1f77b4;\" x=\"117.812059\" xlink:href=\"#m4c50ea3229\" y=\"165.042108\"/>\n     <use style=\"fill:#1f77b4;stroke:#1f77b4;\" x=\"116.003643\" xlink:href=\"#m4c50ea3229\" y=\"164.24514\"/>\n     <use style=\"fill:#1f77b4;stroke:#1f77b4;\" x=\"113.943739\" xlink:href=\"#m4c50ea3229\" y=\"163.217788\"/>\n     <use style=\"fill:#1f77b4;stroke:#1f77b4;\" x=\"111.88\" xlink:href=\"#m4c50ea3229\" y=\"161.816736\"/>\n     <use style=\"fill:#1f77b4;stroke:#1f77b4;\" x=\"109.910538\" xlink:href=\"#m4c50ea3229\" y=\"160.50283\"/>\n     <use style=\"fill:#1f77b4;stroke:#1f77b4;\" x=\"108.058533\" xlink:href=\"#m4c50ea3229\" y=\"159.408478\"/>\n     <use style=\"fill:#1f77b4;stroke:#1f77b4;\" x=\"106.714649\" xlink:href=\"#m4c50ea3229\" y=\"158.547432\"/>\n     <use style=\"fill:#1f77b4;stroke:#1f77b4;\" x=\"105.652684\" xlink:href=\"#m4c50ea3229\" y=\"157.779704\"/>\n     <use style=\"fill:#1f77b4;stroke:#1f77b4;\" x=\"104.484478\" xlink:href=\"#m4c50ea3229\" y=\"156.952964\"/>\n     <use style=\"fill:#1f77b4;stroke:#1f77b4;\" x=\"103.227005\" xlink:href=\"#m4c50ea3229\" y=\"156.070786\"/>\n     <use style=\"fill:#1f77b4;stroke:#1f77b4;\" x=\"101.743842\" xlink:href=\"#m4c50ea3229\" y=\"155.108979\"/>\n     <use style=\"fill:#1f77b4;stroke:#1f77b4;\" x=\"100.024195\" xlink:href=\"#m4c50ea3229\" y=\"153.997537\"/>\n     <use style=\"fill:#1f77b4;stroke:#1f77b4;\" x=\"99.082379\" xlink:href=\"#m4c50ea3229\" y=\"153.372376\"/>\n     <use style=\"fill:#1f77b4;stroke:#1f77b4;\" x=\"99.052638\" xlink:href=\"#m4c50ea3229\" y=\"153.357158\"/>\n     <use style=\"fill:#1f77b4;stroke:#1f77b4;\" x=\"99.052638\" xlink:href=\"#m4c50ea3229\" y=\"153.357158\"/>\n     <use style=\"fill:#1f77b4;stroke:#1f77b4;\" x=\"99.052638\" xlink:href=\"#m4c50ea3229\" y=\"153.357158\"/>\n     <use style=\"fill:#1f77b4;stroke:#1f77b4;\" x=\"99.051869\" xlink:href=\"#m4c50ea3229\" y=\"153.362417\"/>\n     <use style=\"fill:#1f77b4;stroke:#1f77b4;\" x=\"99.051869\" xlink:href=\"#m4c50ea3229\" y=\"153.362417\"/>\n     <use style=\"fill:#1f77b4;stroke:#1f77b4;\" x=\"99.052638\" xlink:href=\"#m4c50ea3229\" y=\"153.357158\"/>\n     <use style=\"fill:#1f77b4;stroke:#1f77b4;\" x=\"99.057454\" xlink:href=\"#m4c50ea3229\" y=\"153.388953\"/>\n     <use style=\"fill:#1f77b4;stroke:#1f77b4;\" x=\"99.092785\" xlink:href=\"#m4c50ea3229\" y=\"153.401259\"/>\n     <use style=\"fill:#1f77b4;stroke:#1f77b4;\" x=\"99.145097\" xlink:href=\"#m4c50ea3229\" y=\"153.413319\"/>\n     <use style=\"fill:#1f77b4;stroke:#1f77b4;\" x=\"99.110786\" xlink:href=\"#m4c50ea3229\" y=\"153.382946\"/>\n     <use style=\"fill:#1f77b4;stroke:#1f77b4;\" x=\"97.967905\" xlink:href=\"#m4c50ea3229\" y=\"152.63723\"/>\n     <use style=\"fill:#1f77b4;stroke:#1f77b4;\" x=\"99.241459\" xlink:href=\"#m4c50ea3229\" y=\"151.469343\"/>\n     <use style=\"fill:#1f77b4;stroke:#1f77b4;\" x=\"101.992157\" xlink:href=\"#m4c50ea3229\" y=\"150.174145\"/>\n     <use style=\"fill:#1f77b4;stroke:#1f77b4;\" x=\"104.963477\" xlink:href=\"#m4c50ea3229\" y=\"148.858902\"/>\n     <use style=\"fill:#1f77b4;stroke:#1f77b4;\" x=\"108.004412\" xlink:href=\"#m4c50ea3229\" y=\"147.454999\"/>\n     <use style=\"fill:#1f77b4;stroke:#1f77b4;\" x=\"110.873599\" xlink:href=\"#m4c50ea3229\" y=\"145.814708\"/>\n     <use style=\"fill:#1f77b4;stroke:#1f77b4;\" x=\"113.385262\" xlink:href=\"#m4c50ea3229\" y=\"144.047958\"/>\n     <use style=\"fill:#1f77b4;stroke:#1f77b4;\" x=\"115.889799\" xlink:href=\"#m4c50ea3229\" y=\"142.289685\"/>\n     <use style=\"fill:#1f77b4;stroke:#1f77b4;\" x=\"118.554693\" xlink:href=\"#m4c50ea3229\" y=\"140.674751\"/>\n     <use style=\"fill:#1f77b4;stroke:#1f77b4;\" x=\"121.549112\" xlink:href=\"#m4c50ea3229\" y=\"139.341831\"/>\n     <use style=\"fill:#1f77b4;stroke:#1f77b4;\" x=\"124.20843\" xlink:href=\"#m4c50ea3229\" y=\"137.929755\"/>\n     <use style=\"fill:#1f77b4;stroke:#1f77b4;\" x=\"126.164262\" xlink:href=\"#m4c50ea3229\" y=\"136.263166\"/>\n     <use style=\"fill:#1f77b4;stroke:#1f77b4;\" x=\"127.635351\" xlink:href=\"#m4c50ea3229\" y=\"134.318527\"/>\n     <use style=\"fill:#1f77b4;stroke:#1f77b4;\" x=\"129.215164\" xlink:href=\"#m4c50ea3229\" y=\"132.347169\"/>\n     <use style=\"fill:#1f77b4;stroke:#1f77b4;\" x=\"131.253875\" xlink:href=\"#m4c50ea3229\" y=\"130.389149\"/>\n     <use style=\"fill:#1f77b4;stroke:#1f77b4;\" x=\"132.956714\" xlink:href=\"#m4c50ea3229\" y=\"128.359324\"/>\n     <use style=\"fill:#1f77b4;stroke:#1f77b4;\" x=\"134.076212\" xlink:href=\"#m4c50ea3229\" y=\"126.14358\"/>\n     <use style=\"fill:#1f77b4;stroke:#1f77b4;\" x=\"135.511482\" xlink:href=\"#m4c50ea3229\" y=\"124.005062\"/>\n     <use style=\"fill:#1f77b4;stroke:#1f77b4;\" x=\"137.850048\" xlink:href=\"#m4c50ea3229\" y=\"122.242308\"/>\n     <use style=\"fill:#1f77b4;stroke:#1f77b4;\" x=\"140.756427\" xlink:href=\"#m4c50ea3229\" y=\"120.840142\"/>\n     <use style=\"fill:#1f77b4;stroke:#1f77b4;\" x=\"143.258169\" xlink:href=\"#m4c50ea3229\" y=\"119.730668\"/>\n     <use style=\"fill:#1f77b4;stroke:#1f77b4;\" x=\"144.377936\" xlink:href=\"#m4c50ea3229\" y=\"119.297055\"/>\n     <use style=\"fill:#1f77b4;stroke:#1f77b4;\" x=\"144.381715\" xlink:href=\"#m4c50ea3229\" y=\"119.292605\"/>\n     <use style=\"fill:#1f77b4;stroke:#1f77b4;\" x=\"144.381908\" xlink:href=\"#m4c50ea3229\" y=\"119.29129\"/>\n     <use style=\"fill:#1f77b4;stroke:#1f77b4;\" x=\"144.380368\" xlink:href=\"#m4c50ea3229\" y=\"119.301811\"/>\n     <use style=\"fill:#1f77b4;stroke:#1f77b4;\" x=\"144.380368\" xlink:href=\"#m4c50ea3229\" y=\"119.301811\"/>\n     <use style=\"fill:#1f77b4;stroke:#1f77b4;\" x=\"144.381138\" xlink:href=\"#m4c50ea3229\" y=\"119.296551\"/>\n     <use style=\"fill:#1f77b4;stroke:#1f77b4;\" x=\"144.380368\" xlink:href=\"#m4c50ea3229\" y=\"119.301811\"/>\n     <use style=\"fill:#1f77b4;stroke:#1f77b4;\" x=\"144.381908\" xlink:href=\"#m4c50ea3229\" y=\"119.29129\"/>\n     <use style=\"fill:#1f77b4;stroke:#1f77b4;\" x=\"144.380368\" xlink:href=\"#m4c50ea3229\" y=\"119.301811\"/>\n     <use style=\"fill:#1f77b4;stroke:#1f77b4;\" x=\"144.381523\" xlink:href=\"#m4c50ea3229\" y=\"119.293921\"/>\n     <use style=\"fill:#1f77b4;stroke:#1f77b4;\" x=\"144.38056\" xlink:href=\"#m4c50ea3229\" y=\"119.300496\"/>\n     <use style=\"fill:#1f77b4;stroke:#1f77b4;\" x=\"145.421609\" xlink:href=\"#m4c50ea3229\" y=\"118.744903\"/>\n     <use style=\"fill:#1f77b4;stroke:#1f77b4;\" x=\"144.838589\" xlink:href=\"#m4c50ea3229\" y=\"117.53815\"/>\n     <use style=\"fill:#1f77b4;stroke:#1f77b4;\" x=\"142.620481\" xlink:href=\"#m4c50ea3229\" y=\"115.863952\"/>\n     <use style=\"fill:#1f77b4;stroke:#1f77b4;\" x=\"140.154348\" xlink:href=\"#m4c50ea3229\" y=\"113.971543\"/>\n     <use style=\"fill:#1f77b4;stroke:#1f77b4;\" x=\"137.984442\" xlink:href=\"#m4c50ea3229\" y=\"111.868924\"/>\n     <use style=\"fill:#1f77b4;stroke:#1f77b4;\" x=\"136.645708\" xlink:href=\"#m4c50ea3229\" y=\"109.587692\"/>\n     <use style=\"fill:#1f77b4;stroke:#1f77b4;\" x=\"135.683721\" xlink:href=\"#m4c50ea3229\" y=\"107.222306\"/>\n     <use style=\"fill:#1f77b4;stroke:#1f77b4;\" x=\"134.76504\" xlink:href=\"#m4c50ea3229\" y=\"104.913362\"/>\n     <use style=\"fill:#1f77b4;stroke:#1f77b4;\" x=\"134.094201\" xlink:href=\"#m4c50ea3229\" y=\"102.721062\"/>\n     <use style=\"fill:#1f77b4;stroke:#1f77b4;\" x=\"133.890867\" xlink:href=\"#m4c50ea3229\" y=\"101.019079\"/>\n     <use style=\"fill:#1f77b4;stroke:#1f77b4;\" x=\"133.881776\" xlink:href=\"#m4c50ea3229\" y=\"100.34941\"/>\n     <use style=\"fill:#1f77b4;stroke:#1f77b4;\" x=\"133.88783\" xlink:href=\"#m4c50ea3229\" y=\"100.319659\"/>\n     <use style=\"fill:#1f77b4;stroke:#1f77b4;\" x=\"133.888215\" xlink:href=\"#m4c50ea3229\" y=\"100.317028\"/>\n     <use style=\"fill:#1f77b4;stroke:#1f77b4;\" x=\"133.88783\" xlink:href=\"#m4c50ea3229\" y=\"100.319659\"/>\n     <use style=\"fill:#1f77b4;stroke:#1f77b4;\" x=\"133.889049\" xlink:href=\"#m4c50ea3229\" y=\"99.735337\"/>\n     <use style=\"fill:#1f77b4;stroke:#1f77b4;\" x=\"134.030938\" xlink:href=\"#m4c50ea3229\" y=\"98.123055\"/>\n     <use style=\"fill:#1f77b4;stroke:#1f77b4;\" x=\"134.261619\" xlink:href=\"#m4c50ea3229\" y=\"96.164459\"/>\n     <use style=\"fill:#1f77b4;stroke:#1f77b4;\" x=\"134.385848\" xlink:href=\"#m4c50ea3229\" y=\"94.010932\"/>\n     <use style=\"fill:#1f77b4;stroke:#1f77b4;\" x=\"134.189245\" xlink:href=\"#m4c50ea3229\" y=\"91.753383\"/>\n     <use style=\"fill:#1f77b4;stroke:#1f77b4;\" x=\"133.926905\" xlink:href=\"#m4c50ea3229\" y=\"89.538139\"/>\n     <use style=\"fill:#1f77b4;stroke:#1f77b4;\" x=\"133.703897\" xlink:href=\"#m4c50ea3229\" y=\"87.56815\"/>\n     <use style=\"fill:#1f77b4;stroke:#1f77b4;\" x=\"133.533053\" xlink:href=\"#m4c50ea3229\" y=\"86.031782\"/>\n     <use style=\"fill:#1f77b4;stroke:#1f77b4;\" x=\"133.450931\" xlink:href=\"#m4c50ea3229\" y=\"85.121008\"/>\n     <use style=\"fill:#1f77b4;stroke:#1f77b4;\" x=\"133.320167\" xlink:href=\"#m4c50ea3229\" y=\"83.622552\"/>\n     <use style=\"fill:#1f77b4;stroke:#1f77b4;\" x=\"133.187888\" xlink:href=\"#m4c50ea3229\" y=\"81.420825\"/>\n     <use style=\"fill:#1f77b4;stroke:#1f77b4;\" x=\"133.106069\" xlink:href=\"#m4c50ea3229\" y=\"79.148907\"/>\n     <use style=\"fill:#1f77b4;stroke:#1f77b4;\" x=\"132.915023\" xlink:href=\"#m4c50ea3229\" y=\"76.796428\"/>\n     <use style=\"fill:#1f77b4;stroke:#1f77b4;\" x=\"132.295953\" xlink:href=\"#m4c50ea3229\" y=\"74.450163\"/>\n     <use style=\"fill:#1f77b4;stroke:#1f77b4;\" x=\"131.449654\" xlink:href=\"#m4c50ea3229\" y=\"72.088771\"/>\n     <use style=\"fill:#1f77b4;stroke:#1f77b4;\" x=\"130.645961\" xlink:href=\"#m4c50ea3229\" y=\"69.854387\"/>\n     <use style=\"fill:#1f77b4;stroke:#1f77b4;\" x=\"130.057912\" xlink:href=\"#m4c50ea3229\" y=\"67.903998\"/>\n     <use style=\"fill:#1f77b4;stroke:#1f77b4;\" x=\"129.875865\" xlink:href=\"#m4c50ea3229\" y=\"66.229372\"/>\n     <use style=\"fill:#1f77b4;stroke:#1f77b4;\" x=\"129.426571\" xlink:href=\"#m4c50ea3229\" y=\"65.270212\"/>\n     <use style=\"fill:#1f77b4;stroke:#1f77b4;\" x=\"127.712335\" xlink:href=\"#m4c50ea3229\" y=\"65.511364\"/>\n     <use style=\"fill:#1f77b4;stroke:#1f77b4;\" x=\"125.971774\" xlink:href=\"#m4c50ea3229\" y=\"65.748265\"/>\n     <use style=\"fill:#1f77b4;stroke:#1f77b4;\" x=\"124.566164\" xlink:href=\"#m4c50ea3229\" y=\"65.845625\"/>\n     <use style=\"fill:#1f77b4;stroke:#1f77b4;\" x=\"123.744937\" xlink:href=\"#m4c50ea3229\" y=\"65.907816\"/>\n     <use style=\"fill:#1f77b4;stroke:#1f77b4;\" x=\"122.820751\" xlink:href=\"#m4c50ea3229\" y=\"65.919407\"/>\n     <use style=\"fill:#1f77b4;stroke:#1f77b4;\" x=\"120.925807\" xlink:href=\"#m4c50ea3229\" y=\"65.893492\"/>\n     <use style=\"fill:#1f77b4;stroke:#1f77b4;\" x=\"118.056707\" xlink:href=\"#m4c50ea3229\" y=\"65.918006\"/>\n     <use style=\"fill:#1f77b4;stroke:#1f77b4;\" x=\"114.848588\" xlink:href=\"#m4c50ea3229\" y=\"65.947328\"/>\n     <use style=\"fill:#1f77b4;stroke:#1f77b4;\" x=\"111.751069\" xlink:href=\"#m4c50ea3229\" y=\"65.921028\"/>\n     <use style=\"fill:#1f77b4;stroke:#1f77b4;\" x=\"108.749067\" xlink:href=\"#m4c50ea3229\" y=\"65.746282\"/>\n     <use style=\"fill:#1f77b4;stroke:#1f77b4;\" x=\"105.583412\" xlink:href=\"#m4c50ea3229\" y=\"65.538738\"/>\n     <use style=\"fill:#1f77b4;stroke:#1f77b4;\" x=\"101.992721\" xlink:href=\"#m4c50ea3229\" y=\"65.315954\"/>\n     <use style=\"fill:#1f77b4;stroke:#1f77b4;\" x=\"98.581296\" xlink:href=\"#m4c50ea3229\" y=\"65.103845\"/>\n     <use style=\"fill:#1f77b4;stroke:#1f77b4;\" x=\"95.398323\" xlink:href=\"#m4c50ea3229\" y=\"64.900333\"/>\n     <use style=\"fill:#1f77b4;stroke:#1f77b4;\" x=\"92.356535\" xlink:href=\"#m4c50ea3229\" y=\"64.717628\"/>\n     <use style=\"fill:#1f77b4;stroke:#1f77b4;\" x=\"89.59131\" xlink:href=\"#m4c50ea3229\" y=\"64.544151\"/>\n     <use style=\"fill:#1f77b4;stroke:#1f77b4;\" x=\"88.717359\" xlink:href=\"#m4c50ea3229\" y=\"64.503532\"/>\n     <use style=\"fill:#1f77b4;stroke:#1f77b4;\" x=\"88.462355\" xlink:href=\"#m4c50ea3229\" y=\"64.487897\"/>\n     <use style=\"fill:#1f77b4;stroke:#1f77b4;\" x=\"88.394456\" xlink:href=\"#m4c50ea3229\" y=\"64.478595\"/>\n     <use style=\"fill:#1f77b4;stroke:#1f77b4;\" x=\"87.59021\" xlink:href=\"#m4c50ea3229\" y=\"64.397966\"/>\n     <use style=\"fill:#1f77b4;stroke:#1f77b4;\" x=\"86.296093\" xlink:href=\"#m4c50ea3229\" y=\"63.983513\"/>\n     <use style=\"fill:#1f77b4;stroke:#1f77b4;\" x=\"84.41473\" xlink:href=\"#m4c50ea3229\" y=\"64.108562\"/>\n     <use style=\"fill:#1f77b4;stroke:#1f77b4;\" x=\"81.717942\" xlink:href=\"#m4c50ea3229\" y=\"63.961449\"/>\n     <use style=\"fill:#1f77b4;stroke:#1f77b4;\" x=\"79.858515\" xlink:href=\"#m4c50ea3229\" y=\"63.980259\"/>\n     <use style=\"fill:#1f77b4;stroke:#1f77b4;\" x=\"79.62112\" xlink:href=\"#m4c50ea3229\" y=\"64.257058\"/>\n     <use style=\"fill:#1f77b4;stroke:#1f77b4;\" x=\"79.646585\" xlink:href=\"#m4c50ea3229\" y=\"64.360581\"/>\n     <use style=\"fill:#1f77b4;stroke:#1f77b4;\" x=\"79.608684\" xlink:href=\"#m4c50ea3229\" y=\"64.718432\"/>\n    </g>\n   </g>\n   <g id=\"matplotlib.axis_1\">\n    <g id=\"xtick_1\">\n     <g id=\"line2d_1\">\n      <defs>\n       <path d=\"M 0 0 \nL 0 3.5 \n\" id=\"m49064cc3c7\" style=\"stroke:#000000;stroke-width:0.8;\"/>\n      </defs>\n      <g>\n       <use style=\"stroke:#000000;stroke-width:0.8;\" x=\"56.254521\" xlink:href=\"#m49064cc3c7\" y=\"224.64\"/>\n      </g>\n     </g>\n     <g id=\"text_1\">\n      <!-- 7.58 -->\n      <defs>\n       <path d=\"M 8.203125 72.90625 \nL 55.078125 72.90625 \nL 55.078125 68.703125 \nL 28.609375 0 \nL 18.3125 0 \nL 43.21875 64.59375 \nL 8.203125 64.59375 \nz\n\" id=\"DejaVuSans-55\"/>\n       <path d=\"M 10.6875 12.40625 \nL 21 12.40625 \nL 21 0 \nL 10.6875 0 \nz\n\" id=\"DejaVuSans-46\"/>\n       <path d=\"M 10.796875 72.90625 \nL 49.515625 72.90625 \nL 49.515625 64.59375 \nL 19.828125 64.59375 \nL 19.828125 46.734375 \nQ 21.96875 47.46875 24.109375 47.828125 \nQ 26.265625 48.1875 28.421875 48.1875 \nQ 40.625 48.1875 47.75 41.5 \nQ 54.890625 34.8125 54.890625 23.390625 \nQ 54.890625 11.625 47.5625 5.09375 \nQ 40.234375 -1.421875 26.90625 -1.421875 \nQ 22.3125 -1.421875 17.546875 -0.640625 \nQ 12.796875 0.140625 7.71875 1.703125 \nL 7.71875 11.625 \nQ 12.109375 9.234375 16.796875 8.0625 \nQ 21.484375 6.890625 26.703125 6.890625 \nQ 35.15625 6.890625 40.078125 11.328125 \nQ 45.015625 15.765625 45.015625 23.390625 \nQ 45.015625 31 40.078125 35.4375 \nQ 35.15625 39.890625 26.703125 39.890625 \nQ 22.75 39.890625 18.8125 39.015625 \nQ 14.890625 38.140625 10.796875 36.28125 \nz\n\" id=\"DejaVuSans-53\"/>\n       <path d=\"M 31.78125 34.625 \nQ 24.75 34.625 20.71875 30.859375 \nQ 16.703125 27.09375 16.703125 20.515625 \nQ 16.703125 13.921875 20.71875 10.15625 \nQ 24.75 6.390625 31.78125 6.390625 \nQ 38.8125 6.390625 42.859375 10.171875 \nQ 46.921875 13.96875 46.921875 20.515625 \nQ 46.921875 27.09375 42.890625 30.859375 \nQ 38.875 34.625 31.78125 34.625 \nz\nM 21.921875 38.8125 \nQ 15.578125 40.375 12.03125 44.71875 \nQ 8.5 49.078125 8.5 55.328125 \nQ 8.5 64.0625 14.71875 69.140625 \nQ 20.953125 74.21875 31.78125 74.21875 \nQ 42.671875 74.21875 48.875 69.140625 \nQ 55.078125 64.0625 55.078125 55.328125 \nQ 55.078125 49.078125 51.53125 44.71875 \nQ 48 40.375 41.703125 38.8125 \nQ 48.828125 37.15625 52.796875 32.3125 \nQ 56.78125 27.484375 56.78125 20.515625 \nQ 56.78125 9.90625 50.3125 4.234375 \nQ 43.84375 -1.421875 31.78125 -1.421875 \nQ 19.734375 -1.421875 13.25 4.234375 \nQ 6.78125 9.90625 6.78125 20.515625 \nQ 6.78125 27.484375 10.78125 32.3125 \nQ 14.796875 37.15625 21.921875 38.8125 \nz\nM 18.3125 54.390625 \nQ 18.3125 48.734375 21.84375 45.5625 \nQ 25.390625 42.390625 31.78125 42.390625 \nQ 38.140625 42.390625 41.71875 45.5625 \nQ 45.3125 48.734375 45.3125 54.390625 \nQ 45.3125 60.0625 41.71875 63.234375 \nQ 38.140625 66.40625 31.78125 66.40625 \nQ 25.390625 66.40625 21.84375 63.234375 \nQ 18.3125 60.0625 18.3125 54.390625 \nz\n\" id=\"DejaVuSans-56\"/>\n      </defs>\n      <g transform=\"translate(45.121708 239.238438)scale(0.1 -0.1)\">\n       <use xlink:href=\"#DejaVuSans-55\"/>\n       <use x=\"63.623047\" xlink:href=\"#DejaVuSans-46\"/>\n       <use x=\"95.410156\" xlink:href=\"#DejaVuSans-53\"/>\n       <use x=\"159.033203\" xlink:href=\"#DejaVuSans-56\"/>\n      </g>\n     </g>\n    </g>\n    <g id=\"xtick_2\">\n     <g id=\"line2d_2\">\n      <g>\n       <use style=\"stroke:#000000;stroke-width:0.8;\" x=\"124.208597\" xlink:href=\"#m49064cc3c7\" y=\"224.64\"/>\n      </g>\n     </g>\n     <g id=\"text_2\">\n      <!-- 7.60 -->\n      <defs>\n       <path d=\"M 33.015625 40.375 \nQ 26.375 40.375 22.484375 35.828125 \nQ 18.609375 31.296875 18.609375 23.390625 \nQ 18.609375 15.53125 22.484375 10.953125 \nQ 26.375 6.390625 33.015625 6.390625 \nQ 39.65625 6.390625 43.53125 10.953125 \nQ 47.40625 15.53125 47.40625 23.390625 \nQ 47.40625 31.296875 43.53125 35.828125 \nQ 39.65625 40.375 33.015625 40.375 \nz\nM 52.59375 71.296875 \nL 52.59375 62.3125 \nQ 48.875 64.0625 45.09375 64.984375 \nQ 41.3125 65.921875 37.59375 65.921875 \nQ 27.828125 65.921875 22.671875 59.328125 \nQ 17.53125 52.734375 16.796875 39.40625 \nQ 19.671875 43.65625 24.015625 45.921875 \nQ 28.375 48.1875 33.59375 48.1875 \nQ 44.578125 48.1875 50.953125 41.515625 \nQ 57.328125 34.859375 57.328125 23.390625 \nQ 57.328125 12.15625 50.6875 5.359375 \nQ 44.046875 -1.421875 33.015625 -1.421875 \nQ 20.359375 -1.421875 13.671875 8.265625 \nQ 6.984375 17.96875 6.984375 36.375 \nQ 6.984375 53.65625 15.1875 63.9375 \nQ 23.390625 74.21875 37.203125 74.21875 \nQ 40.921875 74.21875 44.703125 73.484375 \nQ 48.484375 72.75 52.59375 71.296875 \nz\n\" id=\"DejaVuSans-54\"/>\n       <path d=\"M 31.78125 66.40625 \nQ 24.171875 66.40625 20.328125 58.90625 \nQ 16.5 51.421875 16.5 36.375 \nQ 16.5 21.390625 20.328125 13.890625 \nQ 24.171875 6.390625 31.78125 6.390625 \nQ 39.453125 6.390625 43.28125 13.890625 \nQ 47.125 21.390625 47.125 36.375 \nQ 47.125 51.421875 43.28125 58.90625 \nQ 39.453125 66.40625 31.78125 66.40625 \nz\nM 31.78125 74.21875 \nQ 44.046875 74.21875 50.515625 64.515625 \nQ 56.984375 54.828125 56.984375 36.375 \nQ 56.984375 17.96875 50.515625 8.265625 \nQ 44.046875 -1.421875 31.78125 -1.421875 \nQ 19.53125 -1.421875 13.0625 8.265625 \nQ 6.59375 17.96875 6.59375 36.375 \nQ 6.59375 54.828125 13.0625 64.515625 \nQ 19.53125 74.21875 31.78125 74.21875 \nz\n\" id=\"DejaVuSans-48\"/>\n      </defs>\n      <g transform=\"translate(113.075785 239.238438)scale(0.1 -0.1)\">\n       <use xlink:href=\"#DejaVuSans-55\"/>\n       <use x=\"63.623047\" xlink:href=\"#DejaVuSans-46\"/>\n       <use x=\"95.410156\" xlink:href=\"#DejaVuSans-54\"/>\n       <use x=\"159.033203\" xlink:href=\"#DejaVuSans-48\"/>\n      </g>\n     </g>\n    </g>\n   </g>\n   <g id=\"matplotlib.axis_2\">\n    <g id=\"ytick_1\">\n     <g id=\"line2d_3\">\n      <defs>\n       <path d=\"M 0 0 \nL -3.5 0 \n\" id=\"m7de7b752f3\" style=\"stroke:#000000;stroke-width:0.8;\"/>\n      </defs>\n      <g>\n       <use style=\"stroke:#000000;stroke-width:0.8;\" x=\"42.828125\" xlink:href=\"#m7de7b752f3\" y=\"218.744368\"/>\n      </g>\n     </g>\n     <g id=\"text_3\">\n      <!-- 51.92 -->\n      <defs>\n       <path d=\"M 12.40625 8.296875 \nL 28.515625 8.296875 \nL 28.515625 63.921875 \nL 10.984375 60.40625 \nL 10.984375 69.390625 \nL 28.421875 72.90625 \nL 38.28125 72.90625 \nL 38.28125 8.296875 \nL 54.390625 8.296875 \nL 54.390625 0 \nL 12.40625 0 \nz\n\" id=\"DejaVuSans-49\"/>\n       <path d=\"M 10.984375 1.515625 \nL 10.984375 10.5 \nQ 14.703125 8.734375 18.5 7.8125 \nQ 22.3125 6.890625 25.984375 6.890625 \nQ 35.75 6.890625 40.890625 13.453125 \nQ 46.046875 20.015625 46.78125 33.40625 \nQ 43.953125 29.203125 39.59375 26.953125 \nQ 35.25 24.703125 29.984375 24.703125 \nQ 19.046875 24.703125 12.671875 31.3125 \nQ 6.296875 37.9375 6.296875 49.421875 \nQ 6.296875 60.640625 12.9375 67.421875 \nQ 19.578125 74.21875 30.609375 74.21875 \nQ 43.265625 74.21875 49.921875 64.515625 \nQ 56.59375 54.828125 56.59375 36.375 \nQ 56.59375 19.140625 48.40625 8.859375 \nQ 40.234375 -1.421875 26.421875 -1.421875 \nQ 22.703125 -1.421875 18.890625 -0.6875 \nQ 15.09375 0.046875 10.984375 1.515625 \nz\nM 30.609375 32.421875 \nQ 37.25 32.421875 41.125 36.953125 \nQ 45.015625 41.5 45.015625 49.421875 \nQ 45.015625 57.28125 41.125 61.84375 \nQ 37.25 66.40625 30.609375 66.40625 \nQ 23.96875 66.40625 20.09375 61.84375 \nQ 16.21875 57.28125 16.21875 49.421875 \nQ 16.21875 41.5 20.09375 36.953125 \nQ 23.96875 32.421875 30.609375 32.421875 \nz\n\" id=\"DejaVuSans-57\"/>\n       <path d=\"M 19.1875 8.296875 \nL 53.609375 8.296875 \nL 53.609375 0 \nL 7.328125 0 \nL 7.328125 8.296875 \nQ 12.9375 14.109375 22.625 23.890625 \nQ 32.328125 33.6875 34.8125 36.53125 \nQ 39.546875 41.84375 41.421875 45.53125 \nQ 43.3125 49.21875 43.3125 52.78125 \nQ 43.3125 58.59375 39.234375 62.25 \nQ 35.15625 65.921875 28.609375 65.921875 \nQ 23.96875 65.921875 18.8125 64.3125 \nQ 13.671875 62.703125 7.8125 59.421875 \nL 7.8125 69.390625 \nQ 13.765625 71.78125 18.9375 73 \nQ 24.125 74.21875 28.421875 74.21875 \nQ 39.75 74.21875 46.484375 68.546875 \nQ 53.21875 62.890625 53.21875 53.421875 \nQ 53.21875 48.921875 51.53125 44.890625 \nQ 49.859375 40.875 45.40625 35.40625 \nQ 44.1875 33.984375 37.640625 27.21875 \nQ 31.109375 20.453125 19.1875 8.296875 \nz\n\" id=\"DejaVuSans-50\"/>\n      </defs>\n      <g transform=\"translate(7.2 222.543587)scale(0.1 -0.1)\">\n       <use xlink:href=\"#DejaVuSans-53\"/>\n       <use x=\"63.623047\" xlink:href=\"#DejaVuSans-49\"/>\n       <use x=\"127.246094\" xlink:href=\"#DejaVuSans-46\"/>\n       <use x=\"159.033203\" xlink:href=\"#DejaVuSans-57\"/>\n       <use x=\"222.65625\" xlink:href=\"#DejaVuSans-50\"/>\n      </g>\n     </g>\n    </g>\n    <g id=\"ytick_2\">\n     <g id=\"line2d_4\">\n      <g>\n       <use style=\"stroke:#000000;stroke-width:0.8;\" x=\"42.828125\" xlink:href=\"#m7de7b752f3\" y=\"184.767329\"/>\n      </g>\n     </g>\n     <g id=\"text_4\">\n      <!-- 51.93 -->\n      <defs>\n       <path d=\"M 40.578125 39.3125 \nQ 47.65625 37.796875 51.625 33 \nQ 55.609375 28.21875 55.609375 21.1875 \nQ 55.609375 10.40625 48.1875 4.484375 \nQ 40.765625 -1.421875 27.09375 -1.421875 \nQ 22.515625 -1.421875 17.65625 -0.515625 \nQ 12.796875 0.390625 7.625 2.203125 \nL 7.625 11.71875 \nQ 11.71875 9.328125 16.59375 8.109375 \nQ 21.484375 6.890625 26.8125 6.890625 \nQ 36.078125 6.890625 40.9375 10.546875 \nQ 45.796875 14.203125 45.796875 21.1875 \nQ 45.796875 27.640625 41.28125 31.265625 \nQ 36.765625 34.90625 28.71875 34.90625 \nL 20.21875 34.90625 \nL 20.21875 43.015625 \nL 29.109375 43.015625 \nQ 36.375 43.015625 40.234375 45.921875 \nQ 44.09375 48.828125 44.09375 54.296875 \nQ 44.09375 59.90625 40.109375 62.90625 \nQ 36.140625 65.921875 28.71875 65.921875 \nQ 24.65625 65.921875 20.015625 65.03125 \nQ 15.375 64.15625 9.8125 62.3125 \nL 9.8125 71.09375 \nQ 15.4375 72.65625 20.34375 73.4375 \nQ 25.25 74.21875 29.59375 74.21875 \nQ 40.828125 74.21875 47.359375 69.109375 \nQ 53.90625 64.015625 53.90625 55.328125 \nQ 53.90625 49.265625 50.4375 45.09375 \nQ 46.96875 40.921875 40.578125 39.3125 \nz\n\" id=\"DejaVuSans-51\"/>\n      </defs>\n      <g transform=\"translate(7.2 188.566548)scale(0.1 -0.1)\">\n       <use xlink:href=\"#DejaVuSans-53\"/>\n       <use x=\"63.623047\" xlink:href=\"#DejaVuSans-49\"/>\n       <use x=\"127.246094\" xlink:href=\"#DejaVuSans-46\"/>\n       <use x=\"159.033203\" xlink:href=\"#DejaVuSans-57\"/>\n       <use x=\"222.65625\" xlink:href=\"#DejaVuSans-51\"/>\n      </g>\n     </g>\n    </g>\n    <g id=\"ytick_3\">\n     <g id=\"line2d_5\">\n      <g>\n       <use style=\"stroke:#000000;stroke-width:0.8;\" x=\"42.828125\" xlink:href=\"#m7de7b752f3\" y=\"150.790291\"/>\n      </g>\n     </g>\n     <g id=\"text_5\">\n      <!-- 51.94 -->\n      <defs>\n       <path d=\"M 37.796875 64.3125 \nL 12.890625 25.390625 \nL 37.796875 25.390625 \nz\nM 35.203125 72.90625 \nL 47.609375 72.90625 \nL 47.609375 25.390625 \nL 58.015625 25.390625 \nL 58.015625 17.1875 \nL 47.609375 17.1875 \nL 47.609375 0 \nL 37.796875 0 \nL 37.796875 17.1875 \nL 4.890625 17.1875 \nL 4.890625 26.703125 \nz\n\" id=\"DejaVuSans-52\"/>\n      </defs>\n      <g transform=\"translate(7.2 154.58951)scale(0.1 -0.1)\">\n       <use xlink:href=\"#DejaVuSans-53\"/>\n       <use x=\"63.623047\" xlink:href=\"#DejaVuSans-49\"/>\n       <use x=\"127.246094\" xlink:href=\"#DejaVuSans-46\"/>\n       <use x=\"159.033203\" xlink:href=\"#DejaVuSans-57\"/>\n       <use x=\"222.65625\" xlink:href=\"#DejaVuSans-52\"/>\n      </g>\n     </g>\n    </g>\n    <g id=\"ytick_4\">\n     <g id=\"line2d_6\">\n      <g>\n       <use style=\"stroke:#000000;stroke-width:0.8;\" x=\"42.828125\" xlink:href=\"#m7de7b752f3\" y=\"116.813253\"/>\n      </g>\n     </g>\n     <g id=\"text_6\">\n      <!-- 51.95 -->\n      <g transform=\"translate(7.2 120.612471)scale(0.1 -0.1)\">\n       <use xlink:href=\"#DejaVuSans-53\"/>\n       <use x=\"63.623047\" xlink:href=\"#DejaVuSans-49\"/>\n       <use x=\"127.246094\" xlink:href=\"#DejaVuSans-46\"/>\n       <use x=\"159.033203\" xlink:href=\"#DejaVuSans-57\"/>\n       <use x=\"222.65625\" xlink:href=\"#DejaVuSans-53\"/>\n      </g>\n     </g>\n    </g>\n    <g id=\"ytick_5\">\n     <g id=\"line2d_7\">\n      <g>\n       <use style=\"stroke:#000000;stroke-width:0.8;\" x=\"42.828125\" xlink:href=\"#m7de7b752f3\" y=\"82.836214\"/>\n      </g>\n     </g>\n     <g id=\"text_7\">\n      <!-- 51.96 -->\n      <g transform=\"translate(7.2 86.635433)scale(0.1 -0.1)\">\n       <use xlink:href=\"#DejaVuSans-53\"/>\n       <use x=\"63.623047\" xlink:href=\"#DejaVuSans-49\"/>\n       <use x=\"127.246094\" xlink:href=\"#DejaVuSans-46\"/>\n       <use x=\"159.033203\" xlink:href=\"#DejaVuSans-57\"/>\n       <use x=\"222.65625\" xlink:href=\"#DejaVuSans-54\"/>\n      </g>\n     </g>\n    </g>\n    <g id=\"ytick_6\">\n     <g id=\"line2d_8\">\n      <g>\n       <use style=\"stroke:#000000;stroke-width:0.8;\" x=\"42.828125\" xlink:href=\"#m7de7b752f3\" y=\"48.859176\"/>\n      </g>\n     </g>\n     <g id=\"text_8\">\n      <!-- 51.97 -->\n      <g transform=\"translate(7.2 52.658394)scale(0.1 -0.1)\">\n       <use xlink:href=\"#DejaVuSans-53\"/>\n       <use x=\"63.623047\" xlink:href=\"#DejaVuSans-49\"/>\n       <use x=\"127.246094\" xlink:href=\"#DejaVuSans-46\"/>\n       <use x=\"159.033203\" xlink:href=\"#DejaVuSans-57\"/>\n       <use x=\"222.65625\" xlink:href=\"#DejaVuSans-55\"/>\n      </g>\n     </g>\n    </g>\n    <g id=\"ytick_7\">\n     <g id=\"line2d_9\">\n      <g>\n       <use style=\"stroke:#000000;stroke-width:0.8;\" x=\"42.828125\" xlink:href=\"#m7de7b752f3\" y=\"14.882137\"/>\n      </g>\n     </g>\n     <g id=\"text_9\">\n      <!-- 51.98 -->\n      <g transform=\"translate(7.2 18.681356)scale(0.1 -0.1)\">\n       <use xlink:href=\"#DejaVuSans-53\"/>\n       <use x=\"63.623047\" xlink:href=\"#DejaVuSans-49\"/>\n       <use x=\"127.246094\" xlink:href=\"#DejaVuSans-46\"/>\n       <use x=\"159.033203\" xlink:href=\"#DejaVuSans-57\"/>\n       <use x=\"222.65625\" xlink:href=\"#DejaVuSans-56\"/>\n      </g>\n     </g>\n    </g>\n   </g>\n   <g id=\"patch_3\">\n    <path d=\"M 42.828125 224.64 \nL 42.828125 7.2 \n\" style=\"fill:none;stroke:#000000;stroke-linecap:square;stroke-linejoin:miter;stroke-width:0.8;\"/>\n   </g>\n   <g id=\"patch_4\">\n    <path d=\"M 182.202168 224.64 \nL 182.202168 7.2 \n\" style=\"fill:none;stroke:#000000;stroke-linecap:square;stroke-linejoin:miter;stroke-width:0.8;\"/>\n   </g>\n   <g id=\"patch_5\">\n    <path d=\"M 42.828125 224.64 \nL 182.202168 224.64 \n\" style=\"fill:none;stroke:#000000;stroke-linecap:square;stroke-linejoin:miter;stroke-width:0.8;\"/>\n   </g>\n   <g id=\"patch_6\">\n    <path d=\"M 42.828125 7.2 \nL 182.202168 7.2 \n\" style=\"fill:none;stroke:#000000;stroke-linecap:square;stroke-linejoin:miter;stroke-width:0.8;\"/>\n   </g>\n  </g>\n </g>\n <defs>\n  <clipPath id=\"peaabca2244\">\n   <rect height=\"217.44\" width=\"139.374043\" x=\"42.828125\" y=\"7.2\"/>\n  </clipPath>\n </defs>\n</svg>\n",
      "image/png": "[encoded data removed]"
     },
     "metadata": {
      "needs_background": "light"
     }
    }
   ],
   "source": [
    "single_track.plot()"
   ]
  },
  {
   "cell_type": "code",
   "execution_count": 8,
   "metadata": {
    "tags": []
   },
   "outputs": [
    {
     "output_type": "stream",
     "name": "stdout",
     "text": "Finished creating 2 trajectories\n"
    },
    {
     "output_type": "execute_result",
     "data": {
      "text/plain": "<movingpandas.trajectory_collection.TrajectoryCollection at 0x1a2a6cf490>"
     },
     "metadata": {},
     "execution_count": 8
    }
   ],
   "source": [
    "trajCollection = preprocessing.trajectoryCollection(track_df, 100)\n",
    "trajCollection"
   ]
  },
  {
   "cell_type": "code",
   "execution_count": 9,
   "metadata": {},
   "outputs": [
    {
     "output_type": "execute_result",
     "data": {
      "text/plain": "'Trajectory 5de9d7a03bdb691868e76540 (2019-11-29 12:24:48 to 2019-11-29 12:36:26) | Size: 138 | Length: 5599.9m\\nBounds: (7.586873513467167, 51.93497064459818, 7.606243337376825, 51.96555515316689)\\nLINESTRING (7.603024148757198 51.93548608427817, 7.602793289474294 51.93574292981515, 7.603176724093'"
     },
     "metadata": {},
     "execution_count": 9
    }
   ],
   "source": [
    "mpdTrack = trajCollection.get_trajectory(single_track_id)\n",
    "str(mpdTrack)"
   ]
  },
  {
   "cell_type": "code",
   "execution_count": 11,
   "metadata": {},
   "outputs": [
    {
     "output_type": "execute_result",
     "data": {
      "text/plain": "910.6903160793698"
     },
     "metadata": {},
     "execution_count": 11
    }
   ],
   "source": [
    "mpdTrack.df['CO2.value'].sum()"
   ]
  },
  {
   "cell_type": "code",
   "execution_count": 12,
   "metadata": {},
   "outputs": [
    {
     "output_type": "execute_result",
     "data": {
      "text/plain": "4036.5750941690058"
     },
     "metadata": {},
     "execution_count": 12
    }
   ],
   "source": [
    "mpdTrack.df['Speed.value'].sum()"
   ]
  },
  {
   "cell_type": "code",
   "execution_count": 13,
   "metadata": {},
   "outputs": [
    {
     "output_type": "execute_result",
     "data": {
      "text/plain": "<movingpandas.trajectory_collection.TrajectoryCollection at 0xb288bc990>"
     },
     "metadata": {},
     "execution_count": 13
    }
   ],
   "source": [
    "generalizedTracks = DouglasPeuckerGeneralizer(trajCollection).generalize(0.001, ['CO2.value', 'Speed.value'])\n",
    "generalizedTracks"
   ]
  },
  {
   "cell_type": "code",
   "execution_count": 14,
   "metadata": {},
   "outputs": [
    {
     "output_type": "execute_result",
     "data": {
      "text/plain": "'Trajectory 5de9d7a03bdb691868e76540 (2019-11-29 12:24:48 to 2019-11-29 12:36:26) | Size: 9 | Length: 5188.2m\\nBounds: (7.586873513467167, 51.93548608427817, 7.606071745059019, 51.965332360706796)\\nLINESTRING (7.603024148757198 51.93548608427817, 7.603189109407566 51.93634398175759, 7.598117393829'"
     },
     "metadata": {},
     "execution_count": 14
    }
   ],
   "source": [
    "# get our single track trajectory from generalized trajectories\n",
    "generalizedMpdTrack = generalizedTracks.get_trajectory(single_track_id)\n",
    "str(generalizedMpdTrack)"
   ]
  },
  {
   "cell_type": "code",
   "execution_count": 15,
   "metadata": {},
   "outputs": [
    {
     "output_type": "execute_result",
     "data": {
      "text/plain": "t\n2019-11-29 12:24:48    True\n2019-11-29 12:25:28    True\n2019-11-29 12:26:45    True\n2019-11-29 12:28:47    True\n2019-11-29 12:29:58    True\n2019-11-29 12:31:30    True\n2019-11-29 12:32:46    True\n2019-11-29 12:34:13    True\n2019-11-29 12:36:26    True\nName: Generalized, dtype: bool"
     },
     "metadata": {},
     "execution_count": 15
    }
   ],
   "source": [
    "generalizedMpdTrack.df['Generalized']"
   ]
  },
  {
   "cell_type": "code",
   "execution_count": 16,
   "metadata": {},
   "outputs": [
    {
     "output_type": "execute_result",
     "data": {
      "text/plain": "t\n2019-11-29 12:24:48    Douglas-Peucker\n2019-11-29 12:25:28    Douglas-Peucker\n2019-11-29 12:26:45    Douglas-Peucker\n2019-11-29 12:28:47    Douglas-Peucker\n2019-11-29 12:29:58    Douglas-Peucker\n2019-11-29 12:31:30    Douglas-Peucker\n2019-11-29 12:32:46    Douglas-Peucker\n2019-11-29 12:34:13    Douglas-Peucker\n2019-11-29 12:36:26    Douglas-Peucker\nName: Generalization.Method, dtype: object"
     },
     "metadata": {},
     "execution_count": 16
    }
   ],
   "source": [
    "generalizedMpdTrack.df['Generalization.Method']"
   ]
  },
  {
   "cell_type": "code",
   "execution_count": 17,
   "metadata": {},
   "outputs": [
    {
     "output_type": "execute_result",
     "data": {
      "text/plain": "t\n2019-11-29 12:24:48    97\n2019-11-29 12:25:28    97\n2019-11-29 12:26:45    97\n2019-11-29 12:28:47    97\n2019-11-29 12:29:58    97\n2019-11-29 12:31:30    97\n2019-11-29 12:32:46    97\n2019-11-29 12:34:13    97\n2019-11-29 12:36:26    97\nName: Generalization.RemovedRowsCount, dtype: int64"
     },
     "metadata": {},
     "execution_count": 17
    }
   ],
   "source": [
    "generalizedMpdTrack.df['Generalization.RemovedRowsCount']"
   ]
  },
  {
   "cell_type": "code",
   "execution_count": null,
   "metadata": {},
   "outputs": [],
   "source": []
  }
 ],
 "metadata": {
  "language_info": {
   "codemirror_mode": {
    "name": "ipython",
    "version": 3
   },
   "file_extension": ".py",
   "mimetype": "text/x-python",
   "name": "python",
   "nbconvert_exporter": "python",
   "pygments_lexer": "ipython3",
   "version": 3
  },
  "orig_nbformat": 2,
  "kernelspec": {
   "name": "python_defaultSpec_1593601457334",
   "display_name": "Python 3.7.6 64-bit ('final': conda)"
  }
 },
 "nbformat": 4,
 "nbformat_minor": 2
}